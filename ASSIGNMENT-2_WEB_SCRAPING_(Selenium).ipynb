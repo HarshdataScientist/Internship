{
 "cells": [
  {
   "cell_type": "markdown",
   "id": "04abf015",
   "metadata": {},
   "source": [
    "                                           WEB SCRAPING – ASSIGNMENT 2"
   ]
  },
  {
   "cell_type": "code",
   "execution_count": 1,
   "id": "dad9a5cf",
   "metadata": {},
   "outputs": [
    {
     "name": "stdout",
     "output_type": "stream",
     "text": [
      "Requirement already satisfied: selenium in c:\\users\\admin\\anaconda3\\lib\\site-packages (4.17.2)\n",
      "Requirement already satisfied: urllib3[socks]<3,>=1.26 in c:\\users\\admin\\anaconda3\\lib\\site-packages (from selenium) (1.26.16)\n",
      "Requirement already satisfied: trio~=0.17 in c:\\users\\admin\\anaconda3\\lib\\site-packages (from selenium) (0.24.0)\n",
      "Requirement already satisfied: trio-websocket~=0.9 in c:\\users\\admin\\anaconda3\\lib\\site-packages (from selenium) (0.11.1)\n",
      "Requirement already satisfied: certifi>=2021.10.8 in c:\\users\\admin\\anaconda3\\lib\\site-packages (from selenium) (2023.7.22)\n",
      "Requirement already satisfied: typing_extensions>=4.9.0 in c:\\users\\admin\\anaconda3\\lib\\site-packages (from selenium) (4.9.0)\n",
      "Requirement already satisfied: attrs>=20.1.0 in c:\\users\\admin\\anaconda3\\lib\\site-packages (from trio~=0.17->selenium) (22.1.0)\n",
      "Requirement already satisfied: sortedcontainers in c:\\users\\admin\\anaconda3\\lib\\site-packages (from trio~=0.17->selenium) (2.4.0)\n",
      "Requirement already satisfied: idna in c:\\users\\admin\\anaconda3\\lib\\site-packages (from trio~=0.17->selenium) (3.4)\n",
      "Requirement already satisfied: outcome in c:\\users\\admin\\anaconda3\\lib\\site-packages (from trio~=0.17->selenium) (1.3.0.post0)\n",
      "Requirement already satisfied: sniffio>=1.3.0 in c:\\users\\admin\\anaconda3\\lib\\site-packages (from trio~=0.17->selenium) (1.3.0)\n",
      "Requirement already satisfied: cffi>=1.14 in c:\\users\\admin\\anaconda3\\lib\\site-packages (from trio~=0.17->selenium) (1.15.1)\n",
      "Requirement already satisfied: wsproto>=0.14 in c:\\users\\admin\\anaconda3\\lib\\site-packages (from trio-websocket~=0.9->selenium) (1.2.0)\n",
      "Requirement already satisfied: PySocks!=1.5.7,<2.0,>=1.5.6 in c:\\users\\admin\\anaconda3\\lib\\site-packages (from urllib3[socks]<3,>=1.26->selenium) (1.7.1)\n",
      "Requirement already satisfied: pycparser in c:\\users\\admin\\anaconda3\\lib\\site-packages (from cffi>=1.14->trio~=0.17->selenium) (2.21)\n",
      "Requirement already satisfied: h11<1,>=0.9.0 in c:\\users\\admin\\anaconda3\\lib\\site-packages (from wsproto>=0.14->trio-websocket~=0.9->selenium) (0.14.0)\n"
     ]
    }
   ],
   "source": [
    "!pip install selenium"
   ]
  },
  {
   "cell_type": "code",
   "execution_count": 2,
   "id": "b652591a",
   "metadata": {},
   "outputs": [],
   "source": [
    "import selenium\n",
    "import pandas as pd\n",
    "from selenium import webdriver\n",
    "import warnings\n",
    "warnings.filterwarnings('ignore')\n",
    "from selenium.webdriver.common.by import By\n",
    "import time"
   ]
  },
  {
   "cell_type": "code",
   "execution_count": 153,
   "id": "53c01abd",
   "metadata": {},
   "outputs": [],
   "source": [
    "driver = webdriver.Chrome()"
   ]
  },
  {
   "cell_type": "markdown",
   "id": "4045fd87",
   "metadata": {},
   "source": [
    "Q1: Write a python program to scrape data for “Data Analyst” Job position in “Bangalore” location. You\n",
    "have to scrape the job-title, job-location, company_name, experience_required. You have to scrape first 10\n",
    "jobs data.\n",
    "This task will be done in following steps:\n",
    "1. First get the webpage https://www.shine.com/\n",
    "2. Enter “Data Analyst” in “Job title, Skills” field and enter “Bangalore” in “enter the location” field.\n",
    "3. Then click the searchbutton.\n",
    "4. Then scrape the data for the first 10 jobs results you get.\n",
    "5. Finally create a dataframe of the scraped data.\n"
   ]
  },
  {
   "cell_type": "code",
   "execution_count": 29,
   "id": "efb67a96",
   "metadata": {},
   "outputs": [],
   "source": [
    "driver.get(\"https://www.shine.com/\")"
   ]
  },
  {
   "cell_type": "code",
   "execution_count": 33,
   "id": "3a72d8d7",
   "metadata": {},
   "outputs": [],
   "source": [
    "Job = driver.find_element(By.CLASS_NAME,\"form-control  \")\n",
    "Job.send_keys('Data Analyst')"
   ]
  },
  {
   "cell_type": "code",
   "execution_count": 34,
   "id": "408d412d",
   "metadata": {},
   "outputs": [],
   "source": [
    "Loc = driver.find_element(By.XPATH,\"/html/body/div/div[4]/div/div[2]/div[2]/div/form/div/div[1]/ul/li[2]/div/input\")\n",
    "Loc.send_keys('Bangalore')"
   ]
  },
  {
   "cell_type": "code",
   "execution_count": 36,
   "id": "b6168e69",
   "metadata": {},
   "outputs": [],
   "source": [
    "search = driver.find_element(By.XPATH,\"/html/body/div/div[4]/div/div[2]/div[2]/div[1]/form/div/div[2]/div/button\")\n",
    "search.click()"
   ]
  },
  {
   "cell_type": "code",
   "execution_count": 37,
   "id": "7b74f08d",
   "metadata": {},
   "outputs": [],
   "source": [
    "Job_title = []\n",
    "Job_Location = []\n",
    "Company_Name = []\n",
    "Experience_required = []"
   ]
  },
  {
   "cell_type": "code",
   "execution_count": 38,
   "id": "c03a28b9",
   "metadata": {},
   "outputs": [],
   "source": [
    "title = driver.find_elements(By.XPATH,'//h2[@itemprop=\"name\"]')\n",
    "for i in title:\n",
    "    Title=i.text\n",
    "    Job_title.append(Title)"
   ]
  },
  {
   "cell_type": "code",
   "execution_count": 39,
   "id": "d59376b3",
   "metadata": {},
   "outputs": [],
   "source": [
    "location = driver.find_elements(By.XPATH,'//div[@class=\" jobCard_jobCard_lists_item__YxRkV jobCard_locationIcon__zrWt2\"]')\n",
    "for i in location:\n",
    "    Location = i.text\n",
    "    Job_Location.append(Location)"
   ]
  },
  {
   "cell_type": "code",
   "execution_count": 40,
   "id": "5b6177d3",
   "metadata": {},
   "outputs": [],
   "source": [
    "name = driver.find_elements(By.XPATH,'//div[@class=\"jobCard_jobCard_cName__mYnow\"]')\n",
    "for i in name:\n",
    "    Name= i.text\n",
    "    Company_Name.append(Name)"
   ]
  },
  {
   "cell_type": "code",
   "execution_count": 41,
   "id": "258c4d5a",
   "metadata": {},
   "outputs": [],
   "source": [
    "exp = driver.find_elements(By.XPATH,'//div[@class=\" jobCard_jobCard_lists_item__YxRkV jobCard_jobIcon__3FB1t\"]')\n",
    "for i in exp:\n",
    "    Experience = i.text\n",
    "    Experience_required.append(Experience)"
   ]
  },
  {
   "cell_type": "code",
   "execution_count": 42,
   "id": "15effa9b",
   "metadata": {},
   "outputs": [],
   "source": [
    "Job =({\"Job Title\":Job_title[:10],\n",
    "       \"Job Location\":Job_Location[:10],\n",
    "       \"Company Name\":Company_Name[:10],\n",
    "       \"Experience Required\":Experience_required[:10]})"
   ]
  },
  {
   "cell_type": "code",
   "execution_count": 43,
   "id": "a7bc2acc",
   "metadata": {},
   "outputs": [],
   "source": [
    "df = pd.DataFrame(Job)\n"
   ]
  },
  {
   "cell_type": "code",
   "execution_count": 44,
   "id": "07ec45fe",
   "metadata": {},
   "outputs": [
    {
     "data": {
      "text/html": [
       "<div>\n",
       "<style scoped>\n",
       "    .dataframe tbody tr th:only-of-type {\n",
       "        vertical-align: middle;\n",
       "    }\n",
       "\n",
       "    .dataframe tbody tr th {\n",
       "        vertical-align: top;\n",
       "    }\n",
       "\n",
       "    .dataframe thead th {\n",
       "        text-align: right;\n",
       "    }\n",
       "</style>\n",
       "<table border=\"1\" class=\"dataframe\">\n",
       "  <thead>\n",
       "    <tr style=\"text-align: right;\">\n",
       "      <th></th>\n",
       "      <th>Job Title</th>\n",
       "      <th>Job Location</th>\n",
       "      <th>Company Name</th>\n",
       "      <th>Experience Required</th>\n",
       "    </tr>\n",
       "  </thead>\n",
       "  <tbody>\n",
       "    <tr>\n",
       "      <th>0</th>\n",
       "      <td>Lead Data Analyst</td>\n",
       "      <td>Bangalore</td>\n",
       "      <td>ara resources private limited</td>\n",
       "      <td>4 to 9 Yrs</td>\n",
       "    </tr>\n",
       "    <tr>\n",
       "      <th>1</th>\n",
       "      <td>Data Analyst</td>\n",
       "      <td>Bangalore\\n+3</td>\n",
       "      <td>diraa hr services hiring for mncs</td>\n",
       "      <td>0 to 1 Yr</td>\n",
       "    </tr>\n",
       "    <tr>\n",
       "      <th>2</th>\n",
       "      <td>Vacancy For Data Analyst</td>\n",
       "      <td>Bangalore\\n+14</td>\n",
       "      <td>yogita staffing solution</td>\n",
       "      <td>0 to 3 Yrs</td>\n",
       "    </tr>\n",
       "    <tr>\n",
       "      <th>3</th>\n",
       "      <td>Data Management</td>\n",
       "      <td>Bangalore\\n+18</td>\n",
       "      <td>future solution centre</td>\n",
       "      <td>15 to &gt;25 Yrs</td>\n",
       "    </tr>\n",
       "    <tr>\n",
       "      <th>4</th>\n",
       "      <td>Clinical Data Analyst</td>\n",
       "      <td>Bangalore\\n+6</td>\n",
       "      <td>techno endura</td>\n",
       "      <td>0 to 1 Yr</td>\n",
       "    </tr>\n",
       "    <tr>\n",
       "      <th>5</th>\n",
       "      <td>Data Modeler data</td>\n",
       "      <td>Bangalore</td>\n",
       "      <td>boyen haddin consulting and technol...</td>\n",
       "      <td>3 to 6 Yrs</td>\n",
       "    </tr>\n",
       "    <tr>\n",
       "      <th>6</th>\n",
       "      <td>Data Engineer Ii</td>\n",
       "      <td>Bangalore\\n+9</td>\n",
       "      <td>v-tech data outsourcing</td>\n",
       "      <td>0 to 1 Yr</td>\n",
       "    </tr>\n",
       "    <tr>\n",
       "      <th>7</th>\n",
       "      <td>Full time Opportunity-Networking Advisor-Cisco...</td>\n",
       "      <td>Bangalore\\n+5</td>\n",
       "      <td>ntt data information processing ser...</td>\n",
       "      <td>10 to 20 Yrs</td>\n",
       "    </tr>\n",
       "    <tr>\n",
       "      <th>8</th>\n",
       "      <td>Data Modeller</td>\n",
       "      <td>Bangalore</td>\n",
       "      <td>boyen haddin consulting and technol...</td>\n",
       "      <td>3 to 6 Yrs</td>\n",
       "    </tr>\n",
       "    <tr>\n",
       "      <th>9</th>\n",
       "      <td>Data Modeler Bangalore</td>\n",
       "      <td>Bangalore</td>\n",
       "      <td>boyen haddin consulting and technol...</td>\n",
       "      <td>3 to 6 Yrs</td>\n",
       "    </tr>\n",
       "  </tbody>\n",
       "</table>\n",
       "</div>"
      ],
      "text/plain": [
       "                                           Job Title    Job Location  \\\n",
       "0                                  Lead Data Analyst       Bangalore   \n",
       "1                                       Data Analyst   Bangalore\\n+3   \n",
       "2                           Vacancy For Data Analyst  Bangalore\\n+14   \n",
       "3                                    Data Management  Bangalore\\n+18   \n",
       "4                              Clinical Data Analyst   Bangalore\\n+6   \n",
       "5                                  Data Modeler data       Bangalore   \n",
       "6                                   Data Engineer Ii   Bangalore\\n+9   \n",
       "7  Full time Opportunity-Networking Advisor-Cisco...   Bangalore\\n+5   \n",
       "8                                      Data Modeller       Bangalore   \n",
       "9                             Data Modeler Bangalore       Bangalore   \n",
       "\n",
       "                             Company Name Experience Required  \n",
       "0           ara resources private limited          4 to 9 Yrs  \n",
       "1       diraa hr services hiring for mncs           0 to 1 Yr  \n",
       "2                yogita staffing solution          0 to 3 Yrs  \n",
       "3                  future solution centre       15 to >25 Yrs  \n",
       "4                           techno endura           0 to 1 Yr  \n",
       "5  boyen haddin consulting and technol...          3 to 6 Yrs  \n",
       "6                 v-tech data outsourcing           0 to 1 Yr  \n",
       "7  ntt data information processing ser...        10 to 20 Yrs  \n",
       "8  boyen haddin consulting and technol...          3 to 6 Yrs  \n",
       "9  boyen haddin consulting and technol...          3 to 6 Yrs  "
      ]
     },
     "execution_count": 44,
     "metadata": {},
     "output_type": "execute_result"
    }
   ],
   "source": [
    "df"
   ]
  },
  {
   "cell_type": "markdown",
   "id": "95238c84",
   "metadata": {},
   "source": [
    "Q2:Write a python program to scrape data for “Data Scientist” Job position in“Bangalore” location. You\n",
    "have to scrape the job-title, job-location, company_name. You have to scrape first 10 jobs data.\n",
    "This task will be done in following steps:\n",
    "1. First get the webpage https://www.shine.com/\n",
    "2. Enter “Data Scientist” in “Job title, Skills” field and enter “Bangalore” in “enter thelocation” field.\n",
    "3. Then click the search button.\n",
    "4. Then scrape the data for the first 10 jobs results you get.\n",
    "5. Finally create a dataframe of the scraped data."
   ]
  },
  {
   "cell_type": "code",
   "execution_count": 115,
   "id": "d1e563a1",
   "metadata": {},
   "outputs": [],
   "source": [
    "driver.get(\"https://www.shine.com/\")"
   ]
  },
  {
   "cell_type": "code",
   "execution_count": 116,
   "id": "d50362f5",
   "metadata": {},
   "outputs": [],
   "source": [
    "job = driver.find_element(By.XPATH,\"/html/body/div/div[4]/div/div[2]/div[2]/div/form/div/div[1]/ul/li[1]/div/input\")\n",
    "job.send_keys('Data Scientist')"
   ]
  },
  {
   "cell_type": "code",
   "execution_count": 48,
   "id": "4a944de1",
   "metadata": {},
   "outputs": [],
   "source": [
    "loc = driver.find_element(By.XPATH,\"/html/body/div/div[4]/div/div[2]/div[2]/div/form/div/div[1]/ul/li[2]/div/input\")\n",
    "loc.send_keys('Bangalore')"
   ]
  },
  {
   "cell_type": "code",
   "execution_count": 50,
   "id": "356bdc01",
   "metadata": {},
   "outputs": [],
   "source": [
    "Search = driver.find_element(By.XPATH,\"/html/body/div/div[4]/div/div[2]/div[2]/div/form/div/div[2]/div/button\")\n",
    "Search.click()"
   ]
  },
  {
   "cell_type": "code",
   "execution_count": 51,
   "id": "dc5d5e23",
   "metadata": {},
   "outputs": [],
   "source": [
    "Job_title = []\n",
    "Job_Location = []\n",
    "Company_Name = []"
   ]
  },
  {
   "cell_type": "code",
   "execution_count": 52,
   "id": "62cc0ad5",
   "metadata": {},
   "outputs": [],
   "source": [
    "Name = driver.find_elements(By.XPATH,'//h2[@itemprop=\"name\"]')\n",
    "for i in Name:\n",
    "    name = i.text\n",
    "    Job_title.append(name)"
   ]
  },
  {
   "cell_type": "code",
   "execution_count": 53,
   "id": "8a2d055c",
   "metadata": {},
   "outputs": [],
   "source": [
    "Com_name = driver.find_elements(By.XPATH,'//div[@class=\"jobCard_jobCard_cName__mYnow\"]/span')\n",
    "for i in Com_name:\n",
    "    name = i.text\n",
    "    Company_Name.append(name)"
   ]
  },
  {
   "cell_type": "code",
   "execution_count": 54,
   "id": "a7aefc8f",
   "metadata": {},
   "outputs": [],
   "source": [
    "Loc = driver.find_elements(By.XPATH,'//div[@class=\" jobCard_jobCard_lists_item__YxRkV jobCard_locationIcon__zrWt2\"]')\n",
    "for i in Loc:\n",
    "    Location = i.text\n",
    "    Job_Location.append(Location)"
   ]
  },
  {
   "cell_type": "code",
   "execution_count": 55,
   "id": "28dd6ce0",
   "metadata": {},
   "outputs": [],
   "source": [
    "Data = ({\"Job Title\":Job_title[:10],\n",
    "        \"Job Location\":Job_Location[:10],\n",
    "        \"Company Name\":Company_Name[:10]})"
   ]
  },
  {
   "cell_type": "code",
   "execution_count": 56,
   "id": "205c95ab",
   "metadata": {},
   "outputs": [],
   "source": [
    "Df = pd.DataFrame(Data)"
   ]
  },
  {
   "cell_type": "code",
   "execution_count": 57,
   "id": "304aea5f",
   "metadata": {},
   "outputs": [
    {
     "data": {
      "text/html": [
       "<div>\n",
       "<style scoped>\n",
       "    .dataframe tbody tr th:only-of-type {\n",
       "        vertical-align: middle;\n",
       "    }\n",
       "\n",
       "    .dataframe tbody tr th {\n",
       "        vertical-align: top;\n",
       "    }\n",
       "\n",
       "    .dataframe thead th {\n",
       "        text-align: right;\n",
       "    }\n",
       "</style>\n",
       "<table border=\"1\" class=\"dataframe\">\n",
       "  <thead>\n",
       "    <tr style=\"text-align: right;\">\n",
       "      <th></th>\n",
       "      <th>Job Title</th>\n",
       "      <th>Job Location</th>\n",
       "      <th>Company Name</th>\n",
       "    </tr>\n",
       "  </thead>\n",
       "  <tbody>\n",
       "    <tr>\n",
       "      <th>0</th>\n",
       "      <td>Data Scientist Recruitment</td>\n",
       "      <td>Bangalore\\n+15</td>\n",
       "      <td>renuka interprises</td>\n",
       "    </tr>\n",
       "    <tr>\n",
       "      <th>1</th>\n",
       "      <td>Data Scientist Recruitment</td>\n",
       "      <td>Bangalore\\n+15</td>\n",
       "      <td>renuka interprises</td>\n",
       "    </tr>\n",
       "    <tr>\n",
       "      <th>2</th>\n",
       "      <td>Data Scientist</td>\n",
       "      <td>Bangalore\\n+4</td>\n",
       "      <td>acme services private limited</td>\n",
       "    </tr>\n",
       "    <tr>\n",
       "      <th>3</th>\n",
       "      <td>Data Scientist</td>\n",
       "      <td>Bangalore</td>\n",
       "      <td>ltimindtree limited</td>\n",
       "    </tr>\n",
       "    <tr>\n",
       "      <th>4</th>\n",
       "      <td>Lead Data Scientist/ Principal Data Scientist</td>\n",
       "      <td>Bangalore\\n+1</td>\n",
       "      <td>fractal</td>\n",
       "    </tr>\n",
       "    <tr>\n",
       "      <th>5</th>\n",
       "      <td>Senior Data Scientist</td>\n",
       "      <td>Bangalore\\n+1</td>\n",
       "      <td>neostats</td>\n",
       "    </tr>\n",
       "    <tr>\n",
       "      <th>6</th>\n",
       "      <td>Vacancy For Data Scientist Fresher and Experience</td>\n",
       "      <td>Bangalore\\n+14</td>\n",
       "      <td>yogita staffing solution</td>\n",
       "    </tr>\n",
       "    <tr>\n",
       "      <th>7</th>\n",
       "      <td>Lead Data Scientist</td>\n",
       "      <td>Bangalore\\n+1</td>\n",
       "      <td>aereo</td>\n",
       "    </tr>\n",
       "    <tr>\n",
       "      <th>8</th>\n",
       "      <td>Data Scientist</td>\n",
       "      <td>Bangalore\\n+7</td>\n",
       "      <td>people staffing solutions</td>\n",
       "    </tr>\n",
       "    <tr>\n",
       "      <th>9</th>\n",
       "      <td>Data Scientist Urgent Vacancy</td>\n",
       "      <td>Bangalore\\n+14</td>\n",
       "      <td>yogita staffing solution</td>\n",
       "    </tr>\n",
       "  </tbody>\n",
       "</table>\n",
       "</div>"
      ],
      "text/plain": [
       "                                           Job Title    Job Location  \\\n",
       "0                         Data Scientist Recruitment  Bangalore\\n+15   \n",
       "1                         Data Scientist Recruitment  Bangalore\\n+15   \n",
       "2                                     Data Scientist   Bangalore\\n+4   \n",
       "3                                     Data Scientist       Bangalore   \n",
       "4      Lead Data Scientist/ Principal Data Scientist   Bangalore\\n+1   \n",
       "5                              Senior Data Scientist   Bangalore\\n+1   \n",
       "6  Vacancy For Data Scientist Fresher and Experience  Bangalore\\n+14   \n",
       "7                                Lead Data Scientist   Bangalore\\n+1   \n",
       "8                                     Data Scientist   Bangalore\\n+7   \n",
       "9                      Data Scientist Urgent Vacancy  Bangalore\\n+14   \n",
       "\n",
       "                    Company Name  \n",
       "0             renuka interprises  \n",
       "1             renuka interprises  \n",
       "2  acme services private limited  \n",
       "3            ltimindtree limited  \n",
       "4                        fractal  \n",
       "5                       neostats  \n",
       "6       yogita staffing solution  \n",
       "7                          aereo  \n",
       "8      people staffing solutions  \n",
       "9       yogita staffing solution  "
      ]
     },
     "execution_count": 57,
     "metadata": {},
     "output_type": "execute_result"
    }
   ],
   "source": [
    "Df"
   ]
  },
  {
   "cell_type": "markdown",
   "id": "9b741d03",
   "metadata": {},
   "source": [
    "Q3: In this question you have to scrape data using the filters available on the webpage \n",
    " You have to use the location and salary filter.\n",
    "You have to scrape data for “Data Scientist” designation for first 10 job results.\n",
    "You have to scrape the job-title, job-location, company name, experience required.\n",
    "The location filter to be used is “Delhi/NCR”. The salary filter to be used is “3-6” lakhs\n",
    "The task will be done as shown in the below steps:\n",
    "1. first get the web page https://www.shine.com/\n",
    "2. Enter “Data Scientist” in “Skill, Designations, and Companies” field.\n",
    "3. Then click the search button.\n",
    "4. Then apply the location filter and salary filter by checking the respective boxes\n",
    "5. Then scrape the data for the first 10 jobs results you get.\n",
    "6. Finally create a dataframe of the scrapeddata."
   ]
  },
  {
   "cell_type": "code",
   "execution_count": 4,
   "id": "1a74cced",
   "metadata": {},
   "outputs": [],
   "source": [
    "driver.get(\"https://www.shine.com/\")"
   ]
  },
  {
   "cell_type": "code",
   "execution_count": 8,
   "id": "acf3f150",
   "metadata": {},
   "outputs": [],
   "source": [
    "job = driver.find_element(By.XPATH,\"/html/body/div/div[4]/div/div[2]/div[2]/div/form/div/div[1]/ul/li[1]/div/input\")\n",
    "job.send_keys('Data Scientist')"
   ]
  },
  {
   "cell_type": "code",
   "execution_count": 10,
   "id": "436c99ad",
   "metadata": {},
   "outputs": [],
   "source": [
    "Search = driver.find_element(By.XPATH,\"/html/body/div/div[4]/div/div[2]/div[2]/div/form/div/div[2]/div/button\")\n",
    "Search.click()"
   ]
  },
  {
   "cell_type": "code",
   "execution_count": 26,
   "id": "e55568ef",
   "metadata": {},
   "outputs": [],
   "source": [
    "Filter_1 = driver.find_element(By.XPATH,\"/html/body/div[1]/div[1]/div[3]/div/div[1]/div/div[2]/div/ul/li[1]/button\")\n",
    "Filter_1.click()"
   ]
  },
  {
   "cell_type": "code",
   "execution_count": 29,
   "id": "98010409",
   "metadata": {},
   "outputs": [],
   "source": [
    "Loc_Fil = driver.find_element(By.XPATH,\"/html/body/div[3]/div/div/div/div[3]/div/div/div/ul/li[13]/span/label\")\n",
    "Loc_Fil.click()\n",
    "Next = driver.find_element(By.XPATH,\"/html/body/div[3]/div/div/div/div[4]/button[2]\")\n",
    "Next.click()"
   ]
  },
  {
   "cell_type": "code",
   "execution_count": 36,
   "id": "92f013df",
   "metadata": {},
   "outputs": [],
   "source": [
    "Filter_2 = driver.find_element(By.XPATH,\"/html/body/div[1]/div[1]/div[3]/div/div/div/div[2]/div/ul/li[3]/button\")\n",
    "Filter_2.click()"
   ]
  },
  {
   "cell_type": "code",
   "execution_count": 39,
   "id": "3878ecb8",
   "metadata": {},
   "outputs": [],
   "source": [
    "salary = driver.find_element(By.XPATH,\"/html/body/div[3]/div/div/div/div[3]/div/div/div/ul/li[3]/span/label\")\n",
    "salary.click()\n",
    "Next_1 = driver.find_element(By.XPATH,\"/html/body/div[3]/div/div/div/div[4]/button[2]\")\n",
    "Next_1.click()"
   ]
  },
  {
   "cell_type": "code",
   "execution_count": 49,
   "id": "aa691c22",
   "metadata": {},
   "outputs": [],
   "source": [
    "Job_title_1 = []\n",
    "Job_Location_1 = []\n",
    "Company_Name_1 = []\n",
    "Experience_required_1 = []"
   ]
  },
  {
   "cell_type": "code",
   "execution_count": 50,
   "id": "8f12918b",
   "metadata": {},
   "outputs": [],
   "source": [
    "Name_1 = driver.find_elements(By.XPATH,'//h2[@itemprop=\"name\"]')\n",
    "for i in Name_1:\n",
    "    name = i.text\n",
    "    Job_title_1.append(name)"
   ]
  },
  {
   "cell_type": "code",
   "execution_count": 51,
   "id": "9de5457b",
   "metadata": {},
   "outputs": [],
   "source": [
    "Com_name_1 = driver.find_elements(By.XPATH,'//div[@class=\"jobCard_jobCard_cName__mYnow\"]/span')\n",
    "for i in Com_name_1:\n",
    "    name = i.text\n",
    "    Company_Name_1.append(name)"
   ]
  },
  {
   "cell_type": "code",
   "execution_count": 52,
   "id": "a1181113",
   "metadata": {},
   "outputs": [],
   "source": [
    "Loc_1 = driver.find_elements(By.XPATH,'//div[@class=\" jobCard_jobCard_lists_item__YxRkV jobCard_locationIcon__zrWt2\"]')\n",
    "for i in Loc_1:\n",
    "    Location = i.text\n",
    "    Job_Location_1.append(Location)"
   ]
  },
  {
   "cell_type": "code",
   "execution_count": 53,
   "id": "66fe53b0",
   "metadata": {},
   "outputs": [],
   "source": [
    "exp_1 = driver.find_elements(By.XPATH,'//div[@class=\" jobCard_jobCard_lists_item__YxRkV jobCard_jobIcon__3FB1t\"]')\n",
    "for i in exp_1:\n",
    "    Experience = i.text\n",
    "    Experience_required_1.append(Experience)"
   ]
  },
  {
   "cell_type": "code",
   "execution_count": 55,
   "id": "403a03a4",
   "metadata": {},
   "outputs": [],
   "source": [
    "Data_1 =({\"Job Title\":Job_title_1[:10],\n",
    "       \"Job Location\":Job_Location_1[:10],\n",
    "       \"Company Name\":Company_Name_1[:10],\n",
    "       \"Experience Required\":Experience_required_1[:10]})"
   ]
  },
  {
   "cell_type": "code",
   "execution_count": 56,
   "id": "5a5ff8f2",
   "metadata": {},
   "outputs": [
    {
     "data": {
      "text/html": [
       "<div>\n",
       "<style scoped>\n",
       "    .dataframe tbody tr th:only-of-type {\n",
       "        vertical-align: middle;\n",
       "    }\n",
       "\n",
       "    .dataframe tbody tr th {\n",
       "        vertical-align: top;\n",
       "    }\n",
       "\n",
       "    .dataframe thead th {\n",
       "        text-align: right;\n",
       "    }\n",
       "</style>\n",
       "<table border=\"1\" class=\"dataframe\">\n",
       "  <thead>\n",
       "    <tr style=\"text-align: right;\">\n",
       "      <th></th>\n",
       "      <th>Job Title</th>\n",
       "      <th>Job Location</th>\n",
       "      <th>Company Name</th>\n",
       "      <th>Experience Required</th>\n",
       "    </tr>\n",
       "  </thead>\n",
       "  <tbody>\n",
       "    <tr>\n",
       "      <th>0</th>\n",
       "      <td>Data Scientist</td>\n",
       "      <td>Delhi\\n+4</td>\n",
       "      <td>acme services private limited</td>\n",
       "      <td>3 to 5 Yrs</td>\n",
       "    </tr>\n",
       "    <tr>\n",
       "      <th>1</th>\n",
       "      <td>Hiring candidates for Marketing with Fare &amp; Da...</td>\n",
       "      <td>Delhi\\n+2</td>\n",
       "      <td>sharda it services</td>\n",
       "      <td>2 to 5 Yrs</td>\n",
       "    </tr>\n",
       "    <tr>\n",
       "      <th>2</th>\n",
       "      <td>Hiring for Fare &amp; Data Analyst-Travel process</td>\n",
       "      <td>Delhi\\n+2</td>\n",
       "      <td>sharda it services</td>\n",
       "      <td>1 to 6 Yrs</td>\n",
       "    </tr>\n",
       "    <tr>\n",
       "      <th>3</th>\n",
       "      <td>Clinical Data Analyst</td>\n",
       "      <td>Delhi\\n+6</td>\n",
       "      <td>techno endura</td>\n",
       "      <td>0 to 1 Yr</td>\n",
       "    </tr>\n",
       "    <tr>\n",
       "      <th>4</th>\n",
       "      <td>Clinical SAS</td>\n",
       "      <td>Delhi\\n+8</td>\n",
       "      <td>techno endura</td>\n",
       "      <td>0 to 2 Yrs</td>\n",
       "    </tr>\n",
       "    <tr>\n",
       "      <th>5</th>\n",
       "      <td>Bioanalytical Research</td>\n",
       "      <td>Delhi\\n+6</td>\n",
       "      <td>techno endura</td>\n",
       "      <td>0 to 1 Yr</td>\n",
       "    </tr>\n",
       "    <tr>\n",
       "      <th>6</th>\n",
       "      <td>Clinical Data Management</td>\n",
       "      <td>Delhi\\n+6</td>\n",
       "      <td>techno endura</td>\n",
       "      <td>0 to 1 Yr</td>\n",
       "    </tr>\n",
       "    <tr>\n",
       "      <th>7</th>\n",
       "      <td>Bioanalytical Research Associates</td>\n",
       "      <td>Delhi\\n+6</td>\n",
       "      <td>techno endura</td>\n",
       "      <td>0 to 1 Yr</td>\n",
       "    </tr>\n",
       "    <tr>\n",
       "      <th>8</th>\n",
       "      <td>Junior Clinical Data Management</td>\n",
       "      <td>Delhi\\n+6</td>\n",
       "      <td>techno endura</td>\n",
       "      <td>0 to 1 Yr</td>\n",
       "    </tr>\n",
       "    <tr>\n",
       "      <th>9</th>\n",
       "      <td>Clinical Analyst Fresher</td>\n",
       "      <td>Delhi\\n+6</td>\n",
       "      <td>techno endura</td>\n",
       "      <td>0 to 1 Yr</td>\n",
       "    </tr>\n",
       "  </tbody>\n",
       "</table>\n",
       "</div>"
      ],
      "text/plain": [
       "                                           Job Title Job Location  \\\n",
       "0                                     Data Scientist    Delhi\\n+4   \n",
       "1  Hiring candidates for Marketing with Fare & Da...    Delhi\\n+2   \n",
       "2      Hiring for Fare & Data Analyst-Travel process    Delhi\\n+2   \n",
       "3                              Clinical Data Analyst    Delhi\\n+6   \n",
       "4                                       Clinical SAS    Delhi\\n+8   \n",
       "5                             Bioanalytical Research    Delhi\\n+6   \n",
       "6                           Clinical Data Management    Delhi\\n+6   \n",
       "7                  Bioanalytical Research Associates    Delhi\\n+6   \n",
       "8                    Junior Clinical Data Management    Delhi\\n+6   \n",
       "9                           Clinical Analyst Fresher    Delhi\\n+6   \n",
       "\n",
       "                    Company Name Experience Required  \n",
       "0  acme services private limited          3 to 5 Yrs  \n",
       "1             sharda it services          2 to 5 Yrs  \n",
       "2             sharda it services          1 to 6 Yrs  \n",
       "3                  techno endura           0 to 1 Yr  \n",
       "4                  techno endura          0 to 2 Yrs  \n",
       "5                  techno endura           0 to 1 Yr  \n",
       "6                  techno endura           0 to 1 Yr  \n",
       "7                  techno endura           0 to 1 Yr  \n",
       "8                  techno endura           0 to 1 Yr  \n",
       "9                  techno endura           0 to 1 Yr  "
      ]
     },
     "execution_count": 56,
     "metadata": {},
     "output_type": "execute_result"
    }
   ],
   "source": [
    "Df_1 = pd.DataFrame(Data_1)\n",
    "Df_1"
   ]
  },
  {
   "cell_type": "markdown",
   "id": "3c6b2e1c",
   "metadata": {},
   "source": [
    "Q4: Scrape data of first 100 sunglasses listings on flipkart.com. You have to scrape four attributes:\n",
    "6. Brand\n",
    "7. ProductDescription\n",
    "8. Price\n",
    "The attributes which you have to scrape is ticked marked in the below image.\n",
    "To scrape the data you have to go through following steps:\n",
    "1. Go to Flipkart webpage by url :https://www.flipkart.com/\n",
    "2. Enter “sunglasses” in the search fieldwhere “search for products, brands and more” is written and\n",
    "click the search icon\n",
    "3. After that you will reach to the page having a lot of sunglasses. From this page you can scrap the\n",
    "required data as usual\n",
    "4. After scraping data from the first page, go to the “Next” Button at the bottom other page , then\n",
    "click on it.\n",
    "5. Now scrape data from this page as usual\n",
    "6. Repeat this until you get data for 100sunglasses."
   ]
  },
  {
   "cell_type": "code",
   "execution_count": 4,
   "id": "db450025",
   "metadata": {},
   "outputs": [],
   "source": [
    "driver.get(\"https://www.flipkart.com\")"
   ]
  },
  {
   "cell_type": "code",
   "execution_count": 5,
   "id": "5a1384ee",
   "metadata": {},
   "outputs": [],
   "source": [
    "sun = driver.find_element(By.XPATH,\"/html/body/div[1]/div/div[1]/div/div/div/div/div[1]/div/div[1]/div/div[1]/div[1]/header/div[1]/div[2]/form/div/div/input\")\n",
    "sun.send_keys(\"Sunglasses\")"
   ]
  },
  {
   "cell_type": "code",
   "execution_count": 6,
   "id": "2b0e9677",
   "metadata": {},
   "outputs": [],
   "source": [
    "search = driver.find_element(By.XPATH,\"/html/body/div[1]/div/div[1]/div/div/div/div/div[1]/div/div[1]/div/div[1]/div[1]/header/div[1]/div[2]/form/div/button\")\n",
    "search.click()"
   ]
  },
  {
   "cell_type": "code",
   "execution_count": 7,
   "id": "b38e70b5",
   "metadata": {},
   "outputs": [],
   "source": [
    "Brand = []\n",
    "Product_Description = []\n",
    "Price = []"
   ]
  },
  {
   "cell_type": "code",
   "execution_count": 8,
   "id": "a65dda93",
   "metadata": {},
   "outputs": [],
   "source": [
    "start = 0\n",
    "end = 10\n",
    "for page in range(start,end):\n",
    "    nam = driver.find_elements(By.XPATH,'//div[@class=\"_2WkVRV\"]')\n",
    "    for i in nam:\n",
    "        Brand.append(i.text)\n",
    "Next_button = driver.find_element(By.XPATH,'//a[@class=\"_1LKTO3\"]')\n",
    "Next_button.click()\n",
    "time.sleep(10)"
   ]
  },
  {
   "cell_type": "code",
   "execution_count": 9,
   "id": "2fee0990",
   "metadata": {},
   "outputs": [],
   "source": [
    "start = 0\n",
    "end = 10\n",
    "for page in range(start,end):\n",
    "    pro = driver.find_elements(By.XPATH,'//a[@class=\"IRpwTa\"]')\n",
    "    for i in pro:\n",
    "        Product_Description.append(i.text)\n",
    "Next_button = driver.find_element(By.XPATH,'//a[@class=\"_1LKTO3\"]')\n",
    "Next_button.click()\n",
    "time.sleep(10)"
   ]
  },
  {
   "cell_type": "code",
   "execution_count": 10,
   "id": "b15f3a59",
   "metadata": {},
   "outputs": [],
   "source": [
    "start = 0\n",
    "end = 10\n",
    "for page in range(start,end):\n",
    "    Pri = driver.find_elements(By.XPATH,'//div[@class=\"_30jeq3\"]')\n",
    "    for i in Pri:\n",
    "        Price.append(i.text)\n",
    "Next_button = driver.find_element(By.XPATH,'//a[@class=\"_1LKTO3\"]')\n",
    "Next_button.click()\n",
    "time.sleep(10)"
   ]
  },
  {
   "cell_type": "code",
   "execution_count": 11,
   "id": "07e23cd6",
   "metadata": {},
   "outputs": [],
   "source": [
    "Data_2 = ({\"Brand\":Brand[:100],\n",
    "          \"Product Description\":Product_Description[:100],\n",
    "           \"Price\":Price[:100]})"
   ]
  },
  {
   "cell_type": "code",
   "execution_count": 12,
   "id": "0dcdfc33",
   "metadata": {},
   "outputs": [],
   "source": [
    "Df = pd.DataFrame(Data_2)"
   ]
  },
  {
   "cell_type": "code",
   "execution_count": 13,
   "id": "9d051c20",
   "metadata": {},
   "outputs": [
    {
     "data": {
      "text/html": [
       "<div>\n",
       "<style scoped>\n",
       "    .dataframe tbody tr th:only-of-type {\n",
       "        vertical-align: middle;\n",
       "    }\n",
       "\n",
       "    .dataframe tbody tr th {\n",
       "        vertical-align: top;\n",
       "    }\n",
       "\n",
       "    .dataframe thead th {\n",
       "        text-align: right;\n",
       "    }\n",
       "</style>\n",
       "<table border=\"1\" class=\"dataframe\">\n",
       "  <thead>\n",
       "    <tr style=\"text-align: right;\">\n",
       "      <th></th>\n",
       "      <th>Brand</th>\n",
       "      <th>Product Description</th>\n",
       "      <th>Price</th>\n",
       "    </tr>\n",
       "  </thead>\n",
       "  <tbody>\n",
       "    <tr>\n",
       "      <th>0</th>\n",
       "      <td>Lenskart STUDIO</td>\n",
       "      <td>Polarized, UV Protection Rectangular Sunglasse...</td>\n",
       "      <td>₹1,429</td>\n",
       "    </tr>\n",
       "    <tr>\n",
       "      <th>1</th>\n",
       "      <td>Hooper</td>\n",
       "      <td>UV Protection Retro Square Sunglasses (Free Size)</td>\n",
       "      <td>₹599</td>\n",
       "    </tr>\n",
       "    <tr>\n",
       "      <th>2</th>\n",
       "      <td>SRPM</td>\n",
       "      <td>by Lenskart Polarized, UV Protection Aviator S...</td>\n",
       "      <td>₹169</td>\n",
       "    </tr>\n",
       "    <tr>\n",
       "      <th>3</th>\n",
       "      <td>ROADWAY</td>\n",
       "      <td>UV Protection Aviator Sunglasses (58)</td>\n",
       "      <td>₹129</td>\n",
       "    </tr>\n",
       "    <tr>\n",
       "      <th>4</th>\n",
       "      <td>ROADWAY</td>\n",
       "      <td>UV Protection Aviator Sunglasses (54)</td>\n",
       "      <td>₹189</td>\n",
       "    </tr>\n",
       "    <tr>\n",
       "      <th>...</th>\n",
       "      <td>...</td>\n",
       "      <td>...</td>\n",
       "      <td>...</td>\n",
       "    </tr>\n",
       "    <tr>\n",
       "      <th>95</th>\n",
       "      <td>Aarna Fashion</td>\n",
       "      <td>UV Protection Retro Square Sunglasses (54)</td>\n",
       "      <td>₹539</td>\n",
       "    </tr>\n",
       "    <tr>\n",
       "      <th>96</th>\n",
       "      <td>NuVew</td>\n",
       "      <td>Polarized, UV Protection Retro Square Sunglass...</td>\n",
       "      <td>₹2,199</td>\n",
       "    </tr>\n",
       "    <tr>\n",
       "      <th>97</th>\n",
       "      <td>Eyewearlabs</td>\n",
       "      <td>Polarized, UV Protection Sports, Wrap-around S...</td>\n",
       "      <td>₹725</td>\n",
       "    </tr>\n",
       "    <tr>\n",
       "      <th>98</th>\n",
       "      <td>Fastrack</td>\n",
       "      <td>UV Protection Wayfarer Sunglasses (32)</td>\n",
       "      <td>₹195</td>\n",
       "    </tr>\n",
       "    <tr>\n",
       "      <th>99</th>\n",
       "      <td>Fastrack</td>\n",
       "      <td>UV Protection Butterfly Sunglasses (60)</td>\n",
       "      <td>₹549</td>\n",
       "    </tr>\n",
       "  </tbody>\n",
       "</table>\n",
       "<p>100 rows × 3 columns</p>\n",
       "</div>"
      ],
      "text/plain": [
       "              Brand                                Product Description   Price\n",
       "0   Lenskart STUDIO  Polarized, UV Protection Rectangular Sunglasse...  ₹1,429\n",
       "1            Hooper  UV Protection Retro Square Sunglasses (Free Size)    ₹599\n",
       "2              SRPM  by Lenskart Polarized, UV Protection Aviator S...    ₹169\n",
       "3           ROADWAY              UV Protection Aviator Sunglasses (58)    ₹129\n",
       "4           ROADWAY              UV Protection Aviator Sunglasses (54)    ₹189\n",
       "..              ...                                                ...     ...\n",
       "95    Aarna Fashion         UV Protection Retro Square Sunglasses (54)    ₹539\n",
       "96            NuVew  Polarized, UV Protection Retro Square Sunglass...  ₹2,199\n",
       "97      Eyewearlabs  Polarized, UV Protection Sports, Wrap-around S...    ₹725\n",
       "98         Fastrack             UV Protection Wayfarer Sunglasses (32)    ₹195\n",
       "99         Fastrack            UV Protection Butterfly Sunglasses (60)    ₹549\n",
       "\n",
       "[100 rows x 3 columns]"
      ]
     },
     "execution_count": 13,
     "metadata": {},
     "output_type": "execute_result"
    }
   ],
   "source": [
    "Df"
   ]
  },
  {
   "cell_type": "markdown",
   "id": "ff3392cb",
   "metadata": {},
   "source": [
    "Q5: Scrape 100 reviews data from flipkart.com for iphone11 phone. You have to go the link:\n",
    "https://www.flipkart.com/apple-iphone-11-black-64-gb/product-reviews/itm4e5041ba101fd?pid=MOBFWQ6BXGJCEYNY&lid=LSTMOBFWQ6BXGJCEYNYHWAXCG&marketplace=FLIPKART\n",
    "place=FLIPKARAs shown in the above page you have to scrape the tick marked attributes. These are:\n",
    "1. Rating\n",
    "2. Review summary\n",
    "3. Full review\n",
    "4. You have to scrape this data for first 100reviews."
   ]
  },
  {
   "cell_type": "code",
   "execution_count": 70,
   "id": "3b11c93c",
   "metadata": {},
   "outputs": [],
   "source": [
    "driver.get(\"https://www.flipkart.com/apple-iphone-11-black-64-gb/product-reviews/itm4e5041ba101fd?pid=MOBFWQ6BXGJCEYNY&lid=LSTMOBFWQ6BXGJCEYNYHWAXCG&marketplace=FLIPKART\")"
   ]
  },
  {
   "cell_type": "code",
   "execution_count": 71,
   "id": "0e067ed5",
   "metadata": {},
   "outputs": [],
   "source": [
    "Rating = []\n",
    "Review_Summary = []\n",
    "Full_Review = []"
   ]
  },
  {
   "cell_type": "code",
   "execution_count": 106,
   "id": "c0b58a6d",
   "metadata": {},
   "outputs": [],
   "source": [
    "start = 0\n",
    "end = 210\n",
    "for page in range(start,end):\n",
    "    ret = driver.find_elements(By.XPATH,'//div[@class=\"_3LWZlK _1BLPMq\"]')\n",
    "    for i in ret:\n",
    "        Rating.append(i.text)\n",
    "rev = driver.find_elements(By.XPATH,'//p[@class=\"_2-N8zT\"]')\n",
    "for i in rev:\n",
    "    Review_Summary.append(i.text)\n",
    "full = driver.find_elements(By.XPATH,'//div[@class=\"row\"][2]')\n",
    "for i in full:\n",
    "    Full_Review.append(i.text)\n",
    "Next_button = driver.find_element(By.XPATH,'/html/body/div/div/div[3]/div/div/div[2]/div[13]/div/div/nav/a[11]')\n",
    "Next_button.click()\n",
    "time.sleep(210)"
   ]
  },
  {
   "cell_type": "code",
   "execution_count": 107,
   "id": "4229a98e",
   "metadata": {},
   "outputs": [],
   "source": [
    "Data_3 = ({\"Rating\":Rating[:100],\n",
    "          \"Review Summary\":Review_Summary[:100],\n",
    "           \"Full Review\":Full_Review[:100]})"
   ]
  },
  {
   "cell_type": "code",
   "execution_count": 108,
   "id": "ab68d98b",
   "metadata": {},
   "outputs": [
    {
     "name": "stdout",
     "output_type": "stream",
     "text": [
      "8950 108 108\n"
     ]
    }
   ],
   "source": [
    "print(len(Rating),len(Review_Summary),len(Full_Review))"
   ]
  },
  {
   "cell_type": "code",
   "execution_count": 109,
   "id": "ab3b259a",
   "metadata": {},
   "outputs": [],
   "source": [
    "df = pd.DataFrame(Data_3)"
   ]
  },
  {
   "cell_type": "code",
   "execution_count": 110,
   "id": "a4f542d0",
   "metadata": {},
   "outputs": [
    {
     "data": {
      "text/html": [
       "<div>\n",
       "<style scoped>\n",
       "    .dataframe tbody tr th:only-of-type {\n",
       "        vertical-align: middle;\n",
       "    }\n",
       "\n",
       "    .dataframe tbody tr th {\n",
       "        vertical-align: top;\n",
       "    }\n",
       "\n",
       "    .dataframe thead th {\n",
       "        text-align: right;\n",
       "    }\n",
       "</style>\n",
       "<table border=\"1\" class=\"dataframe\">\n",
       "  <thead>\n",
       "    <tr style=\"text-align: right;\">\n",
       "      <th></th>\n",
       "      <th>Rating</th>\n",
       "      <th>Review Summary</th>\n",
       "      <th>Full Review</th>\n",
       "    </tr>\n",
       "  </thead>\n",
       "  <tbody>\n",
       "    <tr>\n",
       "      <th>0</th>\n",
       "      <td>5</td>\n",
       "      <td>Perfect product!</td>\n",
       "      <td>V Good all</td>\n",
       "    </tr>\n",
       "    <tr>\n",
       "      <th>1</th>\n",
       "      <td>5</td>\n",
       "      <td>Wonderful</td>\n",
       "      <td>This is amazing at all</td>\n",
       "    </tr>\n",
       "    <tr>\n",
       "      <th>2</th>\n",
       "      <td>5</td>\n",
       "      <td>Best in the market!</td>\n",
       "      <td>Good Camera</td>\n",
       "    </tr>\n",
       "    <tr>\n",
       "      <th>3</th>\n",
       "      <td>5</td>\n",
       "      <td>Classy product</td>\n",
       "      <td>Camera is awesome\\nBest battery backup\\nA perf...</td>\n",
       "    </tr>\n",
       "    <tr>\n",
       "      <th>4</th>\n",
       "      <td>5</td>\n",
       "      <td>Terrific</td>\n",
       "      <td>Very very good</td>\n",
       "    </tr>\n",
       "    <tr>\n",
       "      <th>...</th>\n",
       "      <td>...</td>\n",
       "      <td>...</td>\n",
       "      <td>...</td>\n",
       "    </tr>\n",
       "    <tr>\n",
       "      <th>95</th>\n",
       "      <td>5</td>\n",
       "      <td>Perfect product!</td>\n",
       "      <td>Photos super</td>\n",
       "    </tr>\n",
       "    <tr>\n",
       "      <th>96</th>\n",
       "      <td>5</td>\n",
       "      <td>Terrific purchase</td>\n",
       "      <td>Value for money 😍</td>\n",
       "    </tr>\n",
       "    <tr>\n",
       "      <th>97</th>\n",
       "      <td>5</td>\n",
       "      <td>Just wow!</td>\n",
       "      <td>Perfect Product!!</td>\n",
       "    </tr>\n",
       "    <tr>\n",
       "      <th>98</th>\n",
       "      <td>5</td>\n",
       "      <td>Perfect product!</td>\n",
       "      <td>V Good all</td>\n",
       "    </tr>\n",
       "    <tr>\n",
       "      <th>99</th>\n",
       "      <td>5</td>\n",
       "      <td>Wonderful</td>\n",
       "      <td>This is amazing at all</td>\n",
       "    </tr>\n",
       "  </tbody>\n",
       "</table>\n",
       "<p>100 rows × 3 columns</p>\n",
       "</div>"
      ],
      "text/plain": [
       "   Rating       Review Summary  \\\n",
       "0       5     Perfect product!   \n",
       "1       5            Wonderful   \n",
       "2       5  Best in the market!   \n",
       "3       5       Classy product   \n",
       "4       5             Terrific   \n",
       "..    ...                  ...   \n",
       "95      5     Perfect product!   \n",
       "96      5    Terrific purchase   \n",
       "97      5            Just wow!   \n",
       "98      5     Perfect product!   \n",
       "99      5            Wonderful   \n",
       "\n",
       "                                          Full Review  \n",
       "0                                          V Good all  \n",
       "1                              This is amazing at all  \n",
       "2                                         Good Camera  \n",
       "3   Camera is awesome\\nBest battery backup\\nA perf...  \n",
       "4                                      Very very good  \n",
       "..                                                ...  \n",
       "95                                       Photos super  \n",
       "96                                  Value for money 😍  \n",
       "97                                  Perfect Product!!  \n",
       "98                                         V Good all  \n",
       "99                             This is amazing at all  \n",
       "\n",
       "[100 rows x 3 columns]"
      ]
     },
     "execution_count": 110,
     "metadata": {},
     "output_type": "execute_result"
    }
   ],
   "source": [
    "df"
   ]
  },
  {
   "cell_type": "markdown",
   "id": "a43e2739",
   "metadata": {},
   "source": [
    "Q6: Scrape data forfirst 100 sneakers you find whenyou visit flipkart.com and search for “sneakers” inthe\n",
    "search field.\n",
    "You have to scrape 3 attributes of each sneaker:\n",
    "1. Brand\n",
    "2. ProductDescription\n",
    "3. Price\n",
    "As shown in the below image, you have to scrape the above attributes.\n"
   ]
  },
  {
   "cell_type": "code",
   "execution_count": 113,
   "id": "4685fd27",
   "metadata": {},
   "outputs": [],
   "source": [
    "driver.get(\"https://www.flipkart.com\")"
   ]
  },
  {
   "cell_type": "code",
   "execution_count": 117,
   "id": "fff21cf6",
   "metadata": {},
   "outputs": [],
   "source": [
    "sn = driver.find_element(By.XPATH,'/html/body/div[1]/div/div[1]/div/div/div/div/div[1]/div/div[1]/div/div[1]/div[1]/header/div[1]/div[2]/form/div/div/input')\n",
    "sn.send_keys(\"Sneakers\")"
   ]
  },
  {
   "cell_type": "code",
   "execution_count": 118,
   "id": "e3767910",
   "metadata": {},
   "outputs": [],
   "source": [
    "search = driver.find_element(By.XPATH,\"/html/body/div[1]/div/div[1]/div/div/div/div/div[1]/div/div[1]/div/div[1]/div[1]/header/div[1]/div[2]/form/div/button\")\n",
    "search.click()"
   ]
  },
  {
   "cell_type": "code",
   "execution_count": 119,
   "id": "7cddb4c1",
   "metadata": {},
   "outputs": [],
   "source": [
    "Brand = []\n",
    "Product_Description = []\n",
    "Price = []"
   ]
  },
  {
   "cell_type": "code",
   "execution_count": 128,
   "id": "74143a81",
   "metadata": {},
   "outputs": [],
   "source": [
    "start = 0\n",
    "end = 60\n",
    "for page in range(start,end):\n",
    "    br = driver.find_elements(By.XPATH,'//div[@class=\"_2WkVRV\"]')\n",
    "    for i in br:\n",
    "        Brand.append(i.text)\n",
    "pro = driver.find_elements(By.XPATH,'//a[@class=\"IRpwTa\"]')\n",
    "for i in pro:\n",
    "    Product_Description.append(i.text)\n",
    "pri = driver.find_elements(By.XPATH,'//div[@class=\"_30jeq3\"]')\n",
    "for i in pri:\n",
    "    Price.append(i.text)\n",
    "Next_button = driver.find_element(By.XPATH,'/html/body/div/div/div[3]/div[1]/div[2]/div[12]/div/div/nav/a[11]/span')\n",
    "Next_button.click()\n",
    "time.sleep(60)"
   ]
  },
  {
   "cell_type": "code",
   "execution_count": 129,
   "id": "355df4f3",
   "metadata": {},
   "outputs": [
    {
     "name": "stdout",
     "output_type": "stream",
     "text": [
      "10000 200 240\n"
     ]
    }
   ],
   "source": [
    "print(len(Brand),len(Product_Description),len(Price))"
   ]
  },
  {
   "cell_type": "code",
   "execution_count": 130,
   "id": "557e7a24",
   "metadata": {},
   "outputs": [],
   "source": [
    "Data_4 = ({\"Brand\":Brand[:100],\n",
    "          \"Product Description\":Product_Description[:100],\n",
    "           \"Price\":Price[:100]})"
   ]
  },
  {
   "cell_type": "code",
   "execution_count": 131,
   "id": "d4d1a508",
   "metadata": {},
   "outputs": [
    {
     "data": {
      "text/html": [
       "<div>\n",
       "<style scoped>\n",
       "    .dataframe tbody tr th:only-of-type {\n",
       "        vertical-align: middle;\n",
       "    }\n",
       "\n",
       "    .dataframe tbody tr th {\n",
       "        vertical-align: top;\n",
       "    }\n",
       "\n",
       "    .dataframe thead th {\n",
       "        text-align: right;\n",
       "    }\n",
       "</style>\n",
       "<table border=\"1\" class=\"dataframe\">\n",
       "  <thead>\n",
       "    <tr style=\"text-align: right;\">\n",
       "      <th></th>\n",
       "      <th>Brand</th>\n",
       "      <th>Product Description</th>\n",
       "      <th>Price</th>\n",
       "    </tr>\n",
       "  </thead>\n",
       "  <tbody>\n",
       "    <tr>\n",
       "      <th>0</th>\n",
       "      <td>kardam&amp;sons</td>\n",
       "      <td>Fashionable Canvas Casual Partywear Outdoor Sn...</td>\n",
       "      <td>₹333</td>\n",
       "    </tr>\n",
       "    <tr>\n",
       "      <th>1</th>\n",
       "      <td>aadi</td>\n",
       "      <td>Sneakers For Women</td>\n",
       "      <td>₹349</td>\n",
       "    </tr>\n",
       "    <tr>\n",
       "      <th>2</th>\n",
       "      <td>Deals4you</td>\n",
       "      <td>Trending Stylish Casual Outdoor Sneakers Shoes...</td>\n",
       "      <td>₹299</td>\n",
       "    </tr>\n",
       "    <tr>\n",
       "      <th>3</th>\n",
       "      <td>URBANBOX</td>\n",
       "      <td>Casual Sneaker Shoes for Men | Soft Cushioned ...</td>\n",
       "      <td>₹299</td>\n",
       "    </tr>\n",
       "    <tr>\n",
       "      <th>4</th>\n",
       "      <td>RED TAPE</td>\n",
       "      <td>Casual Sneaker Shoes for Men | Soft Cushioned ...</td>\n",
       "      <td>₹1,709</td>\n",
       "    </tr>\n",
       "    <tr>\n",
       "      <th>...</th>\n",
       "      <td>...</td>\n",
       "      <td>...</td>\n",
       "      <td>...</td>\n",
       "    </tr>\n",
       "    <tr>\n",
       "      <th>95</th>\n",
       "      <td>U.S. POLO ASSN.</td>\n",
       "      <td>Sneakers For Women</td>\n",
       "      <td>₹1,339</td>\n",
       "    </tr>\n",
       "    <tr>\n",
       "      <th>96</th>\n",
       "      <td>kardam&amp;sons</td>\n",
       "      <td>Sneakers For Men</td>\n",
       "      <td>₹409</td>\n",
       "    </tr>\n",
       "    <tr>\n",
       "      <th>97</th>\n",
       "      <td>BRUTON</td>\n",
       "      <td>SiennaSoftrideBallerina Sneakers For Women</td>\n",
       "      <td>₹330</td>\n",
       "    </tr>\n",
       "    <tr>\n",
       "      <th>98</th>\n",
       "      <td>RED TAPE</td>\n",
       "      <td>Casual Sneakers Canvas High Top Boots For Boys...</td>\n",
       "      <td>₹2,069</td>\n",
       "    </tr>\n",
       "    <tr>\n",
       "      <th>99</th>\n",
       "      <td>TRUMP</td>\n",
       "      <td>Combo Pack Of 2 Casual Shoes for mens Sneakers...</td>\n",
       "      <td>₹493</td>\n",
       "    </tr>\n",
       "  </tbody>\n",
       "</table>\n",
       "<p>100 rows × 3 columns</p>\n",
       "</div>"
      ],
      "text/plain": [
       "              Brand                                Product Description   Price\n",
       "0       kardam&sons  Fashionable Canvas Casual Partywear Outdoor Sn...    ₹333\n",
       "1              aadi                                 Sneakers For Women    ₹349\n",
       "2         Deals4you  Trending Stylish Casual Outdoor Sneakers Shoes...    ₹299\n",
       "3          URBANBOX  Casual Sneaker Shoes for Men | Soft Cushioned ...    ₹299\n",
       "4          RED TAPE  Casual Sneaker Shoes for Men | Soft Cushioned ...  ₹1,709\n",
       "..              ...                                                ...     ...\n",
       "95  U.S. POLO ASSN.                                 Sneakers For Women  ₹1,339\n",
       "96      kardam&sons                                   Sneakers For Men    ₹409\n",
       "97           BRUTON         SiennaSoftrideBallerina Sneakers For Women    ₹330\n",
       "98         RED TAPE  Casual Sneakers Canvas High Top Boots For Boys...  ₹2,069\n",
       "99            TRUMP  Combo Pack Of 2 Casual Shoes for mens Sneakers...    ₹493\n",
       "\n",
       "[100 rows x 3 columns]"
      ]
     },
     "execution_count": 131,
     "metadata": {},
     "output_type": "execute_result"
    }
   ],
   "source": [
    "Df = pd.DataFrame(Data_4)\n",
    "Df"
   ]
  },
  {
   "cell_type": "markdown",
   "id": "243c7e76",
   "metadata": {},
   "source": [
    "Q7: Go to webpage https://www.amazon.in/ Enter “Laptop” in the search field and then click the search icon. Then set CPU Type filter to “Intel Core i7” as shown in the below image:\n",
    "After setting the filters scrape first 10 laptops data. You have to scrape 3 attributes for each laptop:\n",
    "1. Title\n",
    "2. Ratings\n",
    "3. Price"
   ]
  },
  {
   "cell_type": "code",
   "execution_count": 4,
   "id": "cf9f2fcb",
   "metadata": {},
   "outputs": [],
   "source": [
    "driver.get(\"https://www.amazon.in/\")"
   ]
  },
  {
   "cell_type": "code",
   "execution_count": 5,
   "id": "072dcb2a",
   "metadata": {},
   "outputs": [],
   "source": [
    "lap = driver.find_element(By.XPATH,'/html/body/div[1]/header/div/div[1]/div[2]/div/form/div[2]/div[1]/input')\n",
    "lap.send_keys(\"Laptop\")"
   ]
  },
  {
   "cell_type": "code",
   "execution_count": 6,
   "id": "8ad823f7",
   "metadata": {},
   "outputs": [],
   "source": [
    "search = driver.find_element(By.XPATH,\"/html/body/div[1]/header/div/div[1]/div[2]/div/form/div[3]/div/span/input\")\n",
    "search.click()"
   ]
  },
  {
   "cell_type": "code",
   "execution_count": 13,
   "id": "56509087",
   "metadata": {},
   "outputs": [],
   "source": [
    "cpu = driver.find_element(By.XPATH,\"/html/body/div[1]/div[1]/div[1]/div[2]/div/div[3]/span/div[1]/div/div/div[6]/ul[19]/span/span[10]/li/span/a/div\")\n",
    "cpu.click()"
   ]
  },
  {
   "cell_type": "code",
   "execution_count": 14,
   "id": "c752ee39",
   "metadata": {},
   "outputs": [],
   "source": [
    "Title = []\n",
    "Ratings = []\n",
    "Price = []"
   ]
  },
  {
   "cell_type": "code",
   "execution_count": 15,
   "id": "0c974747",
   "metadata": {},
   "outputs": [],
   "source": [
    "title = driver.find_elements(By.XPATH,'//span[@class=\"a-size-medium a-color-base a-text-normal\"]')\n",
    "for i in title:\n",
    "    Title.append(i.text)\n",
    "Rate = driver.find_elements(By.XPATH,'//div[@class=\"a-row a-size-small\"]/span')\n",
    "for i in Rate:\n",
    "    Ratings.append(i.text)\n",
    "pr = driver.find_elements(By.XPATH,'//span[@class=\"a-price-whole\"]')\n",
    "for i in pr:\n",
    "    Price.append(i.text)"
   ]
  },
  {
   "cell_type": "code",
   "execution_count": 16,
   "id": "c7fdff13",
   "metadata": {},
   "outputs": [
    {
     "name": "stdout",
     "output_type": "stream",
     "text": [
      "24 40 24\n"
     ]
    }
   ],
   "source": [
    "print(len(Title),len(Ratings),len(Price))"
   ]
  },
  {
   "cell_type": "code",
   "execution_count": 17,
   "id": "681f1d8e",
   "metadata": {},
   "outputs": [],
   "source": [
    "Data_5 = ({\"Title\":Title[:10],\n",
    "          \"Ratings\":Ratings[:10],\n",
    "           \"Price\":Price[:10]})"
   ]
  },
  {
   "cell_type": "code",
   "execution_count": 18,
   "id": "9eaefe12",
   "metadata": {},
   "outputs": [],
   "source": [
    "df = pd.DataFrame(Data_5)"
   ]
  },
  {
   "cell_type": "code",
   "execution_count": 20,
   "id": "966452c6",
   "metadata": {},
   "outputs": [
    {
     "data": {
      "text/html": [
       "<div>\n",
       "<style scoped>\n",
       "    .dataframe tbody tr th:only-of-type {\n",
       "        vertical-align: middle;\n",
       "    }\n",
       "\n",
       "    .dataframe tbody tr th {\n",
       "        vertical-align: top;\n",
       "    }\n",
       "\n",
       "    .dataframe thead th {\n",
       "        text-align: right;\n",
       "    }\n",
       "</style>\n",
       "<table border=\"1\" class=\"dataframe\">\n",
       "  <thead>\n",
       "    <tr style=\"text-align: right;\">\n",
       "      <th></th>\n",
       "      <th>Title</th>\n",
       "      <th>Ratings</th>\n",
       "      <th>Price</th>\n",
       "    </tr>\n",
       "  </thead>\n",
       "  <tbody>\n",
       "    <tr>\n",
       "      <th>0</th>\n",
       "      <td>MSI Modern 14, Intel 12th Gen. i7-1255U, 36CM ...</td>\n",
       "      <td></td>\n",
       "      <td>49,990</td>\n",
       "    </tr>\n",
       "    <tr>\n",
       "      <th>1</th>\n",
       "      <td>ASUS TUF Gaming F15, 15.6\"(39.62 cms) FHD 144H...</td>\n",
       "      <td>72</td>\n",
       "      <td>73,990</td>\n",
       "    </tr>\n",
       "    <tr>\n",
       "      <th>2</th>\n",
       "      <td>Lenovo IdeaPad Slim 3 Intel Core i7 12th Gen 1...</td>\n",
       "      <td></td>\n",
       "      <td>62,032</td>\n",
       "    </tr>\n",
       "    <tr>\n",
       "      <th>3</th>\n",
       "      <td>ASUS Vivobook 15, Intel Core i7-12650H 12th Ge...</td>\n",
       "      <td>188</td>\n",
       "      <td>59,990</td>\n",
       "    </tr>\n",
       "    <tr>\n",
       "      <th>4</th>\n",
       "      <td>MSI Thin GF63, Intel 12th Gen. i7-12650H, 40CM...</td>\n",
       "      <td></td>\n",
       "      <td>84,990</td>\n",
       "    </tr>\n",
       "    <tr>\n",
       "      <th>5</th>\n",
       "      <td>ASUS Vivobook 16X, Intel Core i7-12650H 12th G...</td>\n",
       "      <td>440</td>\n",
       "      <td>99,990</td>\n",
       "    </tr>\n",
       "    <tr>\n",
       "      <th>6</th>\n",
       "      <td>Acer Travelmate Business Laptop Intel Core i7-...</td>\n",
       "      <td></td>\n",
       "      <td>49,990</td>\n",
       "    </tr>\n",
       "    <tr>\n",
       "      <th>7</th>\n",
       "      <td>Lenovo IdeaPad Slim 5 Intel Core i7 13700H 16\"...</td>\n",
       "      <td>423</td>\n",
       "      <td>87,190</td>\n",
       "    </tr>\n",
       "    <tr>\n",
       "      <th>8</th>\n",
       "      <td>GIGABYTE G5 MF-G2IN313SH Gaming Laptop Intel C...</td>\n",
       "      <td></td>\n",
       "      <td>75,990</td>\n",
       "    </tr>\n",
       "    <tr>\n",
       "      <th>9</th>\n",
       "      <td>HP Pavilion X360 11th Gen Intel Core i7 14\" (3...</td>\n",
       "      <td>23</td>\n",
       "      <td>77,990</td>\n",
       "    </tr>\n",
       "  </tbody>\n",
       "</table>\n",
       "</div>"
      ],
      "text/plain": [
       "                                               Title Ratings   Price\n",
       "0  MSI Modern 14, Intel 12th Gen. i7-1255U, 36CM ...          49,990\n",
       "1  ASUS TUF Gaming F15, 15.6\"(39.62 cms) FHD 144H...      72  73,990\n",
       "2  Lenovo IdeaPad Slim 3 Intel Core i7 12th Gen 1...          62,032\n",
       "3  ASUS Vivobook 15, Intel Core i7-12650H 12th Ge...     188  59,990\n",
       "4  MSI Thin GF63, Intel 12th Gen. i7-12650H, 40CM...          84,990\n",
       "5  ASUS Vivobook 16X, Intel Core i7-12650H 12th G...     440  99,990\n",
       "6  Acer Travelmate Business Laptop Intel Core i7-...          49,990\n",
       "7  Lenovo IdeaPad Slim 5 Intel Core i7 13700H 16\"...     423  87,190\n",
       "8  GIGABYTE G5 MF-G2IN313SH Gaming Laptop Intel C...          75,990\n",
       "9  HP Pavilion X360 11th Gen Intel Core i7 14\" (3...      23  77,990"
      ]
     },
     "execution_count": 20,
     "metadata": {},
     "output_type": "execute_result"
    }
   ],
   "source": [
    "df"
   ]
  },
  {
   "cell_type": "markdown",
   "id": "a199d2c1",
   "metadata": {},
   "source": [
    "Q8: Write a python program to scrape data for Top 1000 Quotes of All Time.\n",
    "The above task will be done in following steps:\n",
    "1. First get the webpage https://www.azquotes.com/\n",
    "2. Click on Top Quotes\n",
    "3. Than scrap a) Quote b) Author c) Type Of Quotes"
   ]
  },
  {
   "cell_type": "code",
   "execution_count": 4,
   "id": "1f449e2b",
   "metadata": {},
   "outputs": [],
   "source": [
    "driver.get(\"https://www.azquotes.com/\")"
   ]
  },
  {
   "cell_type": "code",
   "execution_count": 5,
   "id": "b6a99ef5",
   "metadata": {},
   "outputs": [],
   "source": [
    "quote = driver.find_element(By.XPATH,'/html/body/div[1]/div[1]/div[1]/div/div[3]/ul/li[5]/a')\n",
    "quote.click()"
   ]
  },
  {
   "cell_type": "code",
   "execution_count": 6,
   "id": "879e8b92",
   "metadata": {},
   "outputs": [],
   "source": [
    "Quote = []\n",
    "Author = []\n",
    "Type_of_Quotes = []"
   ]
  },
  {
   "cell_type": "code",
   "execution_count": 22,
   "id": "8194d18e",
   "metadata": {},
   "outputs": [],
   "source": [
    "start = 0\n",
    "end = 10\n",
    "for page in range(start,end):\n",
    "    quo = driver.find_elements(By.XPATH,'//a[@class=\"title\"]')\n",
    "    for i in quo:\n",
    "        Quote.append(i.text)\n",
    "    Aut = driver.find_elements(By.XPATH,'//div[@class=\"author\"]')\n",
    "    for i in Aut:\n",
    "        Author.append(i.text)\n",
    "    Type = driver.find_elements(By.XPATH,'//div[@class=\"tags\"]')\n",
    "    for i in Type:\n",
    "        Type_of_Quotes.append(i.text)\n",
    "Next_botton = driver.find_element(By.XPATH,'//li[@class=\"next\"][1]')\n",
    "Next_botton.click()\n",
    "time.sleep(10)"
   ]
  },
  {
   "cell_type": "code",
   "execution_count": 27,
   "id": "19798182",
   "metadata": {},
   "outputs": [
    {
     "name": "stdout",
     "output_type": "stream",
     "text": [
      "36800 1800 1800\n"
     ]
    }
   ],
   "source": [
    "print(len(Quote),len(Author),len(Type_of_Quotes))"
   ]
  },
  {
   "cell_type": "code",
   "execution_count": 24,
   "id": "4f194109",
   "metadata": {},
   "outputs": [],
   "source": [
    "Data_6 = ({\"Quote\":Quote[:1000],\n",
    "          \"Author\":Author[:1000],\n",
    "           \"Type of Quotes\":Type_of_Quotes[:1000]})"
   ]
  },
  {
   "cell_type": "code",
   "execution_count": 25,
   "id": "c1e09361",
   "metadata": {},
   "outputs": [],
   "source": [
    "Df = pd.DataFrame(Data_6)"
   ]
  },
  {
   "cell_type": "code",
   "execution_count": 26,
   "id": "3b680d6a",
   "metadata": {},
   "outputs": [
    {
     "data": {
      "text/html": [
       "<div>\n",
       "<style scoped>\n",
       "    .dataframe tbody tr th:only-of-type {\n",
       "        vertical-align: middle;\n",
       "    }\n",
       "\n",
       "    .dataframe tbody tr th {\n",
       "        vertical-align: top;\n",
       "    }\n",
       "\n",
       "    .dataframe thead th {\n",
       "        text-align: right;\n",
       "    }\n",
       "</style>\n",
       "<table border=\"1\" class=\"dataframe\">\n",
       "  <thead>\n",
       "    <tr style=\"text-align: right;\">\n",
       "      <th></th>\n",
       "      <th>Quote</th>\n",
       "      <th>Author</th>\n",
       "      <th>Type of Quotes</th>\n",
       "    </tr>\n",
       "  </thead>\n",
       "  <tbody>\n",
       "    <tr>\n",
       "      <th>0</th>\n",
       "      <td>The essence of strategy is choosing what not t...</td>\n",
       "      <td>Michael Porter</td>\n",
       "      <td>Essence, Deep Thought, Transcendentalism</td>\n",
       "    </tr>\n",
       "    <tr>\n",
       "      <th>1</th>\n",
       "      <td>One cannot and must not try to erase the past ...</td>\n",
       "      <td>Golda Meir</td>\n",
       "      <td>Inspiration, Past, Trying</td>\n",
       "    </tr>\n",
       "    <tr>\n",
       "      <th>2</th>\n",
       "      <td>Patriotism means to stand by the country. It d...</td>\n",
       "      <td>Theodore Roosevelt</td>\n",
       "      <td>Country, Peace, War</td>\n",
       "    </tr>\n",
       "    <tr>\n",
       "      <th>3</th>\n",
       "      <td>Death is something inevitable. When a man has ...</td>\n",
       "      <td>Nelson Mandela</td>\n",
       "      <td>Inspirational, Motivational, Death</td>\n",
       "    </tr>\n",
       "    <tr>\n",
       "      <th>4</th>\n",
       "      <td>You have to love a nation that celebrates its ...</td>\n",
       "      <td>Erma Bombeck</td>\n",
       "      <td>4th Of July, Food, Patriotic</td>\n",
       "    </tr>\n",
       "    <tr>\n",
       "      <th>...</th>\n",
       "      <td>...</td>\n",
       "      <td>...</td>\n",
       "      <td>...</td>\n",
       "    </tr>\n",
       "    <tr>\n",
       "      <th>995</th>\n",
       "      <td>When the going gets weird, the weird turn pro.</td>\n",
       "      <td>Stephen Covey</td>\n",
       "      <td>Life, Change, Bad Ass</td>\n",
       "    </tr>\n",
       "    <tr>\n",
       "      <th>996</th>\n",
       "      <td>When a train goes through a tunnel and it gets...</td>\n",
       "      <td>John Wooden</td>\n",
       "      <td>Basketball, Youth Of Today, Nba</td>\n",
       "    </tr>\n",
       "    <tr>\n",
       "      <th>997</th>\n",
       "      <td>If you think you are too small to make a diffe...</td>\n",
       "      <td>Erica Jong</td>\n",
       "      <td>Funny, Being Strong, Spiritual</td>\n",
       "    </tr>\n",
       "    <tr>\n",
       "      <th>998</th>\n",
       "      <td>God doesn't require us to succeed, he only req...</td>\n",
       "      <td>William James</td>\n",
       "      <td>Inspirational, Life, Motivational</td>\n",
       "    </tr>\n",
       "    <tr>\n",
       "      <th>999</th>\n",
       "      <td>Change your thoughts and you change your world.</td>\n",
       "      <td>Thomas Szasz</td>\n",
       "      <td>Courage, Thinking, Clear</td>\n",
       "    </tr>\n",
       "  </tbody>\n",
       "</table>\n",
       "<p>1000 rows × 3 columns</p>\n",
       "</div>"
      ],
      "text/plain": [
       "                                                 Quote              Author  \\\n",
       "0    The essence of strategy is choosing what not t...      Michael Porter   \n",
       "1    One cannot and must not try to erase the past ...          Golda Meir   \n",
       "2    Patriotism means to stand by the country. It d...  Theodore Roosevelt   \n",
       "3    Death is something inevitable. When a man has ...      Nelson Mandela   \n",
       "4    You have to love a nation that celebrates its ...        Erma Bombeck   \n",
       "..                                                 ...                 ...   \n",
       "995     When the going gets weird, the weird turn pro.       Stephen Covey   \n",
       "996  When a train goes through a tunnel and it gets...         John Wooden   \n",
       "997  If you think you are too small to make a diffe...          Erica Jong   \n",
       "998  God doesn't require us to succeed, he only req...       William James   \n",
       "999    Change your thoughts and you change your world.        Thomas Szasz   \n",
       "\n",
       "                               Type of Quotes  \n",
       "0    Essence, Deep Thought, Transcendentalism  \n",
       "1                   Inspiration, Past, Trying  \n",
       "2                         Country, Peace, War  \n",
       "3          Inspirational, Motivational, Death  \n",
       "4                4th Of July, Food, Patriotic  \n",
       "..                                        ...  \n",
       "995                     Life, Change, Bad Ass  \n",
       "996           Basketball, Youth Of Today, Nba  \n",
       "997            Funny, Being Strong, Spiritual  \n",
       "998         Inspirational, Life, Motivational  \n",
       "999                  Courage, Thinking, Clear  \n",
       "\n",
       "[1000 rows x 3 columns]"
      ]
     },
     "execution_count": 26,
     "metadata": {},
     "output_type": "execute_result"
    }
   ],
   "source": [
    "Df"
   ]
  },
  {
   "cell_type": "markdown",
   "id": "e6b29538",
   "metadata": {},
   "source": [
    "Q9: Write a python program to display list of respected former Prime Ministers of India(i.e. Name, Born-Dead, Term of office, Remarks) from https://www.jagranjosh.com/.\n",
    "This task will be done in following steps:\n",
    "1. First get the webpagehttps://www.jagranjosh.com/\n",
    "2. Then You have to click on the GK option\n",
    "3. Then click on the List of all Prime Ministers of India\n",
    "4. Then scrap the mentioned data and make theDataFrame."
   ]
  },
  {
   "cell_type": "code",
   "execution_count": 117,
   "id": "7d42ecf1",
   "metadata": {},
   "outputs": [],
   "source": [
    "driver.get(\"https://www.jagranjosh.com/\")"
   ]
  },
  {
   "cell_type": "code",
   "execution_count": 124,
   "id": "dbb26108",
   "metadata": {},
   "outputs": [],
   "source": [
    "gk = driver.find_element(By.XPATH,'/html/body/div[1]/header/nav/div/div/div[3]/ul/li[3]/a')\n",
    "gk.click()"
   ]
  },
  {
   "cell_type": "code",
   "execution_count": 128,
   "id": "d6cebcbe",
   "metadata": {},
   "outputs": [],
   "source": [
    "gk_1 = driver.find_element(By.XPATH,'//a[@title=\"List of All Prime Ministers of India (1947-2024)\"]')\n",
    "gk_1.click()"
   ]
  },
  {
   "cell_type": "code",
   "execution_count": 129,
   "id": "58b55010",
   "metadata": {},
   "outputs": [],
   "source": [
    "Name = []\n",
    "Born_Dead = []\n",
    "Term_of_Office = []"
   ]
  },
  {
   "cell_type": "code",
   "execution_count": 130,
   "id": "f788ca5c",
   "metadata": {},
   "outputs": [],
   "source": [
    "name = driver.find_elements(By.XPATH,'//td[@valign=\"top\"][2]')\n",
    "for i in name:\n",
    "    Name.append(i.text)\n",
    "born = driver.find_elements(By.XPATH,'//td[@valign=\"top\"][3]')\n",
    "for i in born:\n",
    "    Born_Dead.append(i.text)\n",
    "term = driver.find_elements(By.XPATH,'//td[@valign=\"top\"][4]')\n",
    "for i in term:\n",
    "    Term_of_Office.append(i.text)"
   ]
  },
  {
   "cell_type": "code",
   "execution_count": 131,
   "id": "8a4ad239",
   "metadata": {},
   "outputs": [
    {
     "name": "stdout",
     "output_type": "stream",
     "text": [
      "17 17 17\n"
     ]
    }
   ],
   "source": [
    "print(len(Name),len(Born_Dead),len(Term_of_Office))"
   ]
  },
  {
   "cell_type": "code",
   "execution_count": 133,
   "id": "a623c64f",
   "metadata": {},
   "outputs": [],
   "source": [
    "Data_7 = ({\"Name\":Name,\n",
    "          \"Born Dead\":Born_Dead,\n",
    "           \"Term Of Office\":Term_of_Office})"
   ]
  },
  {
   "cell_type": "code",
   "execution_count": 134,
   "id": "1f96d007",
   "metadata": {},
   "outputs": [
    {
     "data": {
      "text/html": [
       "<div>\n",
       "<style scoped>\n",
       "    .dataframe tbody tr th:only-of-type {\n",
       "        vertical-align: middle;\n",
       "    }\n",
       "\n",
       "    .dataframe tbody tr th {\n",
       "        vertical-align: top;\n",
       "    }\n",
       "\n",
       "    .dataframe thead th {\n",
       "        text-align: right;\n",
       "    }\n",
       "</style>\n",
       "<table border=\"1\" class=\"dataframe\">\n",
       "  <thead>\n",
       "    <tr style=\"text-align: right;\">\n",
       "      <th></th>\n",
       "      <th>Name</th>\n",
       "      <th>Born Dead</th>\n",
       "      <th>Term Of Office</th>\n",
       "    </tr>\n",
       "  </thead>\n",
       "  <tbody>\n",
       "    <tr>\n",
       "      <th>0</th>\n",
       "      <td>Jawahar Lal Nehru</td>\n",
       "      <td>(1889–1964)</td>\n",
       "      <td>15 August 1947 to 27 May 1964\\n16 years, 286 days</td>\n",
       "    </tr>\n",
       "    <tr>\n",
       "      <th>1</th>\n",
       "      <td>Gulzarilal Nanda (Acting)</td>\n",
       "      <td>(1898-1998)</td>\n",
       "      <td>27 May 1964 to 9 June 1964,\\n13 days</td>\n",
       "    </tr>\n",
       "    <tr>\n",
       "      <th>2</th>\n",
       "      <td>Lal Bahadur Shastri</td>\n",
       "      <td>(1904–1966)</td>\n",
       "      <td>9 June 1964 to 11 January 1966\\n1 year, 216 days</td>\n",
       "    </tr>\n",
       "    <tr>\n",
       "      <th>3</th>\n",
       "      <td>Indira Gandhi</td>\n",
       "      <td>(1917–1984)</td>\n",
       "      <td>24 January 1966 to 24 March 1977\\n11 years, 59...</td>\n",
       "    </tr>\n",
       "    <tr>\n",
       "      <th>4</th>\n",
       "      <td>Morarji Desai</td>\n",
       "      <td>(1896–1995)</td>\n",
       "      <td>24 March 1977 to  28 July 1979 \\n2 year, 126 days</td>\n",
       "    </tr>\n",
       "    <tr>\n",
       "      <th>5</th>\n",
       "      <td>Charan Singh</td>\n",
       "      <td>(1902–1987)</td>\n",
       "      <td>28 July 1979 to 14 January 1980\\n170 days</td>\n",
       "    </tr>\n",
       "    <tr>\n",
       "      <th>6</th>\n",
       "      <td>Indira Gandhi</td>\n",
       "      <td>(1917–1984)</td>\n",
       "      <td>14 January 1980 to 31 October 1984\\n4 years, 2...</td>\n",
       "    </tr>\n",
       "    <tr>\n",
       "      <th>7</th>\n",
       "      <td>Rajiv Gandhi</td>\n",
       "      <td>(1944–1991)</td>\n",
       "      <td>31 October 1984 to 2 December 1989\\n5 years, 3...</td>\n",
       "    </tr>\n",
       "    <tr>\n",
       "      <th>8</th>\n",
       "      <td>V. P. Singh</td>\n",
       "      <td>(1931–2008)</td>\n",
       "      <td>2 December 1989 to 10 November 1990\\n343 days</td>\n",
       "    </tr>\n",
       "    <tr>\n",
       "      <th>9</th>\n",
       "      <td>Chandra Shekhar</td>\n",
       "      <td>(1927–2007)</td>\n",
       "      <td>10 November 1990 to 21 June 1991\\n223 days</td>\n",
       "    </tr>\n",
       "    <tr>\n",
       "      <th>10</th>\n",
       "      <td>P. V. Narasimha Rao</td>\n",
       "      <td>(1921–2004)</td>\n",
       "      <td>21 June 1991 to 16 May 1996\\n4 years, 330 days</td>\n",
       "    </tr>\n",
       "    <tr>\n",
       "      <th>11</th>\n",
       "      <td>Atal Bihari Vajpayee</td>\n",
       "      <td>(1924- 2018)</td>\n",
       "      <td>16 May 1996 to 1 June 1996\\n16 days</td>\n",
       "    </tr>\n",
       "    <tr>\n",
       "      <th>12</th>\n",
       "      <td>H. D. Deve Gowda</td>\n",
       "      <td>(born 1933)</td>\n",
       "      <td>1 June 1996 to 21 April 1997\\n324 days</td>\n",
       "    </tr>\n",
       "    <tr>\n",
       "      <th>13</th>\n",
       "      <td>Inder Kumar Gujral</td>\n",
       "      <td>(1919–2012)</td>\n",
       "      <td>21 April 1997 to 19 March 1998 \\n332 days</td>\n",
       "    </tr>\n",
       "    <tr>\n",
       "      <th>14</th>\n",
       "      <td>Atal Bihari Vajpayee</td>\n",
       "      <td>(1924-2018)</td>\n",
       "      <td>19 March 1998 to 22 May 2004 \\n6 years, 64 days</td>\n",
       "    </tr>\n",
       "    <tr>\n",
       "      <th>15</th>\n",
       "      <td>Manmohan Singh</td>\n",
       "      <td>(born 1932)</td>\n",
       "      <td>22 May 2004 to 26 May 2014   \\n10 years, 4 days</td>\n",
       "    </tr>\n",
       "    <tr>\n",
       "      <th>16</th>\n",
       "      <td>Narendra Modi</td>\n",
       "      <td>(born 1950)</td>\n",
       "      <td>26 May 2014 - 2019</td>\n",
       "    </tr>\n",
       "  </tbody>\n",
       "</table>\n",
       "</div>"
      ],
      "text/plain": [
       "                         Name     Born Dead  \\\n",
       "0           Jawahar Lal Nehru   (1889–1964)   \n",
       "1   Gulzarilal Nanda (Acting)   (1898-1998)   \n",
       "2         Lal Bahadur Shastri   (1904–1966)   \n",
       "3               Indira Gandhi   (1917–1984)   \n",
       "4               Morarji Desai   (1896–1995)   \n",
       "5                Charan Singh   (1902–1987)   \n",
       "6               Indira Gandhi   (1917–1984)   \n",
       "7                Rajiv Gandhi   (1944–1991)   \n",
       "8                 V. P. Singh   (1931–2008)   \n",
       "9             Chandra Shekhar   (1927–2007)   \n",
       "10        P. V. Narasimha Rao   (1921–2004)   \n",
       "11       Atal Bihari Vajpayee  (1924- 2018)   \n",
       "12           H. D. Deve Gowda   (born 1933)   \n",
       "13         Inder Kumar Gujral   (1919–2012)   \n",
       "14       Atal Bihari Vajpayee   (1924-2018)   \n",
       "15             Manmohan Singh   (born 1932)   \n",
       "16              Narendra Modi   (born 1950)   \n",
       "\n",
       "                                       Term Of Office  \n",
       "0   15 August 1947 to 27 May 1964\\n16 years, 286 days  \n",
       "1                27 May 1964 to 9 June 1964,\\n13 days  \n",
       "2    9 June 1964 to 11 January 1966\\n1 year, 216 days  \n",
       "3   24 January 1966 to 24 March 1977\\n11 years, 59...  \n",
       "4   24 March 1977 to  28 July 1979 \\n2 year, 126 days  \n",
       "5           28 July 1979 to 14 January 1980\\n170 days  \n",
       "6   14 January 1980 to 31 October 1984\\n4 years, 2...  \n",
       "7   31 October 1984 to 2 December 1989\\n5 years, 3...  \n",
       "8       2 December 1989 to 10 November 1990\\n343 days  \n",
       "9          10 November 1990 to 21 June 1991\\n223 days  \n",
       "10     21 June 1991 to 16 May 1996\\n4 years, 330 days  \n",
       "11                16 May 1996 to 1 June 1996\\n16 days  \n",
       "12             1 June 1996 to 21 April 1997\\n324 days  \n",
       "13          21 April 1997 to 19 March 1998 \\n332 days  \n",
       "14    19 March 1998 to 22 May 2004 \\n6 years, 64 days  \n",
       "15    22 May 2004 to 26 May 2014   \\n10 years, 4 days  \n",
       "16                                 26 May 2014 - 2019  "
      ]
     },
     "execution_count": 134,
     "metadata": {},
     "output_type": "execute_result"
    }
   ],
   "source": [
    "Df = pd.DataFrame(Data_7)\n",
    "Df"
   ]
  },
  {
   "cell_type": "markdown",
   "id": "376fa91c",
   "metadata": {},
   "source": [
    "Q10: Write a python program to display list of 50 Most expensive cars in the world (i.e. Car name and Price) from https://www.motor1.com/\n",
    "This task will be done in following steps:\n",
    "1. First get the webpage https://www.motor1.com/\n",
    "2. Then You have to type in the search bar ’50 most expensive cars’\n",
    "3. Then click on 50 most expensive cars in the world..\n",
    "4. Then scrap the mentioned data and make the dataframe."
   ]
  },
  {
   "cell_type": "code",
   "execution_count": 163,
   "id": "ef49c1da",
   "metadata": {},
   "outputs": [],
   "source": [
    "driver.get('https://www.motor1.com/')"
   ]
  },
  {
   "cell_type": "code",
   "execution_count": 167,
   "id": "77c4d5d2",
   "metadata": {},
   "outputs": [],
   "source": [
    "search = driver.find_element(By.XPATH,'//input[@class=\"m1-search-panel-input m1-search-form-text\"]')\n",
    "search.send_keys(\"50 Most expensive cars\")\n",
    "search_1 = driver.find_element(By.XPATH,'//button[@class=\"m1-search-panel-button m1-search-form-button-animate icon-search-svg\"]')\n",
    "search_1.click()"
   ]
  },
  {
   "cell_type": "code",
   "execution_count": 169,
   "id": "0a0f8300",
   "metadata": {},
   "outputs": [],
   "source": [
    "cars = driver.find_element(By.XPATH,'//div[@class=\"item wcom \"]')\n",
    "cars.click()"
   ]
  },
  {
   "cell_type": "code",
   "execution_count": 170,
   "id": "9906518e",
   "metadata": {},
   "outputs": [],
   "source": [
    "Car_Name = []\n",
    "Price = []"
   ]
  },
  {
   "cell_type": "code",
   "execution_count": 171,
   "id": "2c6b337d",
   "metadata": {},
   "outputs": [],
   "source": [
    "car = driver.find_elements(By.XPATH,'//h3[@class=\"subheader\"]')\n",
    "for i in car:\n",
    "    Car_Name.append(i.text)\n",
    "price = driver.find_elements(By.XPATH,'//strong')\n",
    "for i in price:\n",
    "    Price.append(i.text)"
   ]
  },
  {
   "cell_type": "code",
   "execution_count": 172,
   "id": "18e374ab",
   "metadata": {},
   "outputs": [
    {
     "name": "stdout",
     "output_type": "stream",
     "text": [
      "51 50\n"
     ]
    }
   ],
   "source": [
    "print(len(Car_Name),len(Price))"
   ]
  },
  {
   "cell_type": "code",
   "execution_count": 173,
   "id": "4b498d7f",
   "metadata": {},
   "outputs": [],
   "source": [
    "Data_8 = ({\"Car Name\":Car_Name[:50],\n",
    "           \"Price\":Price[:50]})"
   ]
  },
  {
   "cell_type": "code",
   "execution_count": 174,
   "id": "ab17f38d",
   "metadata": {},
   "outputs": [
    {
     "data": {
      "text/html": [
       "<div>\n",
       "<style scoped>\n",
       "    .dataframe tbody tr th:only-of-type {\n",
       "        vertical-align: middle;\n",
       "    }\n",
       "\n",
       "    .dataframe tbody tr th {\n",
       "        vertical-align: top;\n",
       "    }\n",
       "\n",
       "    .dataframe thead th {\n",
       "        text-align: right;\n",
       "    }\n",
       "</style>\n",
       "<table border=\"1\" class=\"dataframe\">\n",
       "  <thead>\n",
       "    <tr style=\"text-align: right;\">\n",
       "      <th></th>\n",
       "      <th>Car Name</th>\n",
       "      <th>Price</th>\n",
       "    </tr>\n",
       "  </thead>\n",
       "  <tbody>\n",
       "    <tr>\n",
       "      <th>0</th>\n",
       "      <td>Aston Martin Valour</td>\n",
       "      <td>Price: $1.5 Million</td>\n",
       "    </tr>\n",
       "    <tr>\n",
       "      <th>1</th>\n",
       "      <td>McLaren Elva</td>\n",
       "      <td>Price: $1.7 Million</td>\n",
       "    </tr>\n",
       "    <tr>\n",
       "      <th>2</th>\n",
       "      <td>Czinger 21C</td>\n",
       "      <td>Price: $1.7 Million</td>\n",
       "    </tr>\n",
       "    <tr>\n",
       "      <th>3</th>\n",
       "      <td>Ferrari Monza</td>\n",
       "      <td>Price: $1.7 Million</td>\n",
       "    </tr>\n",
       "    <tr>\n",
       "      <th>4</th>\n",
       "      <td>Gordon Murray T.33</td>\n",
       "      <td>Price: $1.7 Million</td>\n",
       "    </tr>\n",
       "    <tr>\n",
       "      <th>5</th>\n",
       "      <td>Koenigsegg Gemera</td>\n",
       "      <td>Price: $1.7 Million</td>\n",
       "    </tr>\n",
       "    <tr>\n",
       "      <th>6</th>\n",
       "      <td>Zenvo TSR-S</td>\n",
       "      <td>Price: $1.7 Million</td>\n",
       "    </tr>\n",
       "    <tr>\n",
       "      <th>7</th>\n",
       "      <td>Hennessey Venom F5</td>\n",
       "      <td>Price: $1.8 Million</td>\n",
       "    </tr>\n",
       "    <tr>\n",
       "      <th>8</th>\n",
       "      <td>Bentley Bacalar</td>\n",
       "      <td>Price: $1.9 Million</td>\n",
       "    </tr>\n",
       "    <tr>\n",
       "      <th>9</th>\n",
       "      <td>Hispano Suiza Carmen Boulogne</td>\n",
       "      <td>Price: $1.9 Million</td>\n",
       "    </tr>\n",
       "    <tr>\n",
       "      <th>10</th>\n",
       "      <td>Bentley Mulliner Batur</td>\n",
       "      <td>Price: $2.0 Million</td>\n",
       "    </tr>\n",
       "    <tr>\n",
       "      <th>11</th>\n",
       "      <td>Deus Vayanne</td>\n",
       "      <td>Price: $2.0 Million</td>\n",
       "    </tr>\n",
       "    <tr>\n",
       "      <th>12</th>\n",
       "      <td>SSC Tuatara</td>\n",
       "      <td>Price: $2.0 Million</td>\n",
       "    </tr>\n",
       "    <tr>\n",
       "      <th>13</th>\n",
       "      <td>Lotus Evija</td>\n",
       "      <td>Price: $2.1 Million</td>\n",
       "    </tr>\n",
       "    <tr>\n",
       "      <th>14</th>\n",
       "      <td>Aston Martin Vulcan</td>\n",
       "      <td>Price: $2.3 Million</td>\n",
       "    </tr>\n",
       "    <tr>\n",
       "      <th>15</th>\n",
       "      <td>Delage D12</td>\n",
       "      <td>Price: $2.3 Million</td>\n",
       "    </tr>\n",
       "    <tr>\n",
       "      <th>16</th>\n",
       "      <td>Ferrari Daytona SP3</td>\n",
       "      <td>Price: $2.3 Million</td>\n",
       "    </tr>\n",
       "    <tr>\n",
       "      <th>17</th>\n",
       "      <td>McLaren Speedtail</td>\n",
       "      <td>Price: $2.3 Million</td>\n",
       "    </tr>\n",
       "    <tr>\n",
       "      <th>18</th>\n",
       "      <td>Rimac Nevera</td>\n",
       "      <td>Price: $2.4 Million</td>\n",
       "    </tr>\n",
       "    <tr>\n",
       "      <th>19</th>\n",
       "      <td>Pagani Utopia</td>\n",
       "      <td>Price: $2.5 Million</td>\n",
       "    </tr>\n",
       "    <tr>\n",
       "      <th>20</th>\n",
       "      <td>Pininfarina Battista</td>\n",
       "      <td>Price: $2.5 Million</td>\n",
       "    </tr>\n",
       "    <tr>\n",
       "      <th>21</th>\n",
       "      <td>Gordon Murray T.50</td>\n",
       "      <td>Price: $2.6 Million</td>\n",
       "    </tr>\n",
       "    <tr>\n",
       "      <th>22</th>\n",
       "      <td>Lamborghini Countach</td>\n",
       "      <td>Price: $2.6 Million</td>\n",
       "    </tr>\n",
       "    <tr>\n",
       "      <th>23</th>\n",
       "      <td>Mercedes-AMG Project One</td>\n",
       "      <td>Price: $2.7 Million</td>\n",
       "    </tr>\n",
       "    <tr>\n",
       "      <th>24</th>\n",
       "      <td>Zenvo Aurora</td>\n",
       "      <td>Price: $2.8 Million</td>\n",
       "    </tr>\n",
       "    <tr>\n",
       "      <th>25</th>\n",
       "      <td>Aston Martin Victor</td>\n",
       "      <td>Price: $3.0 Million</td>\n",
       "    </tr>\n",
       "    <tr>\n",
       "      <th>26</th>\n",
       "      <td>Hennessey Venom F5 Roadster</td>\n",
       "      <td>$3.0 Million</td>\n",
       "    </tr>\n",
       "    <tr>\n",
       "      <th>27</th>\n",
       "      <td>Koenigsegg Jesko</td>\n",
       "      <td>Price: $3.0 Million</td>\n",
       "    </tr>\n",
       "    <tr>\n",
       "      <th>28</th>\n",
       "      <td>Aston Martin Valkyrie</td>\n",
       "      <td>Price: $3.2 Million</td>\n",
       "    </tr>\n",
       "    <tr>\n",
       "      <th>29</th>\n",
       "      <td>W Motors Lykan Hypersport</td>\n",
       "      <td>Price: $3.4 Million</td>\n",
       "    </tr>\n",
       "    <tr>\n",
       "      <th>30</th>\n",
       "      <td>McLaren Solus</td>\n",
       "      <td>$3.5 Million</td>\n",
       "    </tr>\n",
       "    <tr>\n",
       "      <th>31</th>\n",
       "      <td>Lamborghini Sian</td>\n",
       "      <td>Price: $3.6 million</td>\n",
       "    </tr>\n",
       "    <tr>\n",
       "      <th>32</th>\n",
       "      <td>Koenigsegg CC850</td>\n",
       "      <td>Price: $3.7 Million</td>\n",
       "    </tr>\n",
       "    <tr>\n",
       "      <th>33</th>\n",
       "      <td>Bugatti Chiron Super Sport 300+</td>\n",
       "      <td>Price: $3.9 Million</td>\n",
       "    </tr>\n",
       "    <tr>\n",
       "      <th>34</th>\n",
       "      <td>Lamborghini Veneno</td>\n",
       "      <td>Price: $4.5 Million</td>\n",
       "    </tr>\n",
       "    <tr>\n",
       "      <th>35</th>\n",
       "      <td>Bugatti Bolide</td>\n",
       "      <td>Price: $4.7 Million</td>\n",
       "    </tr>\n",
       "    <tr>\n",
       "      <th>36</th>\n",
       "      <td>Pininfarina B95 Speedster</td>\n",
       "      <td>Price: $4.8 Million</td>\n",
       "    </tr>\n",
       "    <tr>\n",
       "      <th>37</th>\n",
       "      <td>Bugatti Mistral</td>\n",
       "      <td>Price: $5.0 Million</td>\n",
       "    </tr>\n",
       "    <tr>\n",
       "      <th>38</th>\n",
       "      <td>Pagani Huayra Imola</td>\n",
       "      <td>Price: $5.4 Million</td>\n",
       "    </tr>\n",
       "    <tr>\n",
       "      <th>39</th>\n",
       "      <td>Bugatti Divo</td>\n",
       "      <td>Price: $5.8 Million</td>\n",
       "    </tr>\n",
       "    <tr>\n",
       "      <th>40</th>\n",
       "      <td>SP Automotive Chaos</td>\n",
       "      <td>Price: $6.4 Million</td>\n",
       "    </tr>\n",
       "    <tr>\n",
       "      <th>41</th>\n",
       "      <td>Pagani Codalunga</td>\n",
       "      <td>Price: $7.4 Million</td>\n",
       "    </tr>\n",
       "    <tr>\n",
       "      <th>42</th>\n",
       "      <td>777 Hypercar</td>\n",
       "      <td>Price: $7.5 Million</td>\n",
       "    </tr>\n",
       "    <tr>\n",
       "      <th>43</th>\n",
       "      <td>Mercedes-Maybach Exelero</td>\n",
       "      <td>Price: $8.0 Million</td>\n",
       "    </tr>\n",
       "    <tr>\n",
       "      <th>44</th>\n",
       "      <td>Bugatti Centodieci</td>\n",
       "      <td>Price: $9.0 Million</td>\n",
       "    </tr>\n",
       "    <tr>\n",
       "      <th>45</th>\n",
       "      <td>Bugatti Chiron Profilée</td>\n",
       "      <td>Price: $10.8 Million</td>\n",
       "    </tr>\n",
       "    <tr>\n",
       "      <th>46</th>\n",
       "      <td>Rolls-Royce Sweptail</td>\n",
       "      <td>Price: $12.8 Million</td>\n",
       "    </tr>\n",
       "    <tr>\n",
       "      <th>47</th>\n",
       "      <td>Bugatti La Voiture Noire</td>\n",
       "      <td>Price: $13.4 Million</td>\n",
       "    </tr>\n",
       "    <tr>\n",
       "      <th>48</th>\n",
       "      <td>Rolls-Royce Boat Tail*</td>\n",
       "      <td>Price: $28.0 Million (est.)</td>\n",
       "    </tr>\n",
       "    <tr>\n",
       "      <th>49</th>\n",
       "      <td>Rolls-Royce La Rose Noire Droptail</td>\n",
       "      <td>Price: $30 Million (est.)</td>\n",
       "    </tr>\n",
       "  </tbody>\n",
       "</table>\n",
       "</div>"
      ],
      "text/plain": [
       "                              Car Name                        Price\n",
       "0                  Aston Martin Valour          Price: $1.5 Million\n",
       "1                         McLaren Elva          Price: $1.7 Million\n",
       "2                          Czinger 21C          Price: $1.7 Million\n",
       "3                        Ferrari Monza          Price: $1.7 Million\n",
       "4                   Gordon Murray T.33          Price: $1.7 Million\n",
       "5                    Koenigsegg Gemera          Price: $1.7 Million\n",
       "6                          Zenvo TSR-S          Price: $1.7 Million\n",
       "7                   Hennessey Venom F5          Price: $1.8 Million\n",
       "8                      Bentley Bacalar          Price: $1.9 Million\n",
       "9        Hispano Suiza Carmen Boulogne          Price: $1.9 Million\n",
       "10              Bentley Mulliner Batur          Price: $2.0 Million\n",
       "11                        Deus Vayanne          Price: $2.0 Million\n",
       "12                         SSC Tuatara          Price: $2.0 Million\n",
       "13                         Lotus Evija          Price: $2.1 Million\n",
       "14                 Aston Martin Vulcan          Price: $2.3 Million\n",
       "15                          Delage D12          Price: $2.3 Million\n",
       "16                 Ferrari Daytona SP3          Price: $2.3 Million\n",
       "17                   McLaren Speedtail          Price: $2.3 Million\n",
       "18                        Rimac Nevera          Price: $2.4 Million\n",
       "19                       Pagani Utopia          Price: $2.5 Million\n",
       "20                Pininfarina Battista          Price: $2.5 Million\n",
       "21                  Gordon Murray T.50          Price: $2.6 Million\n",
       "22                Lamborghini Countach          Price: $2.6 Million\n",
       "23            Mercedes-AMG Project One          Price: $2.7 Million\n",
       "24                        Zenvo Aurora          Price: $2.8 Million\n",
       "25                 Aston Martin Victor          Price: $3.0 Million\n",
       "26         Hennessey Venom F5 Roadster                 $3.0 Million\n",
       "27                    Koenigsegg Jesko          Price: $3.0 Million\n",
       "28               Aston Martin Valkyrie          Price: $3.2 Million\n",
       "29           W Motors Lykan Hypersport          Price: $3.4 Million\n",
       "30                       McLaren Solus                 $3.5 Million\n",
       "31                    Lamborghini Sian          Price: $3.6 million\n",
       "32                    Koenigsegg CC850          Price: $3.7 Million\n",
       "33     Bugatti Chiron Super Sport 300+          Price: $3.9 Million\n",
       "34                  Lamborghini Veneno          Price: $4.5 Million\n",
       "35                      Bugatti Bolide          Price: $4.7 Million\n",
       "36           Pininfarina B95 Speedster          Price: $4.8 Million\n",
       "37                     Bugatti Mistral          Price: $5.0 Million\n",
       "38                 Pagani Huayra Imola          Price: $5.4 Million\n",
       "39                        Bugatti Divo          Price: $5.8 Million\n",
       "40                 SP Automotive Chaos          Price: $6.4 Million\n",
       "41                    Pagani Codalunga          Price: $7.4 Million\n",
       "42                        777 Hypercar          Price: $7.5 Million\n",
       "43            Mercedes-Maybach Exelero          Price: $8.0 Million\n",
       "44                  Bugatti Centodieci          Price: $9.0 Million\n",
       "45             Bugatti Chiron Profilée         Price: $10.8 Million\n",
       "46                Rolls-Royce Sweptail         Price: $12.8 Million\n",
       "47            Bugatti La Voiture Noire         Price: $13.4 Million\n",
       "48              Rolls-Royce Boat Tail*  Price: $28.0 Million (est.)\n",
       "49  Rolls-Royce La Rose Noire Droptail    Price: $30 Million (est.)"
      ]
     },
     "execution_count": 174,
     "metadata": {},
     "output_type": "execute_result"
    }
   ],
   "source": [
    "Df =  pd.DataFrame(Data_8)\n",
    "Df"
   ]
  }
 ],
 "metadata": {
  "kernelspec": {
   "display_name": "Python 3 (ipykernel)",
   "language": "python",
   "name": "python3"
  },
  "language_info": {
   "codemirror_mode": {
    "name": "ipython",
    "version": 3
   },
   "file_extension": ".py",
   "mimetype": "text/x-python",
   "name": "python",
   "nbconvert_exporter": "python",
   "pygments_lexer": "ipython3",
   "version": "3.11.5"
  }
 },
 "nbformat": 4,
 "nbformat_minor": 5
}
