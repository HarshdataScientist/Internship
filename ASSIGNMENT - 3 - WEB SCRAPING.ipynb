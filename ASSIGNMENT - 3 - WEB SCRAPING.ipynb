{
 "cells": [
  {
   "cell_type": "markdown",
   "id": "4f3251c6",
   "metadata": {},
   "source": [
    "                                       WEB SCRAPING-ASSIGNMENT3"
   ]
  },
  {
   "cell_type": "code",
   "execution_count": 1,
   "id": "ab8ec681",
   "metadata": {},
   "outputs": [
    {
     "name": "stdout",
     "output_type": "stream",
     "text": [
      "Requirement already satisfied: selenium in c:\\users\\admin\\anaconda3\\lib\\site-packages (4.17.2)\n",
      "Requirement already satisfied: urllib3[socks]<3,>=1.26 in c:\\users\\admin\\anaconda3\\lib\\site-packages (from selenium) (1.26.16)\n",
      "Requirement already satisfied: trio~=0.17 in c:\\users\\admin\\anaconda3\\lib\\site-packages (from selenium) (0.24.0)\n",
      "Requirement already satisfied: trio-websocket~=0.9 in c:\\users\\admin\\anaconda3\\lib\\site-packages (from selenium) (0.11.1)\n",
      "Requirement already satisfied: certifi>=2021.10.8 in c:\\users\\admin\\anaconda3\\lib\\site-packages (from selenium) (2023.7.22)\n",
      "Requirement already satisfied: typing_extensions>=4.9.0 in c:\\users\\admin\\anaconda3\\lib\\site-packages (from selenium) (4.9.0)\n",
      "Requirement already satisfied: attrs>=20.1.0 in c:\\users\\admin\\anaconda3\\lib\\site-packages (from trio~=0.17->selenium) (22.1.0)\n",
      "Requirement already satisfied: sortedcontainers in c:\\users\\admin\\anaconda3\\lib\\site-packages (from trio~=0.17->selenium) (2.4.0)\n",
      "Requirement already satisfied: idna in c:\\users\\admin\\anaconda3\\lib\\site-packages (from trio~=0.17->selenium) (3.4)\n",
      "Requirement already satisfied: outcome in c:\\users\\admin\\anaconda3\\lib\\site-packages (from trio~=0.17->selenium) (1.3.0.post0)\n",
      "Requirement already satisfied: sniffio>=1.3.0 in c:\\users\\admin\\anaconda3\\lib\\site-packages (from trio~=0.17->selenium) (1.3.0)\n",
      "Requirement already satisfied: cffi>=1.14 in c:\\users\\admin\\anaconda3\\lib\\site-packages (from trio~=0.17->selenium) (1.15.1)\n",
      "Requirement already satisfied: wsproto>=0.14 in c:\\users\\admin\\anaconda3\\lib\\site-packages (from trio-websocket~=0.9->selenium) (1.2.0)\n",
      "Requirement already satisfied: PySocks!=1.5.7,<2.0,>=1.5.6 in c:\\users\\admin\\anaconda3\\lib\\site-packages (from urllib3[socks]<3,>=1.26->selenium) (1.7.1)\n",
      "Requirement already satisfied: pycparser in c:\\users\\admin\\anaconda3\\lib\\site-packages (from cffi>=1.14->trio~=0.17->selenium) (2.21)\n",
      "Requirement already satisfied: h11<1,>=0.9.0 in c:\\users\\admin\\anaconda3\\lib\\site-packages (from wsproto>=0.14->trio-websocket~=0.9->selenium) (0.14.0)\n"
     ]
    }
   ],
   "source": [
    "!pip install selenium"
   ]
  },
  {
   "cell_type": "code",
   "execution_count": 2,
   "id": "78b65453",
   "metadata": {},
   "outputs": [],
   "source": [
    "import selenium\n",
    "import pandas as pd\n",
    "import time\n",
    "from bs4 import BeautifulSoup\n",
    "from selenium import webdriver\n",
    "from selenium.common.exceptions import StaleElementReferenceException, NoSuchElementException\n",
    "import warnings\n",
    "warnings.filterwarnings('ignore')\n",
    "import requests\n",
    "from selenium.webdriver.common.by import By"
   ]
  },
  {
   "cell_type": "code",
   "execution_count": 3,
   "id": "8c564b8c",
   "metadata": {},
   "outputs": [],
   "source": [
    "driver = webdriver.Chrome()"
   ]
  },
  {
   "cell_type": "markdown",
   "id": "9195e5a6",
   "metadata": {},
   "source": [
    "1. Write a python program which searches all the product under a particular product from www.amazon.in. The product to be searched will be taken as input from user. For e.g. If user input is ‘guitar’. Then search for guitars."
   ]
  },
  {
   "cell_type": "code",
   "execution_count": 19,
   "id": "2940589c",
   "metadata": {},
   "outputs": [],
   "source": [
    "web = driver.get('http://www.amazon.in/')"
   ]
  },
  {
   "cell_type": "code",
   "execution_count": 20,
   "id": "e1243d27",
   "metadata": {},
   "outputs": [],
   "source": [
    "search = driver.find_element(By.XPATH,'//input[@type=\"text\"]')\n",
    "search.send_keys('Guitar')"
   ]
  },
  {
   "cell_type": "code",
   "execution_count": 21,
   "id": "13df6801",
   "metadata": {},
   "outputs": [],
   "source": [
    "search_1 = driver.find_element(By.XPATH,'//input[@id=\"nav-search-submit-button\"]')\n",
    "search_1.click()"
   ]
  },
  {
   "cell_type": "markdown",
   "id": "5b716c4e",
   "metadata": {},
   "source": [
    "2. In the above question, now scrape the following details of each product listed in first 3 pages of your search results and save it in a data frame and csv. In case if any product has less than 3 pages in search results then scrape all the products available under that product name. Details to be scraped are: \"Brand\n",
    "Name\", \"Name of the Product\", \"Price\", \"Return/Exchange\", \"Expected Delivery\", \"Availability\" and\n",
    "“Product URL”. In case, if any of the details are missing for any of the product then replace it by “-“."
   ]
  },
  {
   "cell_type": "code",
   "execution_count": 9,
   "id": "81cb007c",
   "metadata": {},
   "outputs": [],
   "source": [
    "url = []\n",
    "start = 0\n",
    "end = 3\n",
    "for page in range(start,end):\n",
    "    url_1 = driver.find_elements(By.XPATH,'//h2[@class=\"a-size-mini a-spacing-none a-color-base s-line-clamp-4\"]/a')\n",
    "    for i in url_1:\n",
    "        url.append(i.get_attribute('href'))\n",
    "        next_button = driver.find_elements(By.XPATH,'//a[@class=\"s-pagination-item s-pagination-next s-pagination-button s-pagination-separator\"]')"
   ]
  },
  {
   "cell_type": "code",
   "execution_count": 11,
   "id": "8e17f8db",
   "metadata": {},
   "outputs": [],
   "source": [
    "BN = []\n",
    "NOP = []\n",
    "price = []\n",
    "exch = []\n",
    "deliver = []\n",
    "available = []"
   ]
  },
  {
   "cell_type": "code",
   "execution_count": 22,
   "id": "24ed8363",
   "metadata": {
    "scrolled": true
   },
   "outputs": [],
   "source": [
    "for i in url:\n",
    "    driver.get(i)\n",
    "    time.sleep(5)\n",
    "    try:\n",
    "        B_name = driver.find_element(By.XPATH,'/html/body/div[2]/div/div[5]/div[3]/div[4]/div[48]/div/table/tbody/tr[1]/td[2]/span')\n",
    "        BN.append(B_name.text)\n",
    "    except NoSuchElementException :\n",
    "        BN.append('-')"
   ]
  },
  {
   "cell_type": "code",
   "execution_count": 23,
   "id": "950e9cfd",
   "metadata": {},
   "outputs": [],
   "source": [
    "for i in url:\n",
    "    driver.get(i)\n",
    "    time.sleep(3)\n",
    "    try:\n",
    "        name = driver.find_element(By.XPATH,'//span[@class=\"a-size-large product-title-word-break\"]')\n",
    "        NOP.append(name.text)\n",
    "    except NoSuchElementException :\n",
    "        NOP.append('-')    "
   ]
  },
  {
   "cell_type": "code",
   "execution_count": 12,
   "id": "1eee0a96",
   "metadata": {},
   "outputs": [],
   "source": [
    "for i in url:\n",
    "    driver.get(i)\n",
    "    time.sleep(3)\n",
    "    try:\n",
    "        pr = driver.find_element(By.XPATH,'//span[@class=\"a-price-whole\"]')\n",
    "        price.append(pr.text)\n",
    "    except NoSuchElementException :\n",
    "        price.append('-')"
   ]
  },
  {
   "cell_type": "code",
   "execution_count": 24,
   "id": "e1fc5a40",
   "metadata": {},
   "outputs": [],
   "source": [
    " for i in url:\n",
    "    driver.get(i)\n",
    "    time.sleep(3)\n",
    "    try:\n",
    "        ex = driver.find_element(By.XPATH,'/html/body/div[2]/div/div[6]/div[3]/div[4]/div[23]/div[2]/div/div/div/div[2]/div/ol/li[3]/div/span/div[2]/span')\n",
    "        exch.append(ex.text)\n",
    "    except NoSuchElementException :\n",
    "        exch.append('-')"
   ]
  },
  {
   "cell_type": "code",
   "execution_count": 26,
   "id": "10bb6a4a",
   "metadata": {},
   "outputs": [],
   "source": [
    "for i in url:\n",
    "    driver.get(i)\n",
    "    time.sleep(3)\n",
    "    try: \n",
    "        delivery = driver.find_element(By.XPATH,'/html/body/div[2]/div/div[6]/div[3]/div[1]/div[3]/div/div[1]/div/div/div/form/div/div/div/div/div[4]/div/div[3]/div[10]/div[1]/div/div/div/span/span')\n",
    "        deliver.append(delivery.text)\n",
    "    except NoSuchElementException :\n",
    "        deliver.append('-')"
   ]
  },
  {
   "cell_type": "code",
   "execution_count": 25,
   "id": "c64896ed",
   "metadata": {},
   "outputs": [],
   "source": [
    "for i in url:\n",
    "    driver.get(i)\n",
    "    time.sleep(3)\n",
    "    try:\n",
    "        avi = driver.find_element(By.XPATH,'/html/body/div[2]/div/div[6]/div[3]/div[1]/div[3]/div/div[1]/div/div/div/form/div/div/div/div/div[4]/div/div[5]/div/div[1]/span')\n",
    "        available.append(avi.text)\n",
    "    except NoSuchElementException :\n",
    "        available.append('-')"
   ]
  },
  {
   "cell_type": "code",
   "execution_count": 27,
   "id": "698df624",
   "metadata": {},
   "outputs": [
    {
     "name": "stdout",
     "output_type": "stream",
     "text": [
      "291 195 195 195 195 195 195\n"
     ]
    }
   ],
   "source": [
    "print(len(BN),len(NOP),len(price),len(exch),len(deliver),len(available),len(url))"
   ]
  },
  {
   "cell_type": "code",
   "execution_count": 28,
   "id": "b92ffe56",
   "metadata": {},
   "outputs": [],
   "source": [
    "Data = ({\"Brand Name\":BN[:195],\n",
    "        \"Name of the Product\":NOP,\n",
    "        \"Price\":price,\n",
    "        \"Return/Exchange\":exch,\n",
    "        \"Expected Delivery\":deliver,\n",
    "        \"Availability\":available,\n",
    "        \"Product URL\":url})"
   ]
  },
  {
   "cell_type": "code",
   "execution_count": 29,
   "id": "01e74948",
   "metadata": {},
   "outputs": [],
   "source": [
    "df = pd.DataFrame(Data)"
   ]
  },
  {
   "cell_type": "code",
   "execution_count": 30,
   "id": "b6387ff6",
   "metadata": {},
   "outputs": [
    {
     "data": {
      "text/html": [
       "<div>\n",
       "<style scoped>\n",
       "    .dataframe tbody tr th:only-of-type {\n",
       "        vertical-align: middle;\n",
       "    }\n",
       "\n",
       "    .dataframe tbody tr th {\n",
       "        vertical-align: top;\n",
       "    }\n",
       "\n",
       "    .dataframe thead th {\n",
       "        text-align: right;\n",
       "    }\n",
       "</style>\n",
       "<table border=\"1\" class=\"dataframe\">\n",
       "  <thead>\n",
       "    <tr style=\"text-align: right;\">\n",
       "      <th></th>\n",
       "      <th>Brand Name</th>\n",
       "      <th>Name of the Product</th>\n",
       "      <th>Price</th>\n",
       "      <th>Return/Exchange</th>\n",
       "      <th>Expected Delivery</th>\n",
       "      <th>Availability</th>\n",
       "      <th>Product URL</th>\n",
       "    </tr>\n",
       "  </thead>\n",
       "  <tbody>\n",
       "    <tr>\n",
       "      <th>0</th>\n",
       "      <td>Kadence</td>\n",
       "      <td>Kadence Frontier guitar with Online Guitar lea...</td>\n",
       "      <td>4,499</td>\n",
       "      <td>-</td>\n",
       "      <td>-</td>\n",
       "      <td>-</td>\n",
       "      <td>https://www.amazon.in/sspa/click?ie=UTF8&amp;spc=M...</td>\n",
       "    </tr>\n",
       "    <tr>\n",
       "      <th>1</th>\n",
       "      <td>Kadence</td>\n",
       "      <td>Kadence rosewood Guitar Frontier Series, Elect...</td>\n",
       "      <td>5,499</td>\n",
       "      <td>-</td>\n",
       "      <td>-</td>\n",
       "      <td>-</td>\n",
       "      <td>https://www.amazon.in/sspa/click?ie=UTF8&amp;spc=M...</td>\n",
       "    </tr>\n",
       "    <tr>\n",
       "      <th>2</th>\n",
       "      <td>Kadence</td>\n",
       "      <td>Kadence Slowhand Premium Jumbo Semi Acoustic G...</td>\n",
       "      <td>9,999</td>\n",
       "      <td>-</td>\n",
       "      <td>-</td>\n",
       "      <td>-</td>\n",
       "      <td>https://www.amazon.in/sspa/click?ie=UTF8&amp;spc=M...</td>\n",
       "    </tr>\n",
       "    <tr>\n",
       "      <th>3</th>\n",
       "      <td>ENYA</td>\n",
       "      <td>Enya Nova Go Carbon Fiber Acoustic Guitar 1/2 ...</td>\n",
       "      <td>14,805</td>\n",
       "      <td>-</td>\n",
       "      <td>-</td>\n",
       "      <td>-</td>\n",
       "      <td>https://www.amazon.in/sspa/click?ie=UTF8&amp;spc=M...</td>\n",
       "    </tr>\n",
       "    <tr>\n",
       "      <th>4</th>\n",
       "      <td>Intern</td>\n",
       "      <td>Intern INT-38C Right hand Acoustic Guitar Kit,...</td>\n",
       "      <td>2,099</td>\n",
       "      <td>-</td>\n",
       "      <td>-</td>\n",
       "      <td>-</td>\n",
       "      <td>https://www.amazon.in/Intern-INT-38C-Acoustic-...</td>\n",
       "    </tr>\n",
       "    <tr>\n",
       "      <th>...</th>\n",
       "      <td>...</td>\n",
       "      <td>...</td>\n",
       "      <td>...</td>\n",
       "      <td>...</td>\n",
       "      <td>...</td>\n",
       "      <td>...</td>\n",
       "      <td>...</td>\n",
       "    </tr>\n",
       "    <tr>\n",
       "      <th>190</th>\n",
       "      <td>-</td>\n",
       "      <td>Juârez Acoustic Guitar, 38 Inch Cutaway, JRZ38...</td>\n",
       "      <td>2,489</td>\n",
       "      <td>7 days Replacement</td>\n",
       "      <td>Sunday, 18 February</td>\n",
       "      <td>In stock</td>\n",
       "      <td>https://www.amazon.in/Juarez-Acoustic-Guitar-C...</td>\n",
       "    </tr>\n",
       "    <tr>\n",
       "      <th>191</th>\n",
       "      <td>Kadence</td>\n",
       "      <td>chiransi String Acoustic Guitar // Learning To...</td>\n",
       "      <td>699</td>\n",
       "      <td>-</td>\n",
       "      <td>-</td>\n",
       "      <td>-</td>\n",
       "      <td>https://www.amazon.in/sspa/click?ie=UTF8&amp;spc=M...</td>\n",
       "    </tr>\n",
       "    <tr>\n",
       "      <th>192</th>\n",
       "      <td>Intern</td>\n",
       "      <td>ROCKON 41 INCHES ACOUSTIC GUITAR WITH HARD THE...</td>\n",
       "      <td>8,979</td>\n",
       "      <td>-</td>\n",
       "      <td>-</td>\n",
       "      <td>-</td>\n",
       "      <td>https://www.amazon.in/sspa/click?ie=UTF8&amp;spc=M...</td>\n",
       "    </tr>\n",
       "    <tr>\n",
       "      <th>193</th>\n",
       "      <td>JUAREZ</td>\n",
       "      <td>PS Signature 41inch RoseWood Acoustic Guitar, ...</td>\n",
       "      <td>3,899</td>\n",
       "      <td>-</td>\n",
       "      <td>-</td>\n",
       "      <td>-</td>\n",
       "      <td>https://www.amazon.in/sspa/click?ie=UTF8&amp;spc=M...</td>\n",
       "    </tr>\n",
       "    <tr>\n",
       "      <th>194</th>\n",
       "      <td>Intern</td>\n",
       "      <td>BLUEBERRY B-D38, Acoustic Guitar Kit Inbuilt T...</td>\n",
       "      <td>2,890</td>\n",
       "      <td>-</td>\n",
       "      <td>-</td>\n",
       "      <td>-</td>\n",
       "      <td>https://www.amazon.in/sspa/click?ie=UTF8&amp;spc=M...</td>\n",
       "    </tr>\n",
       "  </tbody>\n",
       "</table>\n",
       "<p>195 rows × 7 columns</p>\n",
       "</div>"
      ],
      "text/plain": [
       "    Brand Name                                Name of the Product   Price  \\\n",
       "0      Kadence  Kadence Frontier guitar with Online Guitar lea...   4,499   \n",
       "1      Kadence  Kadence rosewood Guitar Frontier Series, Elect...   5,499   \n",
       "2      Kadence  Kadence Slowhand Premium Jumbo Semi Acoustic G...   9,999   \n",
       "3         ENYA  Enya Nova Go Carbon Fiber Acoustic Guitar 1/2 ...  14,805   \n",
       "4       Intern  Intern INT-38C Right hand Acoustic Guitar Kit,...   2,099   \n",
       "..         ...                                                ...     ...   \n",
       "190          -  Juârez Acoustic Guitar, 38 Inch Cutaway, JRZ38...   2,489   \n",
       "191    Kadence  chiransi String Acoustic Guitar // Learning To...     699   \n",
       "192     Intern  ROCKON 41 INCHES ACOUSTIC GUITAR WITH HARD THE...   8,979   \n",
       "193     JUAREZ  PS Signature 41inch RoseWood Acoustic Guitar, ...   3,899   \n",
       "194     Intern  BLUEBERRY B-D38, Acoustic Guitar Kit Inbuilt T...   2,890   \n",
       "\n",
       "        Return/Exchange    Expected Delivery Availability  \\\n",
       "0                     -                    -            -   \n",
       "1                     -                    -            -   \n",
       "2                     -                    -            -   \n",
       "3                     -                    -            -   \n",
       "4                     -                    -            -   \n",
       "..                  ...                  ...          ...   \n",
       "190  7 days Replacement  Sunday, 18 February     In stock   \n",
       "191                   -                    -            -   \n",
       "192                   -                    -            -   \n",
       "193                   -                    -            -   \n",
       "194                   -                    -            -   \n",
       "\n",
       "                                           Product URL  \n",
       "0    https://www.amazon.in/sspa/click?ie=UTF8&spc=M...  \n",
       "1    https://www.amazon.in/sspa/click?ie=UTF8&spc=M...  \n",
       "2    https://www.amazon.in/sspa/click?ie=UTF8&spc=M...  \n",
       "3    https://www.amazon.in/sspa/click?ie=UTF8&spc=M...  \n",
       "4    https://www.amazon.in/Intern-INT-38C-Acoustic-...  \n",
       "..                                                 ...  \n",
       "190  https://www.amazon.in/Juarez-Acoustic-Guitar-C...  \n",
       "191  https://www.amazon.in/sspa/click?ie=UTF8&spc=M...  \n",
       "192  https://www.amazon.in/sspa/click?ie=UTF8&spc=M...  \n",
       "193  https://www.amazon.in/sspa/click?ie=UTF8&spc=M...  \n",
       "194  https://www.amazon.in/sspa/click?ie=UTF8&spc=M...  \n",
       "\n",
       "[195 rows x 7 columns]"
      ]
     },
     "execution_count": 30,
     "metadata": {},
     "output_type": "execute_result"
    }
   ],
   "source": [
    "df"
   ]
  },
  {
   "cell_type": "markdown",
   "id": "eb389fde",
   "metadata": {},
   "source": [
    "3. Write a python program to access the search bar and search button on images.google.com and scrape 10 images each for keywords ‘fruits’, ‘cars’ and ‘Machine Learning’, ‘Guitar’, ‘Cakes’."
   ]
  },
  {
   "cell_type": "code",
   "execution_count": 62,
   "id": "1116fd57",
   "metadata": {},
   "outputs": [],
   "source": [
    "web_1 = driver.get('http://www.images.google.com/')"
   ]
  },
  {
   "cell_type": "code",
   "execution_count": 63,
   "id": "8bcf26ed",
   "metadata": {},
   "outputs": [],
   "source": [
    "fru = driver.find_element(By.XPATH,'/html/body/div[1]/div[3]/form/div[1]/div[1]/div[1]/div/div[2]/textarea')\n",
    "fru.send_keys('Fruits images')\n",
    "cli = driver.find_element(By.XPATH,'//span[@class=\"z1asCe MZy1Rb\"]')\n",
    "cli.click()"
   ]
  },
  {
   "cell_type": "code",
   "execution_count": 64,
   "id": "38468d88",
   "metadata": {},
   "outputs": [],
   "source": [
    "Fruit = []\n",
    "Cars = []\n",
    "Machine = []\n",
    "Guitar = []\n",
    "Cake = []"
   ]
  },
  {
   "cell_type": "code",
   "execution_count": 65,
   "id": "a60dfa89",
   "metadata": {},
   "outputs": [],
   "source": [
    "frui = driver.find_elements(By.XPATH,'//div[@class=\"fR600b islir\"]/img')\n",
    "for i in frui:\n",
    "    Fruit.append(i.get_attribute('src'))"
   ]
  },
  {
   "cell_type": "code",
   "execution_count": 66,
   "id": "9f91c9a7",
   "metadata": {},
   "outputs": [],
   "source": [
    "driver.quit()"
   ]
  },
  {
   "cell_type": "code",
   "execution_count": 67,
   "id": "f8f19bd7",
   "metadata": {},
   "outputs": [],
   "source": [
    "driver = webdriver.Chrome()\n",
    "web_1 = driver.get('http://www.images.google.com/')"
   ]
  },
  {
   "cell_type": "code",
   "execution_count": 68,
   "id": "165c7874",
   "metadata": {},
   "outputs": [],
   "source": [
    "car = driver.find_element(By.XPATH,'/html/body/div[1]/div[3]/form/div[1]/div[1]/div[1]/div/div[2]/textarea')\n",
    "car.send_keys('Top 10 Cars')\n",
    "cli = driver.find_element(By.XPATH,'//span[@class=\"z1asCe MZy1Rb\"]')\n",
    "cli.click()"
   ]
  },
  {
   "cell_type": "code",
   "execution_count": 69,
   "id": "063be01c",
   "metadata": {},
   "outputs": [],
   "source": [
    "car = driver.find_elements(By.XPATH,'//div[@class=\"fR600b islir\"]/img')\n",
    "for i in car:\n",
    "    Cars.append(i.get_attribute('src'))"
   ]
  },
  {
   "cell_type": "code",
   "execution_count": 70,
   "id": "8b7bb3f2",
   "metadata": {},
   "outputs": [],
   "source": [
    "driver.quit()"
   ]
  },
  {
   "cell_type": "code",
   "execution_count": 71,
   "id": "f62bf452",
   "metadata": {},
   "outputs": [],
   "source": [
    "driver = webdriver.Chrome()"
   ]
  },
  {
   "cell_type": "code",
   "execution_count": 72,
   "id": "e20745da",
   "metadata": {},
   "outputs": [],
   "source": [
    "web_1 = driver.get('http://www.images.google.com/')"
   ]
  },
  {
   "cell_type": "code",
   "execution_count": 74,
   "id": "4a48224d",
   "metadata": {},
   "outputs": [],
   "source": [
    "man = driver.find_element(By.XPATH,'/html/body/div[1]/div[3]/form/div[1]/div[1]/div[1]/div/div[2]/textarea')\n",
    "man.send_keys('Mashine Learning')\n",
    "cli = driver.find_element(By.XPATH,'//span[@class=\"z1asCe MZy1Rb\"]')\n",
    "cli.click()"
   ]
  },
  {
   "cell_type": "code",
   "execution_count": 75,
   "id": "b859b9b2",
   "metadata": {},
   "outputs": [],
   "source": [
    "Man = driver.find_elements(By.XPATH,'//div[@class=\"fR600b islir\"]/img')\n",
    "for i in Man:\n",
    "    Machine.append(i.get_attribute('src'))"
   ]
  },
  {
   "cell_type": "code",
   "execution_count": 76,
   "id": "819be669",
   "metadata": {},
   "outputs": [],
   "source": [
    "driver.quit()"
   ]
  },
  {
   "cell_type": "code",
   "execution_count": 77,
   "id": "1f62e48f",
   "metadata": {},
   "outputs": [],
   "source": [
    "driver = webdriver.Chrome()\n",
    "web_1 = driver.get('http://www.images.google.com/')"
   ]
  },
  {
   "cell_type": "code",
   "execution_count": 78,
   "id": "2c5eecc7",
   "metadata": {},
   "outputs": [],
   "source": [
    "git = driver.find_element(By.XPATH,'/html/body/div[1]/div[3]/form/div[1]/div[1]/div[1]/div/div[2]/textarea')\n",
    "git.send_keys('Guitar')\n",
    "cli = driver.find_element(By.XPATH,'//span[@class=\"z1asCe MZy1Rb\"]')\n",
    "cli.click()"
   ]
  },
  {
   "cell_type": "code",
   "execution_count": 80,
   "id": "0f786088",
   "metadata": {},
   "outputs": [],
   "source": [
    "gita = driver.find_elements(By.XPATH,'//div[@class=\"fR600b islir\"]/img')\n",
    "for i in gita:\n",
    "    Guitar.append(i.get_attribute('src'))"
   ]
  },
  {
   "cell_type": "code",
   "execution_count": 82,
   "id": "ddde0863",
   "metadata": {},
   "outputs": [],
   "source": [
    "driver.quit()"
   ]
  },
  {
   "cell_type": "code",
   "execution_count": 83,
   "id": "08ad8e24",
   "metadata": {},
   "outputs": [],
   "source": [
    "driver = webdriver.Chrome()\n",
    "web_1 = driver.get('http://www.images.google.com/')"
   ]
  },
  {
   "cell_type": "code",
   "execution_count": 84,
   "id": "74131740",
   "metadata": {},
   "outputs": [],
   "source": [
    "cak = driver.find_element(By.XPATH,'/html/body/div[1]/div[3]/form/div[1]/div[1]/div[1]/div/div[2]/textarea')\n",
    "cak.send_keys('Cake')\n",
    "cli = driver.find_element(By.XPATH,'//span[@class=\"z1asCe MZy1Rb\"]')\n",
    "cli.click()"
   ]
  },
  {
   "cell_type": "code",
   "execution_count": 85,
   "id": "584bde9d",
   "metadata": {},
   "outputs": [],
   "source": [
    "cake = driver.find_elements(By.XPATH,'//div[@class=\"fR600b islir\"]/img')\n",
    "for i in cake:\n",
    "    Cake.append(i.get_attribute('src'))"
   ]
  },
  {
   "cell_type": "code",
   "execution_count": 86,
   "id": "edb1926c",
   "metadata": {},
   "outputs": [],
   "source": [
    "Data = ({\"Fruits\":Fruit[:10],\n",
    "        \"Cars\":Cars[:10],\n",
    "        \"Machine Learning\":Machine[:10],\n",
    "        \"Guitar\":Guitar[:10],\n",
    "        \"Cake\":Cake[:10]})"
   ]
  },
  {
   "cell_type": "code",
   "execution_count": 87,
   "id": "b0e282b0",
   "metadata": {},
   "outputs": [],
   "source": [
    "Df = pd.DataFrame(Data)"
   ]
  },
  {
   "cell_type": "code",
   "execution_count": 88,
   "id": "406c31fd",
   "metadata": {},
   "outputs": [
    {
     "data": {
      "text/html": [
       "<div>\n",
       "<style scoped>\n",
       "    .dataframe tbody tr th:only-of-type {\n",
       "        vertical-align: middle;\n",
       "    }\n",
       "\n",
       "    .dataframe tbody tr th {\n",
       "        vertical-align: top;\n",
       "    }\n",
       "\n",
       "    .dataframe thead th {\n",
       "        text-align: right;\n",
       "    }\n",
       "</style>\n",
       "<table border=\"1\" class=\"dataframe\">\n",
       "  <thead>\n",
       "    <tr style=\"text-align: right;\">\n",
       "      <th></th>\n",
       "      <th>Fruits</th>\n",
       "      <th>Cars</th>\n",
       "      <th>Machine Learning</th>\n",
       "      <th>Guitar</th>\n",
       "      <th>Cake</th>\n",
       "    </tr>\n",
       "  </thead>\n",
       "  <tbody>\n",
       "    <tr>\n",
       "      <th>0</th>\n",
       "      <td>data:image/jpeg;base64,/9j/4AAQSkZJRgABAQAAAQA...</td>\n",
       "      <td>data:image/jpeg;base64,/9j/4AAQSkZJRgABAQAAAQA...</td>\n",
       "      <td>data:image/jpeg;base64,/9j/4AAQSkZJRgABAQAAAQA...</td>\n",
       "      <td>data:image/jpeg;base64,/9j/4AAQSkZJRgABAQAAAQA...</td>\n",
       "      <td>data:image/jpeg;base64,/9j/4AAQSkZJRgABAQAAAQA...</td>\n",
       "    </tr>\n",
       "    <tr>\n",
       "      <th>1</th>\n",
       "      <td>data:image/jpeg;base64,/9j/4AAQSkZJRgABAQAAAQA...</td>\n",
       "      <td>data:image/jpeg;base64,/9j/4AAQSkZJRgABAQAAAQA...</td>\n",
       "      <td>data:image/jpeg;base64,/9j/4AAQSkZJRgABAQAAAQA...</td>\n",
       "      <td>data:image/jpeg;base64,/9j/4AAQSkZJRgABAQAAAQA...</td>\n",
       "      <td>data:image/jpeg;base64,/9j/4AAQSkZJRgABAQAAAQA...</td>\n",
       "    </tr>\n",
       "    <tr>\n",
       "      <th>2</th>\n",
       "      <td>data:image/jpeg;base64,/9j/4AAQSkZJRgABAQAAAQA...</td>\n",
       "      <td>data:image/jpeg;base64,/9j/4AAQSkZJRgABAQAAAQA...</td>\n",
       "      <td>data:image/png;base64,iVBORw0KGgoAAAANSUhEUgAA...</td>\n",
       "      <td>data:image/jpeg;base64,/9j/4AAQSkZJRgABAQAAAQA...</td>\n",
       "      <td>data:image/jpeg;base64,/9j/4AAQSkZJRgABAQAAAQA...</td>\n",
       "    </tr>\n",
       "    <tr>\n",
       "      <th>3</th>\n",
       "      <td>data:image/jpeg;base64,/9j/4AAQSkZJRgABAQAAAQA...</td>\n",
       "      <td>data:image/jpeg;base64,/9j/4AAQSkZJRgABAQAAAQA...</td>\n",
       "      <td>data:image/png;base64,iVBORw0KGgoAAAANSUhEUgAA...</td>\n",
       "      <td>data:image/jpeg;base64,/9j/4AAQSkZJRgABAQAAAQA...</td>\n",
       "      <td>data:image/jpeg;base64,/9j/4AAQSkZJRgABAQAAAQA...</td>\n",
       "    </tr>\n",
       "    <tr>\n",
       "      <th>4</th>\n",
       "      <td>data:image/jpeg;base64,/9j/4AAQSkZJRgABAQAAAQA...</td>\n",
       "      <td>data:image/jpeg;base64,/9j/4AAQSkZJRgABAQAAAQA...</td>\n",
       "      <td>data:image/jpeg;base64,/9j/4AAQSkZJRgABAQAAAQA...</td>\n",
       "      <td>data:image/jpeg;base64,/9j/4AAQSkZJRgABAQAAAQA...</td>\n",
       "      <td>data:image/jpeg;base64,/9j/4AAQSkZJRgABAQAAAQA...</td>\n",
       "    </tr>\n",
       "    <tr>\n",
       "      <th>5</th>\n",
       "      <td>data:image/jpeg;base64,/9j/4AAQSkZJRgABAQAAAQA...</td>\n",
       "      <td>data:image/jpeg;base64,/9j/4AAQSkZJRgABAQAAAQA...</td>\n",
       "      <td>data:image/png;base64,iVBORw0KGgoAAAANSUhEUgAA...</td>\n",
       "      <td>data:image/jpeg;base64,/9j/4AAQSkZJRgABAQAAAQA...</td>\n",
       "      <td>data:image/jpeg;base64,/9j/4AAQSkZJRgABAQAAAQA...</td>\n",
       "    </tr>\n",
       "    <tr>\n",
       "      <th>6</th>\n",
       "      <td>data:image/jpeg;base64,/9j/4AAQSkZJRgABAQAAAQA...</td>\n",
       "      <td>data:image/jpeg;base64,/9j/4AAQSkZJRgABAQAAAQA...</td>\n",
       "      <td>data:image/png;base64,iVBORw0KGgoAAAANSUhEUgAA...</td>\n",
       "      <td>data:image/jpeg;base64,/9j/4AAQSkZJRgABAQAAAQA...</td>\n",
       "      <td>data:image/jpeg;base64,/9j/4AAQSkZJRgABAQAAAQA...</td>\n",
       "    </tr>\n",
       "    <tr>\n",
       "      <th>7</th>\n",
       "      <td>data:image/jpeg;base64,/9j/4AAQSkZJRgABAQAAAQA...</td>\n",
       "      <td>data:image/jpeg;base64,/9j/4AAQSkZJRgABAQAAAQA...</td>\n",
       "      <td>data:image/png;base64,iVBORw0KGgoAAAANSUhEUgAA...</td>\n",
       "      <td>data:image/jpeg;base64,/9j/4AAQSkZJRgABAQAAAQA...</td>\n",
       "      <td>data:image/jpeg;base64,/9j/4AAQSkZJRgABAQAAAQA...</td>\n",
       "    </tr>\n",
       "    <tr>\n",
       "      <th>8</th>\n",
       "      <td>data:image/jpeg;base64,/9j/4AAQSkZJRgABAQAAAQA...</td>\n",
       "      <td>data:image/jpeg;base64,/9j/4AAQSkZJRgABAQAAAQA...</td>\n",
       "      <td>data:image/jpeg;base64,/9j/4AAQSkZJRgABAQAAAQA...</td>\n",
       "      <td>data:image/jpeg;base64,/9j/4AAQSkZJRgABAQAAAQA...</td>\n",
       "      <td>data:image/jpeg;base64,/9j/4AAQSkZJRgABAQAAAQA...</td>\n",
       "    </tr>\n",
       "    <tr>\n",
       "      <th>9</th>\n",
       "      <td>data:image/jpeg;base64,/9j/4AAQSkZJRgABAQAAAQA...</td>\n",
       "      <td>data:image/jpeg;base64,/9j/4AAQSkZJRgABAQAAAQA...</td>\n",
       "      <td>data:image/png;base64,iVBORw0KGgoAAAANSUhEUgAA...</td>\n",
       "      <td>data:image/jpeg;base64,/9j/4AAQSkZJRgABAQAAAQA...</td>\n",
       "      <td>data:image/jpeg;base64,/9j/4AAQSkZJRgABAQAAAQA...</td>\n",
       "    </tr>\n",
       "  </tbody>\n",
       "</table>\n",
       "</div>"
      ],
      "text/plain": [
       "                                              Fruits  \\\n",
       "0  data:image/jpeg;base64,/9j/4AAQSkZJRgABAQAAAQA...   \n",
       "1  data:image/jpeg;base64,/9j/4AAQSkZJRgABAQAAAQA...   \n",
       "2  data:image/jpeg;base64,/9j/4AAQSkZJRgABAQAAAQA...   \n",
       "3  data:image/jpeg;base64,/9j/4AAQSkZJRgABAQAAAQA...   \n",
       "4  data:image/jpeg;base64,/9j/4AAQSkZJRgABAQAAAQA...   \n",
       "5  data:image/jpeg;base64,/9j/4AAQSkZJRgABAQAAAQA...   \n",
       "6  data:image/jpeg;base64,/9j/4AAQSkZJRgABAQAAAQA...   \n",
       "7  data:image/jpeg;base64,/9j/4AAQSkZJRgABAQAAAQA...   \n",
       "8  data:image/jpeg;base64,/9j/4AAQSkZJRgABAQAAAQA...   \n",
       "9  data:image/jpeg;base64,/9j/4AAQSkZJRgABAQAAAQA...   \n",
       "\n",
       "                                                Cars  \\\n",
       "0  data:image/jpeg;base64,/9j/4AAQSkZJRgABAQAAAQA...   \n",
       "1  data:image/jpeg;base64,/9j/4AAQSkZJRgABAQAAAQA...   \n",
       "2  data:image/jpeg;base64,/9j/4AAQSkZJRgABAQAAAQA...   \n",
       "3  data:image/jpeg;base64,/9j/4AAQSkZJRgABAQAAAQA...   \n",
       "4  data:image/jpeg;base64,/9j/4AAQSkZJRgABAQAAAQA...   \n",
       "5  data:image/jpeg;base64,/9j/4AAQSkZJRgABAQAAAQA...   \n",
       "6  data:image/jpeg;base64,/9j/4AAQSkZJRgABAQAAAQA...   \n",
       "7  data:image/jpeg;base64,/9j/4AAQSkZJRgABAQAAAQA...   \n",
       "8  data:image/jpeg;base64,/9j/4AAQSkZJRgABAQAAAQA...   \n",
       "9  data:image/jpeg;base64,/9j/4AAQSkZJRgABAQAAAQA...   \n",
       "\n",
       "                                    Machine Learning  \\\n",
       "0  data:image/jpeg;base64,/9j/4AAQSkZJRgABAQAAAQA...   \n",
       "1  data:image/jpeg;base64,/9j/4AAQSkZJRgABAQAAAQA...   \n",
       "2  data:image/png;base64,iVBORw0KGgoAAAANSUhEUgAA...   \n",
       "3  data:image/png;base64,iVBORw0KGgoAAAANSUhEUgAA...   \n",
       "4  data:image/jpeg;base64,/9j/4AAQSkZJRgABAQAAAQA...   \n",
       "5  data:image/png;base64,iVBORw0KGgoAAAANSUhEUgAA...   \n",
       "6  data:image/png;base64,iVBORw0KGgoAAAANSUhEUgAA...   \n",
       "7  data:image/png;base64,iVBORw0KGgoAAAANSUhEUgAA...   \n",
       "8  data:image/jpeg;base64,/9j/4AAQSkZJRgABAQAAAQA...   \n",
       "9  data:image/png;base64,iVBORw0KGgoAAAANSUhEUgAA...   \n",
       "\n",
       "                                              Guitar  \\\n",
       "0  data:image/jpeg;base64,/9j/4AAQSkZJRgABAQAAAQA...   \n",
       "1  data:image/jpeg;base64,/9j/4AAQSkZJRgABAQAAAQA...   \n",
       "2  data:image/jpeg;base64,/9j/4AAQSkZJRgABAQAAAQA...   \n",
       "3  data:image/jpeg;base64,/9j/4AAQSkZJRgABAQAAAQA...   \n",
       "4  data:image/jpeg;base64,/9j/4AAQSkZJRgABAQAAAQA...   \n",
       "5  data:image/jpeg;base64,/9j/4AAQSkZJRgABAQAAAQA...   \n",
       "6  data:image/jpeg;base64,/9j/4AAQSkZJRgABAQAAAQA...   \n",
       "7  data:image/jpeg;base64,/9j/4AAQSkZJRgABAQAAAQA...   \n",
       "8  data:image/jpeg;base64,/9j/4AAQSkZJRgABAQAAAQA...   \n",
       "9  data:image/jpeg;base64,/9j/4AAQSkZJRgABAQAAAQA...   \n",
       "\n",
       "                                                Cake  \n",
       "0  data:image/jpeg;base64,/9j/4AAQSkZJRgABAQAAAQA...  \n",
       "1  data:image/jpeg;base64,/9j/4AAQSkZJRgABAQAAAQA...  \n",
       "2  data:image/jpeg;base64,/9j/4AAQSkZJRgABAQAAAQA...  \n",
       "3  data:image/jpeg;base64,/9j/4AAQSkZJRgABAQAAAQA...  \n",
       "4  data:image/jpeg;base64,/9j/4AAQSkZJRgABAQAAAQA...  \n",
       "5  data:image/jpeg;base64,/9j/4AAQSkZJRgABAQAAAQA...  \n",
       "6  data:image/jpeg;base64,/9j/4AAQSkZJRgABAQAAAQA...  \n",
       "7  data:image/jpeg;base64,/9j/4AAQSkZJRgABAQAAAQA...  \n",
       "8  data:image/jpeg;base64,/9j/4AAQSkZJRgABAQAAAQA...  \n",
       "9  data:image/jpeg;base64,/9j/4AAQSkZJRgABAQAAAQA...  "
      ]
     },
     "execution_count": 88,
     "metadata": {},
     "output_type": "execute_result"
    }
   ],
   "source": [
    "Df"
   ]
  },
  {
   "cell_type": "code",
   "execution_count": 89,
   "id": "2e3bc38a",
   "metadata": {},
   "outputs": [],
   "source": [
    "driver.quit()"
   ]
  },
  {
   "cell_type": "markdown",
   "id": "ccf3b111",
   "metadata": {},
   "source": [
    "4. Write a python program to search for a smartphone(e.g.: Oneplus Nord, pixel 4A, etc.) on www.flipkart.com and scrape following details for all the search results displayed on 1st page. Details to be scraped: “Brand Name”, “Smartphone name”, “Colour”, “RAM”, “Storage(ROM)”, “Primary Camera”,\n",
    "“Secondary Camera”, “Display Size”, “Battery Capacity”, “Price”, “Product URL”. Incase if any of the details is missing then replace it by “- “. Save your results in a dataframe and CSV."
   ]
  },
  {
   "cell_type": "code",
   "execution_count": 207,
   "id": "177be9ff",
   "metadata": {},
   "outputs": [],
   "source": [
    "driver = webdriver.Chrome()\n",
    "web = driver.get('https://www.flipkart.com/mobile-phones-store?fm=neo%2Fmerchandising&iid=M_0106dff4-46bb-4ce1-bd37-eebde8c042bf_1_372UD5BXDFYS_MC.ZRQ4DKH28K8J&otracker=hp_rich_navigation_2_1.navigationCard.RICH_NAVIGATION_Mobiles_ZRQ4DKH28K8J&otracker1=hp_rich_navigation_PINNED_neo%2Fmerchandising_NA_NAV_EXPANDABLE_navigationCard_cc_2_L0_view-all&cid=ZRQ4DKH28K8J')"
   ]
  },
  {
   "cell_type": "code",
   "execution_count": 208,
   "id": "a5bd4581",
   "metadata": {},
   "outputs": [],
   "source": [
    "phone = driver.find_element(By.XPATH,'//input[@class=\"_3704LK\"]')\n",
    "phone.send_keys('Oneplus Nord pixel 4A,')\n",
    "click = driver.find_element(By.XPATH,'//button[@class=\"L0Z3Pu\"]')\n",
    "click.click()"
   ]
  },
  {
   "cell_type": "code",
   "execution_count": 209,
   "id": "6a270ce5",
   "metadata": {},
   "outputs": [],
   "source": [
    "Brand_Name = []\n",
    "Colour = []\n",
    "Storage = []\n",
    "P_C = []\n",
    "Display = []\n",
    "Battery = []\n",
    "Price = []\n",
    "P_url = []"
   ]
  },
  {
   "cell_type": "code",
   "execution_count": 210,
   "id": "84b5691e",
   "metadata": {},
   "outputs": [],
   "source": [
    "b_name = driver.find_elements(By.XPATH,'//div[@class=\"_4rR01T\"]')\n",
    "for i in b_name:\n",
    "    Brand_Name.append(i.text)"
   ]
  },
  {
   "cell_type": "code",
   "execution_count": 211,
   "id": "07b85b7b",
   "metadata": {},
   "outputs": [],
   "source": [
    "stor = driver.find_elements(By.XPATH,'//ul[@class=\"_1xgFaf\"]/li[1]')\n",
    "for i in stor:\n",
    "    Storage.append(i.text)"
   ]
  },
  {
   "cell_type": "code",
   "execution_count": 212,
   "id": "3e5cdb78",
   "metadata": {},
   "outputs": [],
   "source": [
    "cam = driver.find_elements(By.XPATH,'//ul[@class=\"_1xgFaf\"]/li[3]')\n",
    "for i in cam:\n",
    "    P_C.append(i.text)"
   ]
  },
  {
   "cell_type": "code",
   "execution_count": 213,
   "id": "1c2ee4bd",
   "metadata": {},
   "outputs": [],
   "source": [
    "dis = driver.find_elements(By.XPATH,'//ul[@class=\"_1xgFaf\"]/li[2]')\n",
    "for i in dis:\n",
    "    Display.append(i.text)"
   ]
  },
  {
   "cell_type": "code",
   "execution_count": 214,
   "id": "8b390ab6",
   "metadata": {},
   "outputs": [],
   "source": [
    "battery = driver.find_elements(By.XPATH,'//ul[@class=\"_1xgFaf\"]/li[4]')\n",
    "for i in battery:\n",
    "    Battery.append(i.text)"
   ]
  },
  {
   "cell_type": "code",
   "execution_count": 215,
   "id": "f6caad2e",
   "metadata": {},
   "outputs": [],
   "source": [
    "price = driver.find_elements(By.XPATH,'//div[@class=\"_30jeq3 _1_WHN1\"]')\n",
    "for i in price:\n",
    "    Price.append(i.text)"
   ]
  },
  {
   "cell_type": "code",
   "execution_count": 216,
   "id": "fedd6531",
   "metadata": {},
   "outputs": [],
   "source": [
    "url = driver.find_elements(By.XPATH,'//a[@class=\"_1fQZEK\"]')\n",
    "for i in url:\n",
    "    P_url.append(i.get_attribute('href'))"
   ]
  },
  {
   "cell_type": "code",
   "execution_count": 217,
   "id": "2da6207a",
   "metadata": {},
   "outputs": [],
   "source": [
    "Data = ({\"Brand Name\": Brand_Name,\n",
    "\"RAM & Storage(ROM)\": Storage,\n",
    "\"Primary Camera\": P_C,\n",
    "\"Display Size\": Display,\n",
    "\"Battery Capacity\": Battery,\n",
    "\"Price\": Price,\n",
    "\"Product URL\": P_url})"
   ]
  },
  {
   "cell_type": "code",
   "execution_count": 218,
   "id": "68c0f62e",
   "metadata": {},
   "outputs": [],
   "source": [
    "Df = pd.DataFrame(Data)"
   ]
  },
  {
   "cell_type": "code",
   "execution_count": 219,
   "id": "da6e0106",
   "metadata": {},
   "outputs": [
    {
     "data": {
      "text/html": [
       "<div>\n",
       "<style scoped>\n",
       "    .dataframe tbody tr th:only-of-type {\n",
       "        vertical-align: middle;\n",
       "    }\n",
       "\n",
       "    .dataframe tbody tr th {\n",
       "        vertical-align: top;\n",
       "    }\n",
       "\n",
       "    .dataframe thead th {\n",
       "        text-align: right;\n",
       "    }\n",
       "</style>\n",
       "<table border=\"1\" class=\"dataframe\">\n",
       "  <thead>\n",
       "    <tr style=\"text-align: right;\">\n",
       "      <th></th>\n",
       "      <th>Brand Name</th>\n",
       "      <th>RAM &amp; Storage(ROM)</th>\n",
       "      <th>Primary Camera</th>\n",
       "      <th>Display Size</th>\n",
       "      <th>Battery Capacity</th>\n",
       "      <th>Price</th>\n",
       "      <th>Product URL</th>\n",
       "    </tr>\n",
       "  </thead>\n",
       "  <tbody>\n",
       "    <tr>\n",
       "      <th>0</th>\n",
       "      <td>OnePlus Nord CE 2 5G (Bahama Blue, 128 GB)</td>\n",
       "      <td>8 GB RAM | 128 GB ROM</td>\n",
       "      <td>64MP Rear Camera</td>\n",
       "      <td>16.33 cm (6.43 inch) Display</td>\n",
       "      <td>4500 mAh Battery</td>\n",
       "      <td>₹21,780</td>\n",
       "      <td>https://www.flipkart.com/oneplus-nord-ce-2-5g-...</td>\n",
       "    </tr>\n",
       "    <tr>\n",
       "      <th>1</th>\n",
       "      <td>OnePlus Nord (Blue Marble, 64 GB)</td>\n",
       "      <td>6 GB RAM | 64 GB ROM</td>\n",
       "      <td>48MP + 8MP | 32MP + 8MP Dual Front Camera</td>\n",
       "      <td>16.36 cm (6.44 inch) Full HD+ Display</td>\n",
       "      <td>4115 mAh Battery</td>\n",
       "      <td>₹22,980</td>\n",
       "      <td>https://www.flipkart.com/oneplus-nord-blue-mar...</td>\n",
       "    </tr>\n",
       "    <tr>\n",
       "      <th>2</th>\n",
       "      <td>OnePlus Nord (Gray Onyx, 64 GB)</td>\n",
       "      <td>6 GB RAM | 64 GB ROM</td>\n",
       "      <td>48MP + 8MP | 32MP + 8MP Dual Front Camera</td>\n",
       "      <td>16.36 cm (6.44 inch) Full HD+ Display</td>\n",
       "      <td>4115 mAh Battery</td>\n",
       "      <td>₹22,689</td>\n",
       "      <td>https://www.flipkart.com/oneplus-nord-gray-ony...</td>\n",
       "    </tr>\n",
       "    <tr>\n",
       "      <th>3</th>\n",
       "      <td>OnePlus Nord (Blue Marble, 128 GB)</td>\n",
       "      <td>8 GB RAM | 128 GB ROM</td>\n",
       "      <td>48MP + 8MP | 32MP + 8MP Dual Front Camera</td>\n",
       "      <td>16.36 cm (6.44 inch) Full HD+ Display</td>\n",
       "      <td>4115 mAh Battery</td>\n",
       "      <td>₹24,790</td>\n",
       "      <td>https://www.flipkart.com/oneplus-nord-blue-mar...</td>\n",
       "    </tr>\n",
       "    <tr>\n",
       "      <th>4</th>\n",
       "      <td>OnePlus Nord (Gray Onyx, 128 GB)</td>\n",
       "      <td>8 GB RAM | 128 GB ROM</td>\n",
       "      <td>48MP + 8MP | 32MP + 8MP Dual Front Camera</td>\n",
       "      <td>16.36 cm (6.44 inch) Full HD+ Display</td>\n",
       "      <td>4115 mAh Battery</td>\n",
       "      <td>₹24,600</td>\n",
       "      <td>https://www.flipkart.com/oneplus-nord-gray-ony...</td>\n",
       "    </tr>\n",
       "    <tr>\n",
       "      <th>5</th>\n",
       "      <td>OnePlus Nord (Blue Marble, 256 GB)</td>\n",
       "      <td>12 GB RAM | 256 GB ROM</td>\n",
       "      <td>48MP + 8MP | 32MP + 8MP Dual Front Camera</td>\n",
       "      <td>16.36 cm (6.44 inch) Full HD+ Display</td>\n",
       "      <td>4115 mAh Battery</td>\n",
       "      <td>₹21,999</td>\n",
       "      <td>https://www.flipkart.com/oneplus-nord-blue-mar...</td>\n",
       "    </tr>\n",
       "    <tr>\n",
       "      <th>6</th>\n",
       "      <td>OnePlus Nord (Gray Onyx, 256 GB)</td>\n",
       "      <td>12 GB RAM | 256 GB ROM</td>\n",
       "      <td>48MP + 8MP | 32MP + 8MP Dual Front Camera</td>\n",
       "      <td>16.36 cm (6.44 inch) Full HD+ Display</td>\n",
       "      <td>4115 mAh Battery</td>\n",
       "      <td>₹22,999</td>\n",
       "      <td>https://www.flipkart.com/oneplus-nord-gray-ony...</td>\n",
       "    </tr>\n",
       "    <tr>\n",
       "      <th>7</th>\n",
       "      <td>OnePlus Nord CE 2 5G (Gray Mirror, 128 GB)</td>\n",
       "      <td>8 GB RAM | 128 GB ROM</td>\n",
       "      <td>64MP Rear Camera</td>\n",
       "      <td>16.33 cm (6.43 inch) Display</td>\n",
       "      <td>4500 mAh Battery</td>\n",
       "      <td>₹17,999</td>\n",
       "      <td>https://www.flipkart.com/oneplus-nord-ce-2-5g-...</td>\n",
       "    </tr>\n",
       "    <tr>\n",
       "      <th>8</th>\n",
       "      <td>OnePlus Nord CE 2 5G (Gray Mirror, 128 GB)</td>\n",
       "      <td>6 GB RAM | 128 GB ROM</td>\n",
       "      <td>64MP Rear Camera | 16MP Front Camera</td>\n",
       "      <td>16.33 cm (6.43 inch) Display</td>\n",
       "      <td>4500 mAh Battery</td>\n",
       "      <td>₹19,999</td>\n",
       "      <td>https://www.flipkart.com/oneplus-nord-ce-2-5g-...</td>\n",
       "    </tr>\n",
       "    <tr>\n",
       "      <th>9</th>\n",
       "      <td>OnePlus Nord CE 2 5G (Bahama Blue, 128 GB)</td>\n",
       "      <td>6 GB RAM | 128 GB ROM</td>\n",
       "      <td>64MP Rear Camera</td>\n",
       "      <td>16.33 cm (6.43 inch) Display</td>\n",
       "      <td>4500 mAh Battery</td>\n",
       "      <td>₹23,499</td>\n",
       "      <td>https://www.flipkart.com/oneplus-nord-ce-2-5g-...</td>\n",
       "    </tr>\n",
       "  </tbody>\n",
       "</table>\n",
       "</div>"
      ],
      "text/plain": [
       "                                   Brand Name      RAM & Storage(ROM)  \\\n",
       "0  OnePlus Nord CE 2 5G (Bahama Blue, 128 GB)   8 GB RAM | 128 GB ROM   \n",
       "1           OnePlus Nord (Blue Marble, 64 GB)    6 GB RAM | 64 GB ROM   \n",
       "2             OnePlus Nord (Gray Onyx, 64 GB)    6 GB RAM | 64 GB ROM   \n",
       "3          OnePlus Nord (Blue Marble, 128 GB)   8 GB RAM | 128 GB ROM   \n",
       "4            OnePlus Nord (Gray Onyx, 128 GB)   8 GB RAM | 128 GB ROM   \n",
       "5          OnePlus Nord (Blue Marble, 256 GB)  12 GB RAM | 256 GB ROM   \n",
       "6            OnePlus Nord (Gray Onyx, 256 GB)  12 GB RAM | 256 GB ROM   \n",
       "7  OnePlus Nord CE 2 5G (Gray Mirror, 128 GB)   8 GB RAM | 128 GB ROM   \n",
       "8  OnePlus Nord CE 2 5G (Gray Mirror, 128 GB)   6 GB RAM | 128 GB ROM   \n",
       "9  OnePlus Nord CE 2 5G (Bahama Blue, 128 GB)   6 GB RAM | 128 GB ROM   \n",
       "\n",
       "                              Primary Camera  \\\n",
       "0                           64MP Rear Camera   \n",
       "1  48MP + 8MP | 32MP + 8MP Dual Front Camera   \n",
       "2  48MP + 8MP | 32MP + 8MP Dual Front Camera   \n",
       "3  48MP + 8MP | 32MP + 8MP Dual Front Camera   \n",
       "4  48MP + 8MP | 32MP + 8MP Dual Front Camera   \n",
       "5  48MP + 8MP | 32MP + 8MP Dual Front Camera   \n",
       "6  48MP + 8MP | 32MP + 8MP Dual Front Camera   \n",
       "7                           64MP Rear Camera   \n",
       "8       64MP Rear Camera | 16MP Front Camera   \n",
       "9                           64MP Rear Camera   \n",
       "\n",
       "                            Display Size  Battery Capacity    Price  \\\n",
       "0           16.33 cm (6.43 inch) Display  4500 mAh Battery  ₹21,780   \n",
       "1  16.36 cm (6.44 inch) Full HD+ Display  4115 mAh Battery  ₹22,980   \n",
       "2  16.36 cm (6.44 inch) Full HD+ Display  4115 mAh Battery  ₹22,689   \n",
       "3  16.36 cm (6.44 inch) Full HD+ Display  4115 mAh Battery  ₹24,790   \n",
       "4  16.36 cm (6.44 inch) Full HD+ Display  4115 mAh Battery  ₹24,600   \n",
       "5  16.36 cm (6.44 inch) Full HD+ Display  4115 mAh Battery  ₹21,999   \n",
       "6  16.36 cm (6.44 inch) Full HD+ Display  4115 mAh Battery  ₹22,999   \n",
       "7           16.33 cm (6.43 inch) Display  4500 mAh Battery  ₹17,999   \n",
       "8           16.33 cm (6.43 inch) Display  4500 mAh Battery  ₹19,999   \n",
       "9           16.33 cm (6.43 inch) Display  4500 mAh Battery  ₹23,499   \n",
       "\n",
       "                                         Product URL  \n",
       "0  https://www.flipkart.com/oneplus-nord-ce-2-5g-...  \n",
       "1  https://www.flipkart.com/oneplus-nord-blue-mar...  \n",
       "2  https://www.flipkart.com/oneplus-nord-gray-ony...  \n",
       "3  https://www.flipkart.com/oneplus-nord-blue-mar...  \n",
       "4  https://www.flipkart.com/oneplus-nord-gray-ony...  \n",
       "5  https://www.flipkart.com/oneplus-nord-blue-mar...  \n",
       "6  https://www.flipkart.com/oneplus-nord-gray-ony...  \n",
       "7  https://www.flipkart.com/oneplus-nord-ce-2-5g-...  \n",
       "8  https://www.flipkart.com/oneplus-nord-ce-2-5g-...  \n",
       "9  https://www.flipkart.com/oneplus-nord-ce-2-5g-...  "
      ]
     },
     "execution_count": 219,
     "metadata": {},
     "output_type": "execute_result"
    }
   ],
   "source": [
    "Df"
   ]
  },
  {
   "cell_type": "markdown",
   "id": "4699b357",
   "metadata": {},
   "source": [
    "5. Write a program to scrap geospatial coordinates (latitude, longitude) of a city searched on google maps."
   ]
  },
  {
   "cell_type": "code",
   "execution_count": 224,
   "id": "b7c27a07",
   "metadata": {},
   "outputs": [],
   "source": [
    "driver = webdriver.Chrome()\n",
    "web = driver.get('https://google.co.in/maps')"
   ]
  },
  {
   "cell_type": "code",
   "execution_count": 221,
   "id": "5b047d2a",
   "metadata": {},
   "outputs": [],
   "source": [
    "city = driver.find_element(By.XPATH,\"/html/body/div[1]/div[3]/div[8]/div[3]/div[1]/div[1]/div/div[2]/form/input\")\n",
    "city.send_keys('Nashik')"
   ]
  },
  {
   "cell_type": "code",
   "execution_count": 222,
   "id": "c651c0dd",
   "metadata": {},
   "outputs": [],
   "source": [
    "search = driver.find_element(By.XPATH,'//div[@class=\"pzfvzf\"]')\n",
    "search.click()"
   ]
  },
  {
   "cell_type": "markdown",
   "id": "6894bb41",
   "metadata": {},
   "source": [
    "6. Write a program to scrap all the available details of best gaming laptops from digit.in."
   ]
  },
  {
   "cell_type": "code",
   "execution_count": 3,
   "id": "8d3ad7eb",
   "metadata": {},
   "outputs": [],
   "source": [
    "driver = webdriver.Chrome()\n",
    "web = driver.get('https://digit.in/')"
   ]
  },
  {
   "cell_type": "code",
   "execution_count": 4,
   "id": "3f7c1cc0",
   "metadata": {},
   "outputs": [],
   "source": [
    "find = driver.find_element(By.XPATH,'/html/body/div[5]/div/form/input[1]')\n",
    "find.send_keys('Gaming laptops')"
   ]
  },
  {
   "cell_type": "code",
   "execution_count": 6,
   "id": "f855ff9e",
   "metadata": {},
   "outputs": [],
   "source": [
    "click = driver.find_element(By.XPATH,'/html/body/div[5]/div/form/button/i')\n",
    "click.click()"
   ]
  },
  {
   "cell_type": "code",
   "execution_count": 23,
   "id": "efbc8dd6",
   "metadata": {},
   "outputs": [],
   "source": [
    "Product_Name = []\n",
    "Product_url = []"
   ]
  },
  {
   "cell_type": "code",
   "execution_count": 26,
   "id": "4ba87843",
   "metadata": {},
   "outputs": [],
   "source": [
    "P_url = driver.find_elements(By.XPATH,'//h3[@class=\" text-clamp text-clamp-2\"]/a')\n",
    "for i in P_url:\n",
    "    Product_url.append(i.get_attribute('href'))"
   ]
  },
  {
   "cell_type": "code",
   "execution_count": 24,
   "id": "394718ec",
   "metadata": {},
   "outputs": [],
   "source": [
    "name = driver.find_elements(By.XPATH,'//h3[@class=\" text-clamp text-clamp-2\"]/a')\n",
    "for i in name:\n",
    "    Product_Name.append(i.text)"
   ]
  },
  {
   "cell_type": "code",
   "execution_count": 27,
   "id": "b123edc7",
   "metadata": {},
   "outputs": [
    {
     "data": {
      "text/plain": [
       "(6, 6)"
      ]
     },
     "execution_count": 27,
     "metadata": {},
     "output_type": "execute_result"
    }
   ],
   "source": [
    "len(Product_Name),len(Product_url)"
   ]
  },
  {
   "cell_type": "code",
   "execution_count": 29,
   "id": "6cfa5eb1",
   "metadata": {},
   "outputs": [],
   "source": [
    "data = ({\"Product Name\": Product_Name,\n",
    "        \"Product Url\": Product_url})"
   ]
  },
  {
   "cell_type": "code",
   "execution_count": 31,
   "id": "04e37eb4",
   "metadata": {},
   "outputs": [],
   "source": [
    "df = pd.DataFrame(data)"
   ]
  },
  {
   "cell_type": "code",
   "execution_count": 32,
   "id": "20af916f",
   "metadata": {},
   "outputs": [
    {
     "data": {
      "text/html": [
       "<div>\n",
       "<style scoped>\n",
       "    .dataframe tbody tr th:only-of-type {\n",
       "        vertical-align: middle;\n",
       "    }\n",
       "\n",
       "    .dataframe tbody tr th {\n",
       "        vertical-align: top;\n",
       "    }\n",
       "\n",
       "    .dataframe thead th {\n",
       "        text-align: right;\n",
       "    }\n",
       "</style>\n",
       "<table border=\"1\" class=\"dataframe\">\n",
       "  <thead>\n",
       "    <tr style=\"text-align: right;\">\n",
       "      <th></th>\n",
       "      <th>Product Name</th>\n",
       "      <th>Product Url</th>\n",
       "    </tr>\n",
       "  </thead>\n",
       "  <tbody>\n",
       "    <tr>\n",
       "      <th>0</th>\n",
       "      <td>Lenovo IdeaPad Gaming 3 15IAH7</td>\n",
       "      <td>https://www.digit.in/laptops/lenovo-ideapad-ga...</td>\n",
       "    </tr>\n",
       "    <tr>\n",
       "      <th>1</th>\n",
       "      <td>Lenovo IdeaPad Gaming 3i</td>\n",
       "      <td>https://www.digit.in/laptops/lenovo-ideapad-ga...</td>\n",
       "    </tr>\n",
       "    <tr>\n",
       "      <th>2</th>\n",
       "      <td>Alienware x14 Gaming Laptop</td>\n",
       "      <td>https://www.digit.in/laptops/alienware-x14-gam...</td>\n",
       "    </tr>\n",
       "    <tr>\n",
       "      <th>3</th>\n",
       "      <td>MSI Gaming Raider</td>\n",
       "      <td>https://www.digit.in/laptops/msi-gaming-raider...</td>\n",
       "    </tr>\n",
       "    <tr>\n",
       "      <th>4</th>\n",
       "      <td>Lenovo Legion 7</td>\n",
       "      <td>https://www.digit.in/laptops/lenovo-legion-7-r...</td>\n",
       "    </tr>\n",
       "    <tr>\n",
       "      <th>5</th>\n",
       "      <td>Dell 15 (2021) i5-10200H</td>\n",
       "      <td>https://www.digit.in/laptops/dell-15-2021-i5-1...</td>\n",
       "    </tr>\n",
       "  </tbody>\n",
       "</table>\n",
       "</div>"
      ],
      "text/plain": [
       "                     Product Name  \\\n",
       "0  Lenovo IdeaPad Gaming 3 15IAH7   \n",
       "1        Lenovo IdeaPad Gaming 3i   \n",
       "2     Alienware x14 Gaming Laptop   \n",
       "3               MSI Gaming Raider   \n",
       "4                 Lenovo Legion 7   \n",
       "5        Dell 15 (2021) i5-10200H   \n",
       "\n",
       "                                         Product Url  \n",
       "0  https://www.digit.in/laptops/lenovo-ideapad-ga...  \n",
       "1  https://www.digit.in/laptops/lenovo-ideapad-ga...  \n",
       "2  https://www.digit.in/laptops/alienware-x14-gam...  \n",
       "3  https://www.digit.in/laptops/msi-gaming-raider...  \n",
       "4  https://www.digit.in/laptops/lenovo-legion-7-r...  \n",
       "5  https://www.digit.in/laptops/dell-15-2021-i5-1...  "
      ]
     },
     "execution_count": 32,
     "metadata": {},
     "output_type": "execute_result"
    }
   ],
   "source": [
    "df"
   ]
  },
  {
   "cell_type": "markdown",
   "id": "b58dfc40",
   "metadata": {},
   "source": [
    "7. Write a python program to scrape the details for all billionaires from www.forbes.com. Details to be scrapped: “Rank”, “Name”, “Net worth”, “Age”, “Citizenship”, “Source”, “Industry”."
   ]
  },
  {
   "cell_type": "code",
   "execution_count": 37,
   "id": "94f53d1b",
   "metadata": {},
   "outputs": [],
   "source": [
    "driver = webdriver.Chrome()\n",
    "web = driver.get('https://www.forbes.com/billionaires/')"
   ]
  },
  {
   "cell_type": "code",
   "execution_count": 38,
   "id": "85ef3779",
   "metadata": {},
   "outputs": [],
   "source": [
    "Rank = []\n",
    "Name = []\n",
    "Net_worth = []\n",
    "Age = []\n",
    "Citizen = []\n",
    "Source = []\n",
    "Industry = []"
   ]
  },
  {
   "cell_type": "code",
   "execution_count": 39,
   "id": "f258f404",
   "metadata": {},
   "outputs": [],
   "source": [
    "rank = driver.find_elements(By.XPATH,'//div[@class=\"Table_rank___YBhk Table_dataCell__2QCve\"]')\n",
    "for i in rank:\n",
    "    Rank.append(i.text)"
   ]
  },
  {
   "cell_type": "code",
   "execution_count": 40,
   "id": "3ef5ec43",
   "metadata": {},
   "outputs": [],
   "source": [
    "name = driver.find_elements(By.XPATH,'//div[@class=\"TableRow_cell__db-hv Table_cell__houv9\"][2]/div')\n",
    "for i in name:\n",
    "    Name.append(i.text)"
   ]
  },
  {
   "cell_type": "code",
   "execution_count": 41,
   "id": "74db2adf",
   "metadata": {},
   "outputs": [],
   "source": [
    "net = driver.find_elements(By.XPATH,'//div[@class=\"Table_netWorth___L4R5 Table_dataCell__2QCve\"]')\n",
    "for i in net:\n",
    "    Net_worth.append(i.text)"
   ]
  },
  {
   "cell_type": "code",
   "execution_count": 42,
   "id": "17cc78e6",
   "metadata": {},
   "outputs": [],
   "source": [
    "age = driver.find_elements(By.XPATH,'//div[@class=\"TableRow_cell__db-hv Table_cell__houv9\"][4]/div')\n",
    "for i in age:\n",
    "    Age.append(i.text)"
   ]
  },
  {
   "cell_type": "code",
   "execution_count": 43,
   "id": "f6a8e33a",
   "metadata": {},
   "outputs": [],
   "source": [
    "citizen = driver.find_elements(By.XPATH,'//div[@class=\"TableRow_cell__db-hv Table_cell__houv9\"][5]')\n",
    "for i in citizen:\n",
    "    Citizen.append(i.text)"
   ]
  },
  {
   "cell_type": "code",
   "execution_count": 44,
   "id": "be0a9b69",
   "metadata": {},
   "outputs": [],
   "source": [
    "source = driver.find_elements(By.XPATH,'//div[@class=\"TableRow_cell__db-hv Table_cell__houv9\"][6]/div')\n",
    "for i in source:\n",
    "    Source.append(i.text)"
   ]
  },
  {
   "cell_type": "code",
   "execution_count": 45,
   "id": "3f53d3c7",
   "metadata": {},
   "outputs": [],
   "source": [
    "industry = driver.find_elements(By.XPATH,'//div[@class=\"TableRow_cell__db-hv Table_cell__houv9\"][7]/div')\n",
    "for i in industry:\n",
    "    Industry.append(i.text)"
   ]
  },
  {
   "cell_type": "code",
   "execution_count": 46,
   "id": "dcb7f179",
   "metadata": {},
   "outputs": [
    {
     "data": {
      "text/plain": [
       "(200, 200, 200, 200, 200, 200, 200)"
      ]
     },
     "execution_count": 46,
     "metadata": {},
     "output_type": "execute_result"
    }
   ],
   "source": [
    "len(Rank),len(Name),len(Net_worth),len(Age),len(Citizen),len(Source),len(Industry)"
   ]
  },
  {
   "cell_type": "code",
   "execution_count": 47,
   "id": "bfa31f39",
   "metadata": {},
   "outputs": [],
   "source": [
    "Data = ({\"Rank\":Rank,\n",
    "        \"Name\":Name,\n",
    "        \"Net worth\":Net_worth,\n",
    "        \"Age\":Age,\n",
    "        \"Citizen\":Citizen,\n",
    "        \"Source\":Source,\n",
    "        \"Industry\":Industry})"
   ]
  },
  {
   "cell_type": "code",
   "execution_count": 48,
   "id": "7711c9cd",
   "metadata": {},
   "outputs": [],
   "source": [
    "Df = pd.DataFrame(Data)"
   ]
  },
  {
   "cell_type": "code",
   "execution_count": 49,
   "id": "2da5d8b1",
   "metadata": {},
   "outputs": [
    {
     "data": {
      "text/html": [
       "<div>\n",
       "<style scoped>\n",
       "    .dataframe tbody tr th:only-of-type {\n",
       "        vertical-align: middle;\n",
       "    }\n",
       "\n",
       "    .dataframe tbody tr th {\n",
       "        vertical-align: top;\n",
       "    }\n",
       "\n",
       "    .dataframe thead th {\n",
       "        text-align: right;\n",
       "    }\n",
       "</style>\n",
       "<table border=\"1\" class=\"dataframe\">\n",
       "  <thead>\n",
       "    <tr style=\"text-align: right;\">\n",
       "      <th></th>\n",
       "      <th>Rank</th>\n",
       "      <th>Name</th>\n",
       "      <th>Net worth</th>\n",
       "      <th>Age</th>\n",
       "      <th>Citizen</th>\n",
       "      <th>Source</th>\n",
       "      <th>Industry</th>\n",
       "    </tr>\n",
       "  </thead>\n",
       "  <tbody>\n",
       "    <tr>\n",
       "      <th>0</th>\n",
       "      <td>1</td>\n",
       "      <td>Bernard Arnault &amp; family</td>\n",
       "      <td>$211 B</td>\n",
       "      <td>74</td>\n",
       "      <td>France</td>\n",
       "      <td>LVMH</td>\n",
       "      <td></td>\n",
       "    </tr>\n",
       "    <tr>\n",
       "      <th>1</th>\n",
       "      <td>2</td>\n",
       "      <td>Elon Musk</td>\n",
       "      <td>$180 B</td>\n",
       "      <td>51</td>\n",
       "      <td>United States</td>\n",
       "      <td>Tesla, SpaceX</td>\n",
       "      <td></td>\n",
       "    </tr>\n",
       "    <tr>\n",
       "      <th>2</th>\n",
       "      <td>3</td>\n",
       "      <td>Jeff Bezos</td>\n",
       "      <td>$114 B</td>\n",
       "      <td>59</td>\n",
       "      <td>United States</td>\n",
       "      <td>Amazon</td>\n",
       "      <td></td>\n",
       "    </tr>\n",
       "    <tr>\n",
       "      <th>3</th>\n",
       "      <td>4</td>\n",
       "      <td>Larry Ellison</td>\n",
       "      <td>$107 B</td>\n",
       "      <td>78</td>\n",
       "      <td>United States</td>\n",
       "      <td>Oracle</td>\n",
       "      <td></td>\n",
       "    </tr>\n",
       "    <tr>\n",
       "      <th>4</th>\n",
       "      <td>5</td>\n",
       "      <td>Warren Buffett</td>\n",
       "      <td>$106 B</td>\n",
       "      <td>92</td>\n",
       "      <td>United States</td>\n",
       "      <td>Berkshire Hathaway</td>\n",
       "      <td></td>\n",
       "    </tr>\n",
       "    <tr>\n",
       "      <th>...</th>\n",
       "      <td>...</td>\n",
       "      <td>...</td>\n",
       "      <td>...</td>\n",
       "      <td>...</td>\n",
       "      <td>...</td>\n",
       "      <td>...</td>\n",
       "      <td>...</td>\n",
       "    </tr>\n",
       "    <tr>\n",
       "      <th>195</th>\n",
       "      <td>195</td>\n",
       "      <td>Jin Baofang</td>\n",
       "      <td>$9.6 B</td>\n",
       "      <td>70</td>\n",
       "      <td>China</td>\n",
       "      <td>Solar panels</td>\n",
       "      <td></td>\n",
       "    </tr>\n",
       "    <tr>\n",
       "      <th>196</th>\n",
       "      <td>195</td>\n",
       "      <td>Luo Liguo &amp; family</td>\n",
       "      <td>$9.6 B</td>\n",
       "      <td>67</td>\n",
       "      <td>China</td>\n",
       "      <td>Chemicals</td>\n",
       "      <td></td>\n",
       "    </tr>\n",
       "    <tr>\n",
       "      <th>197</th>\n",
       "      <td>195</td>\n",
       "      <td>Marijke Mars</td>\n",
       "      <td>$9.6 B</td>\n",
       "      <td>58</td>\n",
       "      <td>United States</td>\n",
       "      <td>Candy, pet food</td>\n",
       "      <td></td>\n",
       "    </tr>\n",
       "    <tr>\n",
       "      <th>198</th>\n",
       "      <td>195</td>\n",
       "      <td>Pamela Mars</td>\n",
       "      <td>$9.6 B</td>\n",
       "      <td>62</td>\n",
       "      <td>United States</td>\n",
       "      <td>Candy, pet food</td>\n",
       "      <td></td>\n",
       "    </tr>\n",
       "    <tr>\n",
       "      <th>199</th>\n",
       "      <td>195</td>\n",
       "      <td>Valerie Mars</td>\n",
       "      <td>$9.6 B</td>\n",
       "      <td>64</td>\n",
       "      <td>United States</td>\n",
       "      <td>Candy, pet food</td>\n",
       "      <td></td>\n",
       "    </tr>\n",
       "  </tbody>\n",
       "</table>\n",
       "<p>200 rows × 7 columns</p>\n",
       "</div>"
      ],
      "text/plain": [
       "    Rank                      Name Net worth Age        Citizen  \\\n",
       "0      1  Bernard Arnault & family    $211 B  74         France   \n",
       "1      2                 Elon Musk    $180 B  51  United States   \n",
       "2      3                Jeff Bezos    $114 B  59  United States   \n",
       "3      4             Larry Ellison    $107 B  78  United States   \n",
       "4      5            Warren Buffett    $106 B  92  United States   \n",
       "..   ...                       ...       ...  ..            ...   \n",
       "195  195               Jin Baofang    $9.6 B  70          China   \n",
       "196  195        Luo Liguo & family    $9.6 B  67          China   \n",
       "197  195              Marijke Mars    $9.6 B  58  United States   \n",
       "198  195               Pamela Mars    $9.6 B  62  United States   \n",
       "199  195              Valerie Mars    $9.6 B  64  United States   \n",
       "\n",
       "                 Source Industry  \n",
       "0                  LVMH           \n",
       "1         Tesla, SpaceX           \n",
       "2                Amazon           \n",
       "3                Oracle           \n",
       "4    Berkshire Hathaway           \n",
       "..                  ...      ...  \n",
       "195        Solar panels           \n",
       "196           Chemicals           \n",
       "197     Candy, pet food           \n",
       "198     Candy, pet food           \n",
       "199     Candy, pet food           \n",
       "\n",
       "[200 rows x 7 columns]"
      ]
     },
     "execution_count": 49,
     "metadata": {},
     "output_type": "execute_result"
    }
   ],
   "source": [
    "Df"
   ]
  },
  {
   "cell_type": "markdown",
   "id": "cb0a87e2",
   "metadata": {},
   "source": [
    "8. Write a program to extract at least 500 Comments, Comment upvote and time when comment was posted from any YouTube Video."
   ]
  },
  {
   "cell_type": "code",
   "execution_count": 59,
   "id": "f55cb6c5",
   "metadata": {},
   "outputs": [],
   "source": [
    "driver = webdriver.Chrome()\n",
    "web = driver.get('https://www.youtube.com/watch?v=lfm0YxncybE')"
   ]
  },
  {
   "cell_type": "code",
   "execution_count": 65,
   "id": "095762d9",
   "metadata": {},
   "outputs": [],
   "source": [
    "Name = []\n",
    "Comment = []\n",
    "day_time = []"
   ]
  },
  {
   "cell_type": "code",
   "execution_count": 70,
   "id": "7bb933ad",
   "metadata": {},
   "outputs": [],
   "source": [
    "name = driver.find_elements(By.XPATH,'//h3[@class=\"style-scope ytd-comment-renderer\"]')\n",
    "for i in name:\n",
    "    Name.append(i.text)"
   ]
  },
  {
   "cell_type": "code",
   "execution_count": 71,
   "id": "71b3c549",
   "metadata": {},
   "outputs": [],
   "source": [
    "day = driver.find_elements(By.XPATH,'//yt-formatted-string[@class=\"published-time-text style-scope ytd-comment-renderer\"]')\n",
    "for i in day:\n",
    "    day_time.append(i.text)"
   ]
  },
  {
   "cell_type": "code",
   "execution_count": 72,
   "id": "066bb3e9",
   "metadata": {},
   "outputs": [],
   "source": [
    "comment = driver.find_elements(By.XPATH,'//div[@class=\"style-scope ytd-expander\"]/yt-formatted-string')\n",
    "for i in comment:\n",
    "    Comment.append(i.text)"
   ]
  },
  {
   "cell_type": "code",
   "execution_count": 73,
   "id": "fe12ef3d",
   "metadata": {},
   "outputs": [
    {
     "data": {
      "text/plain": [
       "(520, 520, 520)"
      ]
     },
     "execution_count": 73,
     "metadata": {},
     "output_type": "execute_result"
    }
   ],
   "source": [
    "len(Name),len(Comment),len(day_time)"
   ]
  },
  {
   "cell_type": "code",
   "execution_count": 74,
   "id": "fa12c79e",
   "metadata": {},
   "outputs": [],
   "source": [
    "data = ({\"Name\": Name,\n",
    "        \"Comment\":Comment,\n",
    "        \"Day\":day_time})"
   ]
  },
  {
   "cell_type": "code",
   "execution_count": 75,
   "id": "6713cd31",
   "metadata": {},
   "outputs": [],
   "source": [
    "df = pd.DataFrame(data)"
   ]
  },
  {
   "cell_type": "code",
   "execution_count": 76,
   "id": "f985aa1d",
   "metadata": {},
   "outputs": [
    {
     "data": {
      "text/html": [
       "<div>\n",
       "<style scoped>\n",
       "    .dataframe tbody tr th:only-of-type {\n",
       "        vertical-align: middle;\n",
       "    }\n",
       "\n",
       "    .dataframe tbody tr th {\n",
       "        vertical-align: top;\n",
       "    }\n",
       "\n",
       "    .dataframe thead th {\n",
       "        text-align: right;\n",
       "    }\n",
       "</style>\n",
       "<table border=\"1\" class=\"dataframe\">\n",
       "  <thead>\n",
       "    <tr style=\"text-align: right;\">\n",
       "      <th></th>\n",
       "      <th>Name</th>\n",
       "      <th>Comment</th>\n",
       "      <th>Day</th>\n",
       "    </tr>\n",
       "  </thead>\n",
       "  <tbody>\n",
       "    <tr>\n",
       "      <th>0</th>\n",
       "      <td>@zameerkhan553</td>\n",
       "      <td>Security form insan gaming with mayank's world</td>\n",
       "      <td>2 days ago</td>\n",
       "    </tr>\n",
       "    <tr>\n",
       "      <th>1</th>\n",
       "      <td>@mohd_lvl_zaid.</td>\n",
       "      <td>Let's vote for next episode 2 hours</td>\n",
       "      <td>2 days ago</td>\n",
       "    </tr>\n",
       "    <tr>\n",
       "      <th>2</th>\n",
       "      <td>@Bhai_40gaming</td>\n",
       "      <td>Let's vote for every Sunday 1.5 hours episode</td>\n",
       "      <td>2 days ago</td>\n",
       "    </tr>\n",
       "    <tr>\n",
       "      <th>3</th>\n",
       "      <td>@Aklover001</td>\n",
       "      <td>Mujhe koi like mat dena</td>\n",
       "      <td>2 days ago (edited)</td>\n",
       "    </tr>\n",
       "    <tr>\n",
       "      <th>4</th>\n",
       "      <td>@Rinku-rj5do</td>\n",
       "      <td>We need more with Mayank bhaiya</td>\n",
       "      <td>2 days ago</td>\n",
       "    </tr>\n",
       "    <tr>\n",
       "      <th>...</th>\n",
       "      <td>...</td>\n",
       "      <td>...</td>\n",
       "      <td>...</td>\n",
       "    </tr>\n",
       "    <tr>\n",
       "      <th>515</th>\n",
       "      <td>@anilravalofficial6510</td>\n",
       "      <td>Bhai 300 security lao</td>\n",
       "      <td>19 hours ago</td>\n",
       "    </tr>\n",
       "    <tr>\n",
       "      <th>516</th>\n",
       "      <td>@awaisawais6320</td>\n",
       "      <td>Los Santos ki police to strong karo</td>\n",
       "      <td>1 day ago</td>\n",
       "    </tr>\n",
       "    <tr>\n",
       "      <th>517</th>\n",
       "      <td>@king91king91</td>\n",
       "      <td>Mayank or shubham bhai opp</td>\n",
       "      <td>2 days ago</td>\n",
       "    </tr>\n",
       "    <tr>\n",
       "      <th>518</th>\n",
       "      <td>@mdishan8513</td>\n",
       "      <td>Iss car ko modified karo</td>\n",
       "      <td>1 day ago</td>\n",
       "    </tr>\n",
       "    <tr>\n",
       "      <th>519</th>\n",
       "      <td>@Bhanu-hb9mg</td>\n",
       "      <td>Mayank. Bhai apni video ma chal bhi nahi pare ...</td>\n",
       "      <td>2 days ago</td>\n",
       "    </tr>\n",
       "  </tbody>\n",
       "</table>\n",
       "<p>520 rows × 3 columns</p>\n",
       "</div>"
      ],
      "text/plain": [
       "                       Name  \\\n",
       "0            @zameerkhan553   \n",
       "1           @mohd_lvl_zaid.   \n",
       "2            @Bhai_40gaming   \n",
       "3               @Aklover001   \n",
       "4              @Rinku-rj5do   \n",
       "..                      ...   \n",
       "515  @anilravalofficial6510   \n",
       "516         @awaisawais6320   \n",
       "517           @king91king91   \n",
       "518            @mdishan8513   \n",
       "519            @Bhanu-hb9mg   \n",
       "\n",
       "                                               Comment                  Day  \n",
       "0       Security form insan gaming with mayank's world           2 days ago  \n",
       "1                 Let's vote for next episode 2 hours            2 days ago  \n",
       "2       Let's vote for every Sunday 1.5 hours episode            2 days ago  \n",
       "3                             Mujhe koi like mat dena   2 days ago (edited)  \n",
       "4                     We need more with Mayank bhaiya            2 days ago  \n",
       "..                                                 ...                  ...  \n",
       "515                              Bhai 300 security lao         19 hours ago  \n",
       "516                Los Santos ki police to strong karo            1 day ago  \n",
       "517                         Mayank or shubham bhai opp           2 days ago  \n",
       "518                           Iss car ko modified karo            1 day ago  \n",
       "519  Mayank. Bhai apni video ma chal bhi nahi pare ...           2 days ago  \n",
       "\n",
       "[520 rows x 3 columns]"
      ]
     },
     "execution_count": 76,
     "metadata": {},
     "output_type": "execute_result"
    }
   ],
   "source": [
    "df"
   ]
  },
  {
   "cell_type": "markdown",
   "id": "abaff9f1",
   "metadata": {},
   "source": [
    "9. Write a python program to scrape a data for all available Hostels from https://www.hostelworld.com/ in “London” location. You have to scrape hostel name, distance from city centre, ratings, total reviews, overall reviews, privates from price, dorms from price, facilities and property description."
   ]
  },
  {
   "cell_type": "code",
   "execution_count": 181,
   "id": "bc889e88",
   "metadata": {},
   "outputs": [],
   "source": [
    "driver = webdriver.Chrome()\n",
    "web = driver.get('https://www.hostelworld.com/')"
   ]
  },
  {
   "cell_type": "code",
   "execution_count": 182,
   "id": "ebb45929",
   "metadata": {},
   "outputs": [],
   "source": [
    "search = driver.find_element(By.XPATH,'//div[@class=\"input-wrapper\"]/input[1]')\n",
    "search.send_keys('London,England')"
   ]
  },
  {
   "cell_type": "code",
   "execution_count": 183,
   "id": "5259f3a8",
   "metadata": {},
   "outputs": [],
   "source": [
    "click = driver.find_element(By.XPATH,'/html/body/div[3]/div/div/div[2]/div[2]/div[2]/div/div/div/div[5]/button[1]')\n",
    "click.click()"
   ]
  },
  {
   "cell_type": "code",
   "execution_count": 184,
   "id": "66e8a805",
   "metadata": {},
   "outputs": [],
   "source": [
    "Hostel = []\n",
    "dis = []\n",
    "rat = []\n",
    "review = []\n",
    "pp = []\n",
    "des = []"
   ]
  },
  {
   "cell_type": "code",
   "execution_count": 185,
   "id": "353c176e",
   "metadata": {},
   "outputs": [],
   "source": [
    "Url = []\n",
    "start = 0\n",
    "end = 3\n",
    "for page in range(start,end):\n",
    "    url = driver.find_elements(By.XPATH,'//a[@class=\"property-card-container horizontal\"]')\n",
    "    for i in url:\n",
    "        Url.append(i.get_attribute('href'))\n",
    "        next_button = driver.find_elements(By.XPATH,'/html/body/div[3]/div/div/div[2]/div[2]/div[1]/div/div/div[5]/div/button[2]')"
   ]
  },
  {
   "cell_type": "code",
   "execution_count": 186,
   "id": "a25c94db",
   "metadata": {},
   "outputs": [],
   "source": [
    "start = 0\n",
    "end = 3\n",
    "for page in range(start,end):\n",
    "    hos = driver.find_elements(By.XPATH,'//div[@class=\"property-name\"]/span')\n",
    "    for i in hos:\n",
    "        Hostel.append(i.text)\n",
    "        next_button = driver.find_elements(By.XPATH,'/html/body/div[3]/div/div/div[2]/div[2]/div[1]/div/div/div[5]/div/button[2]')"
   ]
  },
  {
   "cell_type": "code",
   "execution_count": 187,
   "id": "cd148fba",
   "metadata": {},
   "outputs": [],
   "source": [
    "start = 0\n",
    "end = 3\n",
    "for page in range(start,end):\n",
    "    Dis = driver.find_elements(By.XPATH,'//div[@class=\"property-distance\"]')\n",
    "    for i in Dis:\n",
    "        dis.append(i.text)\n",
    "        next_button = driver.find_elements(By.XPATH,'/html/body/div[3]/div/div/div[2]/div[2]/div[1]/div/div/div[5]/div/button[2]')"
   ]
  },
  {
   "cell_type": "code",
   "execution_count": 188,
   "id": "50353db8",
   "metadata": {},
   "outputs": [],
   "source": [
    "start = 0\n",
    "end = 3\n",
    "for page in range(start,end):\n",
    "    Rat = driver.find_elements(By.XPATH,'//span[@class=\"number\"]')\n",
    "    for i in Rat:\n",
    "        rat.append(i.text)\n",
    "        next_button = driver.find_elements(By.XPATH,'/html/body/div[3]/div/div/div[2]/div[2]/div[1]/div/div/div[5]/div/button[2]')"
   ]
  },
  {
   "cell_type": "code",
   "execution_count": 189,
   "id": "c171d614",
   "metadata": {},
   "outputs": [],
   "source": [
    "start = 0\n",
    "end = 3\n",
    "for page in range(start,end):\n",
    "    rev = driver.find_elements(By.XPATH,'//span[@class=\"left-margin\"]')\n",
    "    for i in rev:\n",
    "        review.append(i.text)\n",
    "        next_button = driver.find_elements(By.XPATH,'/html/body/div[3]/div/div/div[2]/div[2]/div[1]/div/div/div[5]/div/button[2]')"
   ]
  },
  {
   "cell_type": "code",
   "execution_count": 190,
   "id": "7a9ab278",
   "metadata": {},
   "outputs": [],
   "source": [
    "start = 0\n",
    "end = 3\n",
    "for page in range(start,end):\n",
    "    PP = driver.find_elements(By.XPATH,'//div[@class=\"property-accommodation-prices\"]')\n",
    "    for i in PP:\n",
    "        pp.append(i.text.replace('\\n',\"\"))\n",
    "        next_button = driver.find_elements(By.XPATH,'/html/body/div[3]/div/div/div[2]/div[2]/div[1]/div/div/div[5]/div/button[2]')"
   ]
  },
  {
   "cell_type": "code",
   "execution_count": 191,
   "id": "61034bca",
   "metadata": {},
   "outputs": [
    {
     "data": {
      "text/plain": [
       "(90, 90, 99, 90, 90, 90)"
      ]
     },
     "execution_count": 191,
     "metadata": {},
     "output_type": "execute_result"
    }
   ],
   "source": [
    "len(Hostel),len(dis),len(rat),len(review),len(pp),len(Url)"
   ]
  },
  {
   "cell_type": "code",
   "execution_count": 192,
   "id": "37cefb74",
   "metadata": {},
   "outputs": [],
   "source": [
    "for i in Url:\n",
    "    driver.get(i)\n",
    "    time.sleep(3)\n",
    "    try: \n",
    "        Des = driver.find_element(By.XPATH,'/html/body/div[3]/div/div/div[2]/section/div[8]/div/div[2]/div[3]/div/div[2]')\n",
    "        des.append(Des.text)\n",
    "    except NoSuchElementException :\n",
    "        des.append('-')"
   ]
  },
  {
   "cell_type": "code",
   "execution_count": 193,
   "id": "c4ff373f",
   "metadata": {},
   "outputs": [
    {
     "data": {
      "text/plain": [
       "90"
      ]
     },
     "execution_count": 193,
     "metadata": {},
     "output_type": "execute_result"
    }
   ],
   "source": [
    "len(des)"
   ]
  },
  {
   "cell_type": "code",
   "execution_count": 194,
   "id": "60f89f59",
   "metadata": {},
   "outputs": [],
   "source": [
    "data_1 = ({\"Hotel Name\":Hostel,\n",
    "          \"Distance from city centre\":dis,\n",
    "          \"Rating\":rat[:90],\n",
    "          \"Total Review\":review,\n",
    "          \"Private and Dorms price\":pp,\n",
    "          \"Property Description\":des,\n",
    "          \"Hotel Url\":Url})"
   ]
  },
  {
   "cell_type": "code",
   "execution_count": 195,
   "id": "e7fff382",
   "metadata": {},
   "outputs": [
    {
     "data": {
      "text/html": [
       "<div>\n",
       "<style scoped>\n",
       "    .dataframe tbody tr th:only-of-type {\n",
       "        vertical-align: middle;\n",
       "    }\n",
       "\n",
       "    .dataframe tbody tr th {\n",
       "        vertical-align: top;\n",
       "    }\n",
       "\n",
       "    .dataframe thead th {\n",
       "        text-align: right;\n",
       "    }\n",
       "</style>\n",
       "<table border=\"1\" class=\"dataframe\">\n",
       "  <thead>\n",
       "    <tr style=\"text-align: right;\">\n",
       "      <th></th>\n",
       "      <th>Hotel Name</th>\n",
       "      <th>Distance from city centre</th>\n",
       "      <th>Rating</th>\n",
       "      <th>Total Review</th>\n",
       "      <th>Private and Dorms price</th>\n",
       "      <th>Property Description</th>\n",
       "      <th>Hotel Url</th>\n",
       "    </tr>\n",
       "  </thead>\n",
       "  <tbody>\n",
       "    <tr>\n",
       "      <th>0</th>\n",
       "      <td>Wombat's City Hostel London</td>\n",
       "      <td>Hostel\\n- 3.6km from city centre</td>\n",
       "      <td>9.1</td>\n",
       "      <td>(15929)</td>\n",
       "      <td>-30%Privates From₹15,166₹10,616-30%Dorms From₹...</td>\n",
       "      <td>A safe haven in the middle of the metropolis: ...</td>\n",
       "      <td>https://www.hostelworld.com/pwa/hosteldetails....</td>\n",
       "    </tr>\n",
       "    <tr>\n",
       "      <th>1</th>\n",
       "      <td>Palmers Lodge - Swiss Cottage</td>\n",
       "      <td>Hostel\\n- 6.5km from city centre</td>\n",
       "      <td>8.8</td>\n",
       "      <td>(15982)</td>\n",
       "      <td>No Privates Available-26%Dorms From₹2,822₹2,089</td>\n",
       "      <td>-</td>\n",
       "      <td>https://www.hostelworld.com/pwa/hosteldetails....</td>\n",
       "    </tr>\n",
       "    <tr>\n",
       "      <th>2</th>\n",
       "      <td>St Christopher's Village</td>\n",
       "      <td>Hostel\\n- 1.8km from city centre</td>\n",
       "      <td>7.8</td>\n",
       "      <td>(12882)</td>\n",
       "      <td>No Privates Available-10%Dorms From₹1,497₹1,347</td>\n",
       "      <td>-</td>\n",
       "      <td>https://www.hostelworld.com/pwa/hosteldetails....</td>\n",
       "    </tr>\n",
       "    <tr>\n",
       "      <th>3</th>\n",
       "      <td>Urbany Hostel London</td>\n",
       "      <td>Hostel\\n- 5.4km from city centre</td>\n",
       "      <td>9.1</td>\n",
       "      <td>(1131)</td>\n",
       "      <td>Privates From₹7,602Dorms From₹2,255</td>\n",
       "      <td>Welcome to Urbany Hostel London, our first int...</td>\n",
       "      <td>https://www.hostelworld.com/pwa/hosteldetails....</td>\n",
       "    </tr>\n",
       "    <tr>\n",
       "      <th>4</th>\n",
       "      <td>Onefam Notting Hill</td>\n",
       "      <td>Hostel\\n- 5.5km from city centre</td>\n",
       "      <td>8.8</td>\n",
       "      <td>(2608)</td>\n",
       "      <td>Privates From₹8,019Dorms From₹2,399</td>\n",
       "      <td>The perfect place for solo travelers to connec...</td>\n",
       "      <td>https://www.hostelworld.com/pwa/hosteldetails....</td>\n",
       "    </tr>\n",
       "    <tr>\n",
       "      <th>...</th>\n",
       "      <td>...</td>\n",
       "      <td>...</td>\n",
       "      <td>...</td>\n",
       "      <td>...</td>\n",
       "      <td>...</td>\n",
       "      <td>...</td>\n",
       "      <td>...</td>\n",
       "    </tr>\n",
       "    <tr>\n",
       "      <th>85</th>\n",
       "      <td>Astor Kensington</td>\n",
       "      <td>Hostel\\n- 4.9km from city centre</td>\n",
       "      <td>7.7</td>\n",
       "      <td>(6596)</td>\n",
       "      <td>-10%Privates From₹8,815₹7,934-10%Dorms From₹1,...</td>\n",
       "      <td>-</td>\n",
       "      <td>https://www.hostelworld.com/pwa/hosteldetails....</td>\n",
       "    </tr>\n",
       "    <tr>\n",
       "      <th>86</th>\n",
       "      <td>St Christopher's Inn - London Bridge</td>\n",
       "      <td>Hostel\\n- 1.8km from city centre</td>\n",
       "      <td>9.0</td>\n",
       "      <td>(3605)</td>\n",
       "      <td>No Privates Available-10%Dorms From₹1,846₹1,661</td>\n",
       "      <td>-</td>\n",
       "      <td>https://www.hostelworld.com/pwa/hosteldetails....</td>\n",
       "    </tr>\n",
       "    <tr>\n",
       "      <th>87</th>\n",
       "      <td>Astor Victoria</td>\n",
       "      <td>Hostel\\n- 1.8km from city centre</td>\n",
       "      <td>7.5</td>\n",
       "      <td>(15100)</td>\n",
       "      <td>-10%Privates From₹9,582₹8,624-10%Dorms From₹1,...</td>\n",
       "      <td>-</td>\n",
       "      <td>https://www.hostelworld.com/pwa/hosteldetails....</td>\n",
       "    </tr>\n",
       "    <tr>\n",
       "      <th>88</th>\n",
       "      <td>St Christopher's Hammersmith</td>\n",
       "      <td>Hostel\\n- 7.5km from city centre</td>\n",
       "      <td>9.1</td>\n",
       "      <td>(4392)</td>\n",
       "      <td>No Privates Available-10%Dorms From₹1,311₹1,180</td>\n",
       "      <td>-</td>\n",
       "      <td>https://www.hostelworld.com/pwa/hosteldetails....</td>\n",
       "    </tr>\n",
       "    <tr>\n",
       "      <th>89</th>\n",
       "      <td>Phoenix Hostel</td>\n",
       "      <td>Hostel\\n- 4.2km from city centre</td>\n",
       "      <td>8.7</td>\n",
       "      <td>(4625)</td>\n",
       "      <td>-5%Privates From₹5,834₹5,542-5%Dorms From₹1,45...</td>\n",
       "      <td>The Phoenix Bar &amp; Hostel, housed in a homely E...</td>\n",
       "      <td>https://www.hostelworld.com/pwa/hosteldetails....</td>\n",
       "    </tr>\n",
       "  </tbody>\n",
       "</table>\n",
       "<p>90 rows × 7 columns</p>\n",
       "</div>"
      ],
      "text/plain": [
       "                              Hotel Name         Distance from city centre  \\\n",
       "0            Wombat's City Hostel London  Hostel\\n- 3.6km from city centre   \n",
       "1          Palmers Lodge - Swiss Cottage  Hostel\\n- 6.5km from city centre   \n",
       "2               St Christopher's Village  Hostel\\n- 1.8km from city centre   \n",
       "3                   Urbany Hostel London  Hostel\\n- 5.4km from city centre   \n",
       "4                    Onefam Notting Hill  Hostel\\n- 5.5km from city centre   \n",
       "..                                   ...                               ...   \n",
       "85                      Astor Kensington  Hostel\\n- 4.9km from city centre   \n",
       "86  St Christopher's Inn - London Bridge  Hostel\\n- 1.8km from city centre   \n",
       "87                        Astor Victoria  Hostel\\n- 1.8km from city centre   \n",
       "88          St Christopher's Hammersmith  Hostel\\n- 7.5km from city centre   \n",
       "89                        Phoenix Hostel  Hostel\\n- 4.2km from city centre   \n",
       "\n",
       "   Rating Total Review                            Private and Dorms price  \\\n",
       "0     9.1      (15929)  -30%Privates From₹15,166₹10,616-30%Dorms From₹...   \n",
       "1     8.8      (15982)    No Privates Available-26%Dorms From₹2,822₹2,089   \n",
       "2     7.8      (12882)    No Privates Available-10%Dorms From₹1,497₹1,347   \n",
       "3     9.1       (1131)                Privates From₹7,602Dorms From₹2,255   \n",
       "4     8.8       (2608)                Privates From₹8,019Dorms From₹2,399   \n",
       "..    ...          ...                                                ...   \n",
       "85    7.7       (6596)  -10%Privates From₹8,815₹7,934-10%Dorms From₹1,...   \n",
       "86    9.0       (3605)    No Privates Available-10%Dorms From₹1,846₹1,661   \n",
       "87    7.5      (15100)  -10%Privates From₹9,582₹8,624-10%Dorms From₹1,...   \n",
       "88    9.1       (4392)    No Privates Available-10%Dorms From₹1,311₹1,180   \n",
       "89    8.7       (4625)  -5%Privates From₹5,834₹5,542-5%Dorms From₹1,45...   \n",
       "\n",
       "                                 Property Description  \\\n",
       "0   A safe haven in the middle of the metropolis: ...   \n",
       "1                                                   -   \n",
       "2                                                   -   \n",
       "3   Welcome to Urbany Hostel London, our first int...   \n",
       "4   The perfect place for solo travelers to connec...   \n",
       "..                                                ...   \n",
       "85                                                  -   \n",
       "86                                                  -   \n",
       "87                                                  -   \n",
       "88                                                  -   \n",
       "89  The Phoenix Bar & Hostel, housed in a homely E...   \n",
       "\n",
       "                                            Hotel Url  \n",
       "0   https://www.hostelworld.com/pwa/hosteldetails....  \n",
       "1   https://www.hostelworld.com/pwa/hosteldetails....  \n",
       "2   https://www.hostelworld.com/pwa/hosteldetails....  \n",
       "3   https://www.hostelworld.com/pwa/hosteldetails....  \n",
       "4   https://www.hostelworld.com/pwa/hosteldetails....  \n",
       "..                                                ...  \n",
       "85  https://www.hostelworld.com/pwa/hosteldetails....  \n",
       "86  https://www.hostelworld.com/pwa/hosteldetails....  \n",
       "87  https://www.hostelworld.com/pwa/hosteldetails....  \n",
       "88  https://www.hostelworld.com/pwa/hosteldetails....  \n",
       "89  https://www.hostelworld.com/pwa/hosteldetails....  \n",
       "\n",
       "[90 rows x 7 columns]"
      ]
     },
     "execution_count": 195,
     "metadata": {},
     "output_type": "execute_result"
    }
   ],
   "source": [
    "Df = pd.DataFrame(data_1)\n",
    "Df"
   ]
  }
 ],
 "metadata": {
  "kernelspec": {
   "display_name": "Python 3 (ipykernel)",
   "language": "python",
   "name": "python3"
  },
  "language_info": {
   "codemirror_mode": {
    "name": "ipython",
    "version": 3
   },
   "file_extension": ".py",
   "mimetype": "text/x-python",
   "name": "python",
   "nbconvert_exporter": "python",
   "pygments_lexer": "ipython3",
   "version": "3.11.5"
  }
 },
 "nbformat": 4,
 "nbformat_minor": 5
}
