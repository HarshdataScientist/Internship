{
 "cells": [
  {
   "cell_type": "markdown",
   "id": "56168955",
   "metadata": {},
   "source": [
    "Q11 to Q15 are programming questions. Answer them in Jupyter Notebook."
   ]
  },
  {
   "cell_type": "markdown",
   "id": "f56efe90",
   "metadata": {},
   "source": [
    "11.\tWrite a python program to find the factorial of a number."
   ]
  },
  {
   "cell_type": "code",
   "execution_count": 1,
   "id": "b98dbae9",
   "metadata": {},
   "outputs": [
    {
     "name": "stdout",
     "output_type": "stream",
     "text": [
      "Enter a number: 2\n",
      "The factorial of 2 is 1\n",
      "The factorial of 2 is 1\n"
     ]
    }
   ],
   "source": [
    "num = int(input(\"Enter a number: \"))\n",
    "factorial = 1\n",
    "if num < 0:\n",
    "    print(\"factorial does not exist for negative numbers\")\n",
    "elif num == 0:\n",
    "    print(\"The factorial of 0 is 1\")\n",
    "else:\n",
    "    for i in range(1,num + 1):\n",
    "        factorial=factorial*1\n",
    "        print(\"The factorial of\",num,\"is\",factorial)"
   ]
  },
  {
   "cell_type": "markdown",
   "id": "c5239a2a",
   "metadata": {},
   "source": [
    "12.\tWrite a python program to find whether a number is prime or composite."
   ]
  },
  {
   "cell_type": "code",
   "execution_count": 2,
   "id": "e2653073",
   "metadata": {},
   "outputs": [
    {
     "name": "stdout",
     "output_type": "stream",
     "text": [
      "Enter any number8\n",
      "8 is NOT a PRIME NUMBER\n"
     ]
    }
   ],
   "source": [
    "num = int(input(\"Enter any number\"))\n",
    "if num > 1:\n",
    "    for i in range(2,num):\n",
    "        if(num % i)== 0:\n",
    "            print(num, \"is NOT a PRIME NUMBER\")\n",
    "            break\n",
    "    else:\n",
    "        print(num, \"is a PRIME NUMBER\")\n",
    "elif num == 0 or 1:\n",
    "    print(num, \"is a neither prime nor composition number\")\n",
    "else:\n",
    "    print(num, \"is not a prime number it is a COMOSITION NUMBER\")"
   ]
  },
  {
   "cell_type": "markdown",
   "id": "b834c6f1",
   "metadata": {},
   "source": [
    "13.\tWrite a python program to check whether a given string is palindrome or not."
   ]
  },
  {
   "cell_type": "code",
   "execution_count": 3,
   "id": "167ca45b",
   "metadata": {},
   "outputs": [],
   "source": [
    "def Palindrome(string):\n",
    "    if(string == string[::-1]):\n",
    "        print(\"The string is a Palindrome.\")\n",
    "    else:\n",
    "        print(\"The string is not palindrome\")"
   ]
  },
  {
   "cell_type": "code",
   "execution_count": 8,
   "id": "c7f4f77b",
   "metadata": {},
   "outputs": [],
   "source": [
    "string = (\"Harshad\")"
   ]
  },
  {
   "cell_type": "code",
   "execution_count": 9,
   "id": "9e50becf",
   "metadata": {},
   "outputs": [
    {
     "name": "stdout",
     "output_type": "stream",
     "text": [
      "The string is not palindrome\n",
      "None\n"
     ]
    }
   ],
   "source": [
    "print(Palindrome(string))"
   ]
  },
  {
   "cell_type": "markdown",
   "id": "e5b7d15c",
   "metadata": {},
   "source": [
    "14.\tWrite a Python program to get the third side of right-angled triangle from two given sides."
   ]
  },
  {
   "cell_type": "code",
   "execution_count": 10,
   "id": "742271d6",
   "metadata": {},
   "outputs": [],
   "source": [
    "def pythagoras(opposite_side, adjacent_side, hypotenuse):\n",
    "    if opposite_side == str(\"x\"):\n",
    "        print(\"opposite = \"+ str(((hypotenuse**2) - (adjacent_side**2))**0.5))\n",
    "    elif adjacent_side == str(\"x\"):\n",
    "        print(\"adjacent = \" + str(((hypotenuse**2) - (opposite_side**2))**0.5))\n",
    "    elif hypotenuse == str(\"x\"):\n",
    "        print(\"hypotenuse = \"+ str(((opposite_side**2) + (adjacent_side**2))**0.5))\n",
    "    else:\n",
    "        print(\"You know the Answer\")"
   ]
  },
  {
   "cell_type": "code",
   "execution_count": 14,
   "id": "4fa2ff5c",
   "metadata": {},
   "outputs": [
    {
     "name": "stdout",
     "output_type": "stream",
     "text": [
      "hypotenuse = 7.810249675906654\n",
      "None\n"
     ]
    }
   ],
   "source": [
    "print(pythagoras(6,5,'x'))"
   ]
  },
  {
   "cell_type": "markdown",
   "id": "e042199d",
   "metadata": {},
   "source": [
    "15.\tWrite a python program to print the frequency of each of the characters present in a given string."
   ]
  },
  {
   "cell_type": "code",
   "execution_count": 17,
   "id": "2405ad39",
   "metadata": {},
   "outputs": [
    {
     "name": "stdout",
     "output_type": "stream",
     "text": [
      "H:2,e:1,l:2,l:2,o:1, :1,H:2,a:1,r:1,s:1,h:1,"
     ]
    }
   ],
   "source": [
    "string = (\"Hello Harsh\")\n",
    "for i in string:\n",
    "    frequency = string.count(i)\n",
    "    print(str(i) + \":\" + str(frequency), end= \",\")"
   ]
  }
 ],
 "metadata": {
  "kernelspec": {
   "display_name": "Python 3 (ipykernel)",
   "language": "python",
   "name": "python3"
  },
  "language_info": {
   "codemirror_mode": {
    "name": "ipython",
    "version": 3
   },
   "file_extension": ".py",
   "mimetype": "text/x-python",
   "name": "python",
   "nbconvert_exporter": "python",
   "pygments_lexer": "ipython3",
   "version": "3.11.5"
  }
 },
 "nbformat": 4,
 "nbformat_minor": 5
}
