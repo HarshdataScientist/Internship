{
 "cells": [
  {
   "cell_type": "code",
   "execution_count": 246,
   "id": "23bd9ff7",
   "metadata": {},
   "outputs": [],
   "source": [
    "import pandas as pd"
   ]
  },
  {
   "cell_type": "code",
   "execution_count": 247,
   "id": "307cdb4a",
   "metadata": {},
   "outputs": [],
   "source": [
    "import regex as re"
   ]
  },
  {
   "cell_type": "markdown",
   "id": "d8d146d0",
   "metadata": {},
   "source": [
    "Question 1- Write a Python program to replace all occurrences of a space, comma, or dot with a colon.\n",
    "Sample Text- 'Python Exercises, PHP exercises.'\n",
    "Expected Output: Python:Exercises::PHP:exercises:"
   ]
  },
  {
   "cell_type": "code",
   "execution_count": 123,
   "id": "a42a99db",
   "metadata": {},
   "outputs": [],
   "source": [
    "string_1 = 'Python Exercises, PHP exercises.'"
   ]
  },
  {
   "cell_type": "code",
   "execution_count": 124,
   "id": "e2040c21",
   "metadata": {},
   "outputs": [
    {
     "name": "stdout",
     "output_type": "stream",
     "text": [
      "Python:Exercises::PHP:exercises:\n"
     ]
    }
   ],
   "source": [
    "string_1 = re.sub(\"[ .,]\",\":\",string_1)\n",
    "print(string_1)"
   ]
  },
  {
   "cell_type": "markdown",
   "id": "ae52d5a3",
   "metadata": {},
   "source": [
    "Question 2-  Create a dataframe using the dictionary below and remove everything (commas (,), !, XXXX, ;, etc.) from the columns except words.\n",
    "Dictionary- {'SUMMARY' : ['hello, world!', 'XXXXX test', '123four, five:; six...']}\n",
    "Expected output-\n",
    "0      hello world\n",
    "1             test\n",
    "2    four five six\n"
   ]
  },
  {
   "cell_type": "code",
   "execution_count": 73,
   "id": "d01b5fc0",
   "metadata": {},
   "outputs": [],
   "source": [
    "Dictionary = {'SUMMARY':['hello, world!','XXXXX test','123 four, five:; six ...']}"
   ]
  },
  {
   "cell_type": "code",
   "execution_count": 74,
   "id": "427317e3",
   "metadata": {},
   "outputs": [],
   "source": [
    "df = pd.DataFrame(Dictionary)"
   ]
  },
  {
   "cell_type": "code",
   "execution_count": 75,
   "id": "71572ec5",
   "metadata": {},
   "outputs": [
    {
     "name": "stdout",
     "output_type": "stream",
     "text": [
      "       SUMMARY\n",
      "0   helloworld\n",
      "1         test\n",
      "2  fourfivesix\n"
     ]
    }
   ],
   "source": [
    "df['SUMMARY'] = df['SUMMARY'].str.replace('[,!XXXX:;.123\\s]', '', regex=True)\n",
    "print(df)"
   ]
  },
  {
   "cell_type": "markdown",
   "id": "32347f1e",
   "metadata": {},
   "source": [
    "Question 3- Create a function in python to find all words that are at least 4 characters long in a string. The use of the re.compile() method is mandatory."
   ]
  },
  {
   "cell_type": "code",
   "execution_count": 92,
   "id": "60bddc19",
   "metadata": {},
   "outputs": [],
   "source": [
    "string_2 = 'Harsh is leaning data science cource with flip robo'"
   ]
  },
  {
   "cell_type": "code",
   "execution_count": 93,
   "id": "f972b918",
   "metadata": {},
   "outputs": [],
   "source": [
    "pattern = re.compile(r'\\b\\w{4}\\b')"
   ]
  },
  {
   "cell_type": "code",
   "execution_count": 94,
   "id": "9a8cf5bd",
   "metadata": {},
   "outputs": [],
   "source": [
    "answer = pattern.findall(string_2)"
   ]
  },
  {
   "cell_type": "code",
   "execution_count": 95,
   "id": "63d33731",
   "metadata": {},
   "outputs": [
    {
     "name": "stdout",
     "output_type": "stream",
     "text": [
      "['data', 'with', 'flip', 'robo']\n"
     ]
    }
   ],
   "source": [
    "print(answer)"
   ]
  },
  {
   "cell_type": "markdown",
   "id": "e4b17a51",
   "metadata": {},
   "source": [
    "Question 4- Create a function in python to find all three, four, and five character words in a string. The use of the re.compile() method is mandatory."
   ]
  },
  {
   "cell_type": "code",
   "execution_count": 104,
   "id": "dab7bd8c",
   "metadata": {},
   "outputs": [],
   "source": [
    "string_3 = 'Harsh is leaning data science cource with flip robo tec'"
   ]
  },
  {
   "cell_type": "code",
   "execution_count": 105,
   "id": "d332b807",
   "metadata": {},
   "outputs": [],
   "source": [
    "pattern_1 = re.compile(r'\\b\\w{3,5}\\b')"
   ]
  },
  {
   "cell_type": "code",
   "execution_count": 106,
   "id": "2e18298f",
   "metadata": {},
   "outputs": [],
   "source": [
    "answer_1 = pattern_1.findall(string_3)"
   ]
  },
  {
   "cell_type": "code",
   "execution_count": 107,
   "id": "6185a943",
   "metadata": {},
   "outputs": [
    {
     "name": "stdout",
     "output_type": "stream",
     "text": [
      "['Harsh', 'data', 'with', 'flip', 'robo', 'tec']\n"
     ]
    }
   ],
   "source": [
    "print(answer_1)"
   ]
  },
  {
   "cell_type": "markdown",
   "id": "812c311a",
   "metadata": {},
   "source": [
    "Question 5- Create a function in Python to remove the parenthesis in a list of strings. The use of the re.compile() method is mandatory.\n",
    "Sample Text: [\"example (.com)\", \"hr@fliprobo (.com)\", \"github (.com)\", \"Hello (Data Science World)\", \"Data (Scientist)\"]\n",
    "Expected Output:\n",
    "example.com\n",
    "hr@fliprobo.com\n",
    "github.com\n",
    "Hello Data Science World\n",
    "Data Scientist\n"
   ]
  },
  {
   "cell_type": "code",
   "execution_count": 292,
   "id": "a300665e",
   "metadata": {},
   "outputs": [],
   "source": [
    "def remove_parentheses(strings):\n",
    "    pattern = re.compile(r\"\\(|\\)\")\n",
    "    new_strings = []\n",
    "    for string in strings:\n",
    "        new_string = re.sub(pattern, \"\", string)\n",
    "        new_strings.append(new_string)\n",
    "        return new_strings"
   ]
  },
  {
   "cell_type": "code",
   "execution_count": 302,
   "id": "0893664d",
   "metadata": {},
   "outputs": [],
   "source": [
    "string_4 = [\"example (.com)\", \"hr@fliprobo (.com)\", \"github (.com)\", \"Hello (Data Science World)\", \"Data (Scientist)\"]"
   ]
  },
  {
   "cell_type": "code",
   "execution_count": 303,
   "id": "2167308e",
   "metadata": {},
   "outputs": [],
   "source": [
    "result = remove_parentheses(string_4)"
   ]
  },
  {
   "cell_type": "code",
   "execution_count": 305,
   "id": "a8124287",
   "metadata": {
    "scrolled": true
   },
   "outputs": [
    {
     "name": "stdout",
     "output_type": "stream",
     "text": [
      "['example .com']\n"
     ]
    }
   ],
   "source": [
    "print(result)"
   ]
  },
  {
   "cell_type": "markdown",
   "id": "e3a9988d",
   "metadata": {},
   "source": [
    "Question 6- Write a python program to remove the parenthesis area from the text stored in the text file using Regular Expression.\n",
    "Sample Text: [\"example (.com)\", \"hr@fliprobo (.com)\", \"github (.com)\", \"Hello (Data Science World)\", \"Data (Scientist)\"]\n",
    "Expected Output: [\"example\", \"hr@fliprobo\", \"github\", \"Hello\", \"Data\"]\n"
   ]
  },
  {
   "cell_type": "code",
   "execution_count": 34,
   "id": "4c2f9ae1",
   "metadata": {},
   "outputs": [],
   "source": [
    "with open(\"Desktop/Url.txt\", 'r') as file:\n",
    "    text = file.read()"
   ]
  },
  {
   "cell_type": "code",
   "execution_count": 39,
   "id": "83029b91",
   "metadata": {},
   "outputs": [],
   "source": [
    "Text_1 = re.sub(r\"\\s*\\([^)]*\\)\", \"\", text)"
   ]
  },
  {
   "cell_type": "code",
   "execution_count": 41,
   "id": "a1591def",
   "metadata": {},
   "outputs": [
    {
     "name": "stdout",
     "output_type": "stream",
     "text": [
      "[\"example\", \"hr@fliprobo\", \"github\", \"Hello\", \"Data\"]\n"
     ]
    }
   ],
   "source": [
    "print(Text_1)"
   ]
  },
  {
   "cell_type": "markdown",
   "id": "c224ff50",
   "metadata": {},
   "source": [
    "Question 7- Write a regular expression in Python to split a string into uppercase letters.\n",
    "Sample text: “ImportanceOfRegularExpressionsInPython”"
   ]
  },
  {
   "cell_type": "code",
   "execution_count": 105,
   "id": "f1201d9e",
   "metadata": {},
   "outputs": [
    {
     "name": "stdout",
     "output_type": "stream",
     "text": [
      "['Importance', 'Of', 'Regular', 'Expressions', 'In', 'Python']\n"
     ]
    }
   ],
   "source": [
    "sample = (\"ImportanceOfRegularExpressionsInPython\")\n",
    "print(re.findall('[A-Z][^A-Z]*',sample))"
   ]
  },
  {
   "cell_type": "markdown",
   "id": "4c6693f6",
   "metadata": {},
   "source": [
    "Question 8- Create a function in python to insert spaces between words starting with numbers.\n",
    "Sample Text: “RegularExpression1IsAn2ImportantTopic3InPython\"\n"
   ]
  },
  {
   "cell_type": "code",
   "execution_count": 107,
   "id": "37dc36d4",
   "metadata": {},
   "outputs": [],
   "source": [
    "sample_text = (\"RegularExpression1IsAn2ImportantTopic3InPython\")"
   ]
  },
  {
   "cell_type": "code",
   "execution_count": 130,
   "id": "556a1b02",
   "metadata": {},
   "outputs": [
    {
     "name": "stdout",
     "output_type": "stream",
     "text": [
      "RegularExpression1 IsAn2 ImportantTopic3 InPython\n"
     ]
    }
   ],
   "source": [
    "def insert_spaces(text):\n",
    "    pattern = (r'(\\d+)([A-Za-z]+)')\n",
    "    result = re.sub(pattern, r'\\1 \\2', text)\n",
    "    return result\n",
    "output = insert_spaces(sample_text)\n",
    "print(output)"
   ]
  },
  {
   "cell_type": "markdown",
   "id": "91812025",
   "metadata": {},
   "source": [
    "Question 9- Create a function in python to insert spaces between words starting with capital letters or with numbers.\n",
    "Sample Text: “RegularExpression1IsAn2ImportantTopic3InPython\"\n"
   ]
  },
  {
   "cell_type": "code",
   "execution_count": 342,
   "id": "755009d2",
   "metadata": {},
   "outputs": [],
   "source": [
    "def capital_words_spaces(text_1):\n",
    "    return re.sub(r\"([A-Z0-9][a-z]+|\\d+)\", r\" \\1\", text_1)"
   ]
  },
  {
   "cell_type": "code",
   "execution_count": 343,
   "id": "320b25c9",
   "metadata": {},
   "outputs": [
    {
     "name": "stdout",
     "output_type": "stream",
     "text": [
      " Regular Expression 1 Is An 2 Important Topic 3 In Python\n"
     ]
    }
   ],
   "source": [
    "print(capital_words_spaces(sample_text))"
   ]
  },
  {
   "cell_type": "markdown",
   "id": "54704311",
   "metadata": {},
   "source": [
    "Question 10- Use the github link below to read the data and create a dataframe. After creating the dataframe extract the first 6 letters of each country and store in the dataframe under a new column called first_five_letters.\n",
    "Github Link-  https://raw.githubusercontent.com/dsrscientist/DSData/master/happiness_score_dataset.csv\n"
   ]
  },
  {
   "cell_type": "code",
   "execution_count": 75,
   "id": "070132ac",
   "metadata": {},
   "outputs": [],
   "source": [
    "dataset = pd.read_csv(\"https://raw.githubusercontent.com/dsrscientist/DSData/master/happiness_score_dataset.csv\")"
   ]
  },
  {
   "cell_type": "code",
   "execution_count": 81,
   "id": "406f60c5",
   "metadata": {},
   "outputs": [],
   "source": [
    "dataframe = dataset['First_five_letters'] = dataset['Country'].str[:6]"
   ]
  },
  {
   "cell_type": "code",
   "execution_count": 82,
   "id": "571b23ce",
   "metadata": {},
   "outputs": [
    {
     "name": "stdout",
     "output_type": "stream",
     "text": [
      "0      Switze\n",
      "1      Icelan\n",
      "2      Denmar\n",
      "3      Norway\n",
      "4      Canada\n",
      "        ...  \n",
      "153    Rwanda\n",
      "154     Benin\n",
      "155     Syria\n",
      "156    Burund\n",
      "157      Togo\n",
      "Name: Country, Length: 158, dtype: object\n"
     ]
    }
   ],
   "source": [
    "print(dataframe)"
   ]
  },
  {
   "cell_type": "markdown",
   "id": "1829473f",
   "metadata": {},
   "source": [
    "Question 11- Write a Python program to match a string that contains only upper and lowercase letters, numbers, and underscores."
   ]
  },
  {
   "cell_type": "code",
   "execution_count": 24,
   "id": "487682b8",
   "metadata": {},
   "outputs": [],
   "source": [
    "def text_match(string):\n",
    "    pattern = ('^[a-zA-Z0-9_]*$')\n",
    "    \n",
    "    if re.search(pattern, string):\n",
    "        return ('Found a match')\n",
    "    \n",
    "    else:\n",
    "        return('Not matched')"
   ]
  },
  {
   "cell_type": "code",
   "execution_count": 26,
   "id": "0cf140d4",
   "metadata": {},
   "outputs": [
    {
     "name": "stdout",
     "output_type": "stream",
     "text": [
      "Found a match\n"
     ]
    }
   ],
   "source": [
    "print(text_match(\"Regular_expression_Exercise_1\"))"
   ]
  },
  {
   "cell_type": "markdown",
   "id": "eb9bea04",
   "metadata": {},
   "source": [
    "Question 12- Write a Python program where a string will start with a specific number."
   ]
  },
  {
   "cell_type": "code",
   "execution_count": 38,
   "id": "308d4478",
   "metadata": {},
   "outputs": [],
   "source": [
    "def check_starting_number(string, number):\n",
    "    if string.startswith(str(number)):\n",
    "        return ('the string start with a number')\n",
    "    else: ('the does not start with a number')"
   ]
  },
  {
   "cell_type": "code",
   "execution_count": 42,
   "id": "8db11f66",
   "metadata": {},
   "outputs": [
    {
     "name": "stdout",
     "output_type": "stream",
     "text": [
      "the string start with a number\n"
     ]
    }
   ],
   "source": [
    "print(check_starting_number(\"123harsh\",123))"
   ]
  },
  {
   "cell_type": "markdown",
   "id": "0797dd71",
   "metadata": {},
   "source": [
    "Question 13- Write a Python program to remove leading zeros from an IP address"
   ]
  },
  {
   "cell_type": "code",
   "execution_count": 45,
   "id": "b5e8aebd",
   "metadata": {},
   "outputs": [
    {
     "name": "stdout",
     "output_type": "stream",
     "text": [
      "127.4.96.123\n"
     ]
    }
   ],
   "source": [
    "ip = \"127.04.096.123\"\n",
    "ans = re.sub('\\.[0]*', '.', ip)\n",
    "print(ans)"
   ]
  },
  {
   "cell_type": "markdown",
   "id": "f6f98591",
   "metadata": {},
   "source": [
    "Question 14- Write a regular expression in python to match a date string in the form of Month name followed by day number and year stored in a text file.\n",
    "Sample text :  ' On August 15th 1947 that India was declared independent from British colonialism, and the reins of control were handed over to the leaders of the Country’.\n",
    "Expected Output- August 15th 1947\n",
    "Note- Store given sample text in the text file and then extract the date string asked format."
   ]
  },
  {
   "cell_type": "code",
   "execution_count": 54,
   "id": "0c6cf73a",
   "metadata": {},
   "outputs": [],
   "source": [
    "sample_text =(\"On August 15th 1947 that india was declared independent from British colonialism, and the reins of control were handed over to the leaders of the Country.\")"
   ]
  },
  {
   "cell_type": "code",
   "execution_count": 139,
   "id": "03ad3a12",
   "metadata": {},
   "outputs": [
    {
     "name": "stdout",
     "output_type": "stream",
     "text": [
      "['August 15th 1947']\n"
     ]
    }
   ],
   "source": [
    "pattern = r\"\\b([A-Z][a-z]+ \\d{1,2}(?:st|nd|rd|th)? \\d{4}\\b)\"\n",
    "match = re.findall(pattern, sample_text)\n",
    "print(match)"
   ]
  },
  {
   "cell_type": "markdown",
   "id": "3add34c7",
   "metadata": {},
   "source": [
    "Question 15- Write a Python program to search some literals strings in a string. \n",
    "Sample text : 'The quick brown fox jumps over the lazy dog.'\n",
    "Searched words : 'fox', 'dog', 'horse'"
   ]
  },
  {
   "cell_type": "code",
   "execution_count": 141,
   "id": "e5069705",
   "metadata": {},
   "outputs": [],
   "source": [
    "sample_string = (\"The quick brown fox jumps over the lazy dog.\")"
   ]
  },
  {
   "cell_type": "code",
   "execution_count": 172,
   "id": "16597266",
   "metadata": {},
   "outputs": [
    {
     "name": "stdout",
     "output_type": "stream",
     "text": [
      "searching for fox, dog, horse ('fox', 'The quick brown fox jumps over the lazy dog.')\n",
      "matched\n",
      "searching for fox, dog, horse ('dog', 'The quick brown fox jumps over the lazy dog.')\n",
      "matched\n",
      "searching for fox, dog, horse ('horse', 'The quick brown fox jumps over the lazy dog.')\n",
      "Not Matched\n"
     ]
    }
   ],
   "source": [
    "patterns = ['fox','dog','horse']\n",
    "for pattern in patterns:\n",
    "    print('searching for fox, dog, horse',(pattern, sample_string),)\n",
    "    \n",
    "    if re.search(pattern, sample_string):\n",
    "        print (\"matched\")\n",
    "else: \n",
    "    print(\"Not Matched\")"
   ]
  },
  {
   "cell_type": "markdown",
   "id": "0854e348",
   "metadata": {},
   "source": [
    "Question 16- Write a Python program to search a literals string in a string and also find the location within the original string where the pattern occurs\n",
    "Sample text : 'The quick brown fox jumps over the lazy dog.'\n",
    "Searched words : 'fox'\n"
   ]
  },
  {
   "cell_type": "code",
   "execution_count": 101,
   "id": "59d05c5d",
   "metadata": {},
   "outputs": [],
   "source": [
    "sample_text_1 = (\"The quick brown fox jumps over the lazy dog.\")"
   ]
  },
  {
   "cell_type": "code",
   "execution_count": 102,
   "id": "b25bc8bb",
   "metadata": {},
   "outputs": [],
   "source": [
    "pattern = (\"fox\")"
   ]
  },
  {
   "cell_type": "code",
   "execution_count": 103,
   "id": "234014a0",
   "metadata": {},
   "outputs": [],
   "source": [
    "match = re.search(pattern, sample_text_1)"
   ]
  },
  {
   "cell_type": "code",
   "execution_count": 104,
   "id": "2bf4f932",
   "metadata": {},
   "outputs": [],
   "source": [
    "s = match.start()"
   ]
  },
  {
   "cell_type": "code",
   "execution_count": 105,
   "id": "735ca12b",
   "metadata": {},
   "outputs": [],
   "source": [
    "e = match.end()"
   ]
  },
  {
   "cell_type": "code",
   "execution_count": 106,
   "id": "bd4c916f",
   "metadata": {},
   "outputs": [
    {
     "name": "stdout",
     "output_type": "stream",
     "text": [
      "Found \"fox\" in \"The quick brown fox jumps over the lazy dog.\" from 16 to 19 \n"
     ]
    }
   ],
   "source": [
    "print('Found \"%s\" in \"%s\" from %d to %d ' % \\\n",
    "    (match.re.pattern, match.string, s, e))"
   ]
  },
  {
   "cell_type": "markdown",
   "id": "532e0f5d",
   "metadata": {},
   "source": [
    "Question 17- Write a Python program to find the substrings within a string.\n",
    "Sample text : 'Python exercises, PHP exercises, C# exercises'\n",
    "Pattern : 'exercises'.\n"
   ]
  },
  {
   "cell_type": "code",
   "execution_count": 83,
   "id": "82a18882",
   "metadata": {},
   "outputs": [],
   "source": [
    "text_1 = ('Python exercises, PHP exercises, C# exercises')"
   ]
  },
  {
   "cell_type": "code",
   "execution_count": 84,
   "id": "8944205c",
   "metadata": {},
   "outputs": [],
   "source": [
    "pattern = ('exercises')"
   ]
  },
  {
   "cell_type": "code",
   "execution_count": 90,
   "id": "831a4243",
   "metadata": {},
   "outputs": [
    {
     "name": "stdout",
     "output_type": "stream",
     "text": [
      "Found \"exercises\"\n",
      "Found \"exercises\"\n",
      "Found \"exercises\"\n"
     ]
    }
   ],
   "source": [
    "for match in re.findall(pattern, text_1):\n",
    "    print('Found \"%s\"' % match)"
   ]
  },
  {
   "cell_type": "markdown",
   "id": "a53c3cb2",
   "metadata": {},
   "source": [
    "Question 18- Write a Python program to find the occurrence and position of the substrings within a string."
   ]
  },
  {
   "cell_type": "code",
   "execution_count": 127,
   "id": "5de7c143",
   "metadata": {},
   "outputs": [],
   "source": [
    "Text_1 = ('Python exercises, PHP exercises, C# exercises')"
   ]
  },
  {
   "cell_type": "code",
   "execution_count": 128,
   "id": "0a6c8e9f",
   "metadata": {},
   "outputs": [],
   "source": [
    "pattern = 'exercises'"
   ]
  },
  {
   "cell_type": "code",
   "execution_count": 129,
   "id": "38d661fa",
   "metadata": {},
   "outputs": [],
   "source": [
    "for match in re.finditer(pattern, Text_1):\n",
    "    s = match.start()\n",
    "    e = match.end()"
   ]
  },
  {
   "cell_type": "code",
   "execution_count": 130,
   "id": "f6c5a0c7",
   "metadata": {},
   "outputs": [
    {
     "name": "stdout",
     "output_type": "stream",
     "text": [
      "Found \"exercises\" at 36:45 \n"
     ]
    }
   ],
   "source": [
    "print('Found \"%s\" at %d:%d '% (Text_1[s:e],s,e))"
   ]
  },
  {
   "cell_type": "markdown",
   "id": "7816ab15",
   "metadata": {},
   "source": [
    "Question 19- Write a Python program to convert a date of yyyy-mm-dd format to dd-mm-yyyy format."
   ]
  },
  {
   "cell_type": "code",
   "execution_count": 131,
   "id": "41be2b3b",
   "metadata": {},
   "outputs": [],
   "source": [
    "def change_date_formate(dt):\n",
    "    return re.sub(r'(\\d{4})-(\\d{1,2})-(\\d{1,2})', '\\\\3-\\\\2-\\\\1', dt)"
   ]
  },
  {
   "cell_type": "code",
   "execution_count": 132,
   "id": "70b592ff",
   "metadata": {},
   "outputs": [],
   "source": [
    "date_1 = (\"2024-01-06\")"
   ]
  },
  {
   "cell_type": "code",
   "execution_count": 144,
   "id": "3eb11ec8",
   "metadata": {},
   "outputs": [
    {
     "name": "stdout",
     "output_type": "stream",
     "text": [
      "06-01-2024\n"
     ]
    }
   ],
   "source": [
    "print(change_date_formate(date_1))"
   ]
  },
  {
   "cell_type": "markdown",
   "id": "c91bc8d0",
   "metadata": {},
   "source": [
    "Question 20- Create a function in python to find all decimal numbers with a precision of 1 or 2 in a string. The use of the re.compile() method is mandatory.\n",
    "Sample Text: \"01.12 0132.123 2.31875 145.8 3.01 27.25 0.25\"\n",
    "Expected Output: ['01.12', '145.8', '3.01', '27.25', '0.25']\n"
   ]
  },
  {
   "cell_type": "code",
   "execution_count": 162,
   "id": "57f17817",
   "metadata": {},
   "outputs": [],
   "source": [
    "sample_text_2 = (\"01.12 0132.123 2.31875 145.8 3.01 27.25 0.25\")"
   ]
  },
  {
   "cell_type": "code",
   "execution_count": 163,
   "id": "df007eb9",
   "metadata": {},
   "outputs": [],
   "source": [
    "def find_decimal_numbers(text_2):\n",
    "    pattern = re.compile(r'\\d+\\.\\d{1,2}')\n",
    "    decimal_numbers = re.findall(pattern, text_2)\n",
    "    return decimal_numbers"
   ]
  },
  {
   "cell_type": "code",
   "execution_count": 165,
   "id": "5c3259e6",
   "metadata": {},
   "outputs": [
    {
     "name": "stdout",
     "output_type": "stream",
     "text": [
      "['01.12', '0132.12', '2.31', '145.8', '3.01', '27.25', '0.25']\n"
     ]
    }
   ],
   "source": [
    "ans = find_decimal_numbers(sample_text_2)\n",
    "print(ans)"
   ]
  },
  {
   "cell_type": "markdown",
   "id": "36ad4a38",
   "metadata": {},
   "source": [
    "Question 21- Write a Python program to separate and print the numbers and their position of a given string."
   ]
  },
  {
   "cell_type": "code",
   "execution_count": 174,
   "id": "62d8c10d",
   "metadata": {},
   "outputs": [],
   "source": [
    "text_3 = (\"Write a Python program to separate and print the numbers 27 and their position of a given string\")"
   ]
  },
  {
   "cell_type": "code",
   "execution_count": 176,
   "id": "f7c1456e",
   "metadata": {},
   "outputs": [
    {
     "name": "stdout",
     "output_type": "stream",
     "text": [
      "27\n",
      "index position: 57\n"
     ]
    }
   ],
   "source": [
    "for m in re.finditer(\"\\d+\", text_3):\n",
    "    print(m.group(0))\n",
    "    print(\"index position:\", m.start())"
   ]
  },
  {
   "cell_type": "markdown",
   "id": "148c6cd7",
   "metadata": {},
   "source": [
    "Question 22- Write a regular expression in python program to extract maximum/largest numeric value from a string.\n",
    "Sample Text:  'My marks in each semester are: 947, 896, 926, 524, 734, 950, 642'\n",
    "Expected Output: 950\n"
   ]
  },
  {
   "cell_type": "code",
   "execution_count": 183,
   "id": "b5d986d2",
   "metadata": {},
   "outputs": [],
   "source": [
    "Text_4 = (\"My marks in each semester are: 947, 896, 926, 524, 734, 950, 642\")"
   ]
  },
  {
   "cell_type": "code",
   "execution_count": 184,
   "id": "04bb4ea5",
   "metadata": {},
   "outputs": [],
   "source": [
    "numeric_values = re.findall(r'\\d+', Text_4)\n",
    "numeric_values = [int(value)for value in numeric_values]"
   ]
  },
  {
   "cell_type": "code",
   "execution_count": 185,
   "id": "1edba3ff",
   "metadata": {},
   "outputs": [],
   "source": [
    "Max_value = max(numeric_values)"
   ]
  },
  {
   "cell_type": "code",
   "execution_count": 187,
   "id": "91746401",
   "metadata": {},
   "outputs": [
    {
     "name": "stdout",
     "output_type": "stream",
     "text": [
      "950\n"
     ]
    }
   ],
   "source": [
    "print(Max_value)"
   ]
  },
  {
   "cell_type": "markdown",
   "id": "dc7c22d8",
   "metadata": {},
   "source": [
    "Question 23- Create a function in python to insert spaces between words starting with capital letters.\n",
    "Sample Text: “RegularExpressionIsAnImportantTopicInPython\"\n",
    "Expected Output: Regular Expression Is An Important Topic In Python\n"
   ]
  },
  {
   "cell_type": "code",
   "execution_count": 201,
   "id": "035da7a4",
   "metadata": {},
   "outputs": [],
   "source": [
    "text_5 = (\"RegularExpressionIsAnImportantTopicInPython\")"
   ]
  },
  {
   "cell_type": "code",
   "execution_count": 224,
   "id": "cc6654d9",
   "metadata": {},
   "outputs": [],
   "source": [
    "def insert_spaces(Text):\n",
    "    pattern = (r'([A-Z][a-z]+)')\n",
    "    result = re.sub(pattern, r' \\1', Text)\n",
    "    result = result.strip()\n",
    "    return result"
   ]
  },
  {
   "cell_type": "code",
   "execution_count": 225,
   "id": "da5d1b0c",
   "metadata": {},
   "outputs": [
    {
     "name": "stdout",
     "output_type": "stream",
     "text": [
      "Regular Expression Is An Important Topic In Python\n"
     ]
    }
   ],
   "source": [
    "print(insert_spaces(text_5))"
   ]
  },
  {
   "cell_type": "markdown",
   "id": "655459f3",
   "metadata": {},
   "source": [
    "Question 24- Python regex to find sequences of one upper case letter followed by lower case letters"
   ]
  },
  {
   "cell_type": "code",
   "execution_count": 226,
   "id": "147f7034",
   "metadata": {},
   "outputs": [],
   "source": [
    "text_6 = (\"Regular Expression Is An Important Topic In Python\")"
   ]
  },
  {
   "cell_type": "code",
   "execution_count": 227,
   "id": "630feab5",
   "metadata": {},
   "outputs": [],
   "source": [
    "pattern = (r'[A-Z][a-z]+')"
   ]
  },
  {
   "cell_type": "code",
   "execution_count": 228,
   "id": "42488ed9",
   "metadata": {},
   "outputs": [],
   "source": [
    "match = re.findall(pattern, text_6)"
   ]
  },
  {
   "cell_type": "code",
   "execution_count": 229,
   "id": "921531b1",
   "metadata": {},
   "outputs": [
    {
     "name": "stdout",
     "output_type": "stream",
     "text": [
      "['Regular', 'Expression', 'Is', 'An', 'Important', 'Topic', 'In', 'Python']\n"
     ]
    }
   ],
   "source": [
    "print(match)"
   ]
  },
  {
   "cell_type": "markdown",
   "id": "aaa3020f",
   "metadata": {},
   "source": [
    "Question 25- Write a Python program to remove continuous duplicate words from Sentence using Regular Expression.\n",
    "Sample Text: \"Hello hello world world\"\n",
    "Expected Output: Hello hello world\n"
   ]
  },
  {
   "cell_type": "code",
   "execution_count": 255,
   "id": "1d40da7e",
   "metadata": {},
   "outputs": [],
   "source": [
    "sentence = (\"Hello hello world world\")"
   ]
  },
  {
   "cell_type": "code",
   "execution_count": 261,
   "id": "f03b2b78",
   "metadata": {},
   "outputs": [],
   "source": [
    "def remove_dublicates(sent):\n",
    "    pattern = (r'\\b(\\w+)(\\s+\\1\\b)+')\n",
    "    Ans_1 = re.sub(pattern, r'\\1', sent)\n",
    "    return Ans_1"
   ]
  },
  {
   "cell_type": "code",
   "execution_count": 263,
   "id": "5ef731a1",
   "metadata": {},
   "outputs": [
    {
     "name": "stdout",
     "output_type": "stream",
     "text": [
      "Hello hello world\n"
     ]
    }
   ],
   "source": [
    "print(remove_dublicates(sentence))"
   ]
  },
  {
   "cell_type": "markdown",
   "id": "a4a07915",
   "metadata": {},
   "source": [
    "Question 26-  Write a python program using RegEx to accept string ending with alphanumeric character."
   ]
  },
  {
   "cell_type": "code",
   "execution_count": 292,
   "id": "c64dc4d8",
   "metadata": {},
   "outputs": [],
   "source": [
    "sample_string_1 = (\"Harsh27\")"
   ]
  },
  {
   "cell_type": "code",
   "execution_count": 293,
   "id": "0b627f5e",
   "metadata": {},
   "outputs": [],
   "source": [
    "def check_string(string_1):\n",
    "    pattern = (r'\\w$')\n",
    "    match = re.search(pattern, string_1)\n",
    "    if match: return \"string end with alphanumeric character\"\n",
    "    else: return \" string does not end with alphanumeric character\"\n"
   ]
  },
  {
   "cell_type": "code",
   "execution_count": 294,
   "id": "8e3c73e0",
   "metadata": {},
   "outputs": [
    {
     "name": "stdout",
     "output_type": "stream",
     "text": [
      "string end with alphanumeric character\n"
     ]
    }
   ],
   "source": [
    "print(check_string(sample_string_1))"
   ]
  },
  {
   "cell_type": "markdown",
   "id": "48a61ea0",
   "metadata": {},
   "source": [
    "Question 27-Write a python program using RegEx to extract the hashtags.\n",
    "Sample Text:  \"\"\"RT @kapil_kausik: #Doltiwal I mean #xyzabc is \"hurt\" by #Demonetization as the same has rendered USELESS <ed><U+00A0><U+00BD><ed><U+00B1><U+0089> \"acquired funds\" No wo\"\"\"\n",
    "Expected Output: ['#Doltiwal', '#xyzabc', '#Demonetization']\n"
   ]
  },
  {
   "cell_type": "code",
   "execution_count": 297,
   "id": "bd0bb75a",
   "metadata": {},
   "outputs": [],
   "source": [
    "sample_text = ('RT @kapil_kausik: #Doltiwal I mean #xyzabc is \"hurt\" by #Demonetization as the same has rendered USELESS <U+00A0><U+00BD><U+00B1><U+0089> \"acquired funds\" No wo')"
   ]
  },
  {
   "cell_type": "code",
   "execution_count": 298,
   "id": "23d94751",
   "metadata": {},
   "outputs": [],
   "source": [
    "def extract_hashtags(sam_text):\n",
    "    hashtags = re.findall(r'#\\w+', sam_text)\n",
    "    return hashtags"
   ]
  },
  {
   "cell_type": "code",
   "execution_count": 299,
   "id": "d39267a4",
   "metadata": {},
   "outputs": [
    {
     "name": "stdout",
     "output_type": "stream",
     "text": [
      "['#Doltiwal', '#xyzabc', '#Demonetization']\n"
     ]
    }
   ],
   "source": [
    "print(extract_hashtags(sample_text))"
   ]
  },
  {
   "cell_type": "markdown",
   "id": "a7d2204e",
   "metadata": {},
   "source": [
    "Question 28- Write a python program using RegEx to remove <U+..> like symbols\n",
    "Check the below sample text, there are strange symbols something of the sort <U+..> all over the place. You need to come up with a general Regex expression that will cover all such symbols.\n",
    "Sample Text: \"@Jags123456 Bharat band on 28??<ed><U+00A0><U+00BD><ed><U+00B8><U+0082>Those who  are protesting #demonetization  are all different party leaders\"\n"
   ]
  },
  {
   "cell_type": "code",
   "execution_count": 303,
   "id": "8d9fdcba",
   "metadata": {},
   "outputs": [],
   "source": [
    "sample = ('@Jags123456 Bharat band on 28??<ed><U+00A0><U+00BD><ed><U+00B8><U+0082>Those who  are protesting #demonetization  are all different party leaders')"
   ]
  },
  {
   "cell_type": "code",
   "execution_count": 304,
   "id": "96bd2202",
   "metadata": {},
   "outputs": [
    {
     "name": "stdout",
     "output_type": "stream",
     "text": [
      "@Jags123456 Bharat band on 28??<ed><ed>Those who  are protesting #demonetization  are all different party leaders\n"
     ]
    }
   ],
   "source": [
    "pattern = (r'<U\\+\\w{4}>')\n",
    "Ans_1 = re.sub(pattern, \"\", sample)\n",
    "print(Ans_1)"
   ]
  },
  {
   "cell_type": "markdown",
   "id": "929788e6",
   "metadata": {},
   "source": [
    "Question 29- Write a python program to extract dates from the text stored in the text file.\n",
    "Sample Text: Ron was born on 12-09-1992 and he was admitted to school 15-12-1999.\n",
    "Note- Store this sample text in the file and then extract dates.\n"
   ]
  },
  {
   "cell_type": "code",
   "execution_count": 325,
   "id": "12ba6e16",
   "metadata": {},
   "outputs": [
    {
     "name": "stdout",
     "output_type": "stream",
     "text": [
      "12-09-1992\n",
      "15-12-1999\n"
     ]
    }
   ],
   "source": [
    "with open('Desktop/sample.txt', 'r') as file:\n",
    "    text_6 = file.read()\n",
    "    pattern =  (r'\\d{2}-\\d{2}-\\d{4}')\n",
    "    dates = re.findall(pattern, text_6)\n",
    "    for date in dates:\n",
    "        print(date)"
   ]
  },
  {
   "cell_type": "markdown",
   "id": "50acf94d",
   "metadata": {},
   "source": [
    "Question 30- Create a function in python to remove all words from a string of length between 2 and 4.\n",
    "The use of the re.compile() method is mandatory.\n",
    "Sample Text: \"The following example creates an ArrayList with a capacity of 50 elements. 4 elements are then added to the ArrayList and the ArrayList is trimmed accordingly.\"\n",
    "Expected Output:  following example creates ArrayList a capacity elements. 4 elements added ArrayList ArrayList trimmed accordingly.\n"
   ]
  },
  {
   "cell_type": "code",
   "execution_count": 326,
   "id": "73791c84",
   "metadata": {},
   "outputs": [],
   "source": [
    "sam_Text =(\"The following example creates an ArrayList with a capacity of 50 elements. 4 elements are then added to the ArrayList and the ArrayList is trimmed accordingly\")"
   ]
  },
  {
   "cell_type": "code",
   "execution_count": 334,
   "id": "6c070810",
   "metadata": {},
   "outputs": [],
   "source": [
    "def remove_words(Str):\n",
    "    pattern = re.compile(r'\\b\\w{2,4}\\b')\n",
    "    update_Str = re.sub(pattern, \"\", Str)\n",
    "    return update_Str"
   ]
  },
  {
   "cell_type": "code",
   "execution_count": 335,
   "id": "c6d710ec",
   "metadata": {},
   "outputs": [
    {
     "name": "stdout",
     "output_type": "stream",
     "text": [
      " following example creates  ArrayList  a capacity   elements. 4 elements   added   ArrayList   ArrayList  trimmed accordingly\n"
     ]
    }
   ],
   "source": [
    "print(remove_words(sam_Text))"
   ]
  }
 ],
 "metadata": {
  "kernelspec": {
   "display_name": "Python 3 (ipykernel)",
   "language": "python",
   "name": "python3"
  },
  "language_info": {
   "codemirror_mode": {
    "name": "ipython",
    "version": 3
   },
   "file_extension": ".py",
   "mimetype": "text/x-python",
   "name": "python",
   "nbconvert_exporter": "python",
   "pygments_lexer": "ipython3",
   "version": "3.11.5"
  }
 },
 "nbformat": 4,
 "nbformat_minor": 5
}
